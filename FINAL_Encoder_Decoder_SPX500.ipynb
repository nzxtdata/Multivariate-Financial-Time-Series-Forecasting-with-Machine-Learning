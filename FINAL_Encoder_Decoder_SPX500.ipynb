{
  "nbformat": 4,
  "nbformat_minor": 0,
  "metadata": {
    "colab": {
      "name": "FINAL Encoder_Decoder SPX500.ipynb",
      "provenance": [],
      "collapsed_sections": []
    },
    "kernelspec": {
      "display_name": "Python 3",
      "language": "python",
      "name": "python3"
    },
    "language_info": {
      "codemirror_mode": {
        "name": "ipython",
        "version": 3
      },
      "file_extension": ".py",
      "mimetype": "text/x-python",
      "name": "python",
      "nbconvert_exporter": "python",
      "pygments_lexer": "ipython3",
      "version": "3.9.5"
    },
    "latex_envs": {
      "LaTeX_envs_menu_present": true,
      "autoclose": false,
      "autocomplete": true,
      "bibliofile": "biblio.bib",
      "cite_by": "apalike",
      "current_citInitial": 1,
      "eqLabelWithNumbers": true,
      "eqNumInitial": 1,
      "hotkeys": {
        "equation": "Ctrl-E",
        "itemize": "Ctrl-I"
      },
      "labels_anchors": false,
      "latex_user_defs": false,
      "report_style_numbering": false,
      "user_envs_cfg": false
    },
    "nbTranslate": {
      "displayLangs": [
        "*"
      ],
      "hotkey": "alt-t",
      "langInMainMenu": true,
      "sourceLang": "en",
      "targetLang": "fr",
      "useGoogleTranslate": true
    }
  },
  "cells": [
    {
      "cell_type": "code",
      "metadata": {
        "ExecuteTime": {
          "end_time": "2020-03-02T15:15:24.546918Z",
          "start_time": "2020-03-02T15:15:24.541895Z"
        },
        "id": "P0OCDK1aciUE"
      },
      "source": [
        "import pandas as pd\n",
        "import numpy as np\n",
        "import tensorflow as tf\n",
        "from sklearn import preprocessing\n",
        "import matplotlib.pyplot as plt\n",
        "tf.random.set_seed(1)\n",
        "np.random.seed(1)"
      ],
      "execution_count": 1,
      "outputs": []
    },
    {
      "cell_type": "code",
      "metadata": {
        "ExecuteTime": {
          "end_time": "2020-03-02T15:15:30.273612Z",
          "start_time": "2020-03-02T15:15:30.185819Z"
        },
        "id": "Cmb9ipvyciUH"
      },
      "source": [
        "url='https://raw.githubusercontent.com/nzxtdata/Multivariate-Financial-Time-Series-Forecasting-with-Machine-Learning/main/SPXfundamental.csv'\n",
        "df1 = pd.read_csv(url, parse_dates= True)\n",
        "df=df1.copy()\n",
        "df.Date = pd.to_datetime(df.Date)\n",
        "df.set_index(\"Date\", inplace=True)\n",
        "df = df[df.index.year <= 2020]\n",
        "df=df.asfreq('b')\n",
        "df=df.fillna(method='ffill')"
      ],
      "execution_count": 2,
      "outputs": []
    },
    {
      "cell_type": "code",
      "metadata": {
        "colab": {
          "base_uri": "https://localhost:8080/"
        },
        "id": "dVNOjGsxICpV",
        "outputId": "ab859b87-2dd8-4e77-d1bc-f5aceb6919c5"
      },
      "source": [
        "df.shape"
      ],
      "execution_count": 3,
      "outputs": [
        {
          "output_type": "execute_result",
          "data": {
            "text/plain": [
              "(4634, 10)"
            ]
          },
          "metadata": {
            "tags": []
          },
          "execution_count": 3
        }
      ]
    },
    {
      "cell_type": "code",
      "metadata": {
        "id": "7gS1HMUVxlOi"
      },
      "source": [
        "df['returns'] = df.spxclose.pct_change(1).mul(100)\n",
        "df = df.iloc[2:]"
      ],
      "execution_count": 5,
      "outputs": []
    },
    {
      "cell_type": "code",
      "metadata": {
        "ExecuteTime": {
          "end_time": "2020-03-02T15:15:32.505614Z",
          "start_time": "2020-03-02T15:15:32.484670Z"
        },
        "colab": {
          "base_uri": "https://localhost:8080/",
          "height": 232
        },
        "id": "HJb0zlkRciUH",
        "outputId": "56ecf461-bfb2-4e52-cf9a-8fc1d123c1da"
      },
      "source": [
        "df.tail()"
      ],
      "execution_count": 6,
      "outputs": [
        {
          "output_type": "execute_result",
          "data": {
            "text/html": [
              "<div>\n",
              "<style scoped>\n",
              "    .dataframe tbody tr th:only-of-type {\n",
              "        vertical-align: middle;\n",
              "    }\n",
              "\n",
              "    .dataframe tbody tr th {\n",
              "        vertical-align: top;\n",
              "    }\n",
              "\n",
              "    .dataframe thead th {\n",
              "        text-align: right;\n",
              "    }\n",
              "</style>\n",
              "<table border=\"1\" class=\"dataframe\">\n",
              "  <thead>\n",
              "    <tr style=\"text-align: right;\">\n",
              "      <th></th>\n",
              "      <th>spxopen</th>\n",
              "      <th>spxhigh</th>\n",
              "      <th>spxlow</th>\n",
              "      <th>spxclose</th>\n",
              "      <th>spxvolume</th>\n",
              "      <th>US_treasury_yield</th>\n",
              "      <th>OPEC/ORB - Value</th>\n",
              "      <th>us_gdp_qoq</th>\n",
              "      <th>us_unemployment_ra_%</th>\n",
              "      <th>us_longterm_ir_%</th>\n",
              "      <th>returns</th>\n",
              "    </tr>\n",
              "    <tr>\n",
              "      <th>Date</th>\n",
              "      <th></th>\n",
              "      <th></th>\n",
              "      <th></th>\n",
              "      <th></th>\n",
              "      <th></th>\n",
              "      <th></th>\n",
              "      <th></th>\n",
              "      <th></th>\n",
              "      <th></th>\n",
              "      <th></th>\n",
              "      <th></th>\n",
              "    </tr>\n",
              "  </thead>\n",
              "  <tbody>\n",
              "    <tr>\n",
              "      <th>2020-12-25</th>\n",
              "      <td>3694.030029</td>\n",
              "      <td>3703.820068</td>\n",
              "      <td>3689.320068</td>\n",
              "      <td>3703.060059</td>\n",
              "      <td>1.885090e+09</td>\n",
              "      <td>0.12</td>\n",
              "      <td>40.65</td>\n",
              "      <td>-2.848345</td>\n",
              "      <td>8.800000</td>\n",
              "      <td>0.650000</td>\n",
              "      <td>0.000000</td>\n",
              "    </tr>\n",
              "    <tr>\n",
              "      <th>2020-12-28</th>\n",
              "      <td>3723.030029</td>\n",
              "      <td>3740.510010</td>\n",
              "      <td>3723.030029</td>\n",
              "      <td>3735.360107</td>\n",
              "      <td>3.527460e+09</td>\n",
              "      <td>0.12</td>\n",
              "      <td>40.65</td>\n",
              "      <td>-2.848345</td>\n",
              "      <td>8.800000</td>\n",
              "      <td>0.650000</td>\n",
              "      <td>0.872253</td>\n",
              "    </tr>\n",
              "    <tr>\n",
              "      <th>2020-12-29</th>\n",
              "      <td>3750.010010</td>\n",
              "      <td>3756.120117</td>\n",
              "      <td>3723.310059</td>\n",
              "      <td>3727.040039</td>\n",
              "      <td>3.387030e+09</td>\n",
              "      <td>0.12</td>\n",
              "      <td>40.65</td>\n",
              "      <td>-2.848345</td>\n",
              "      <td>8.800000</td>\n",
              "      <td>0.650000</td>\n",
              "      <td>-0.222738</td>\n",
              "    </tr>\n",
              "    <tr>\n",
              "      <th>2020-12-30</th>\n",
              "      <td>3736.189941</td>\n",
              "      <td>3744.629883</td>\n",
              "      <td>3730.209961</td>\n",
              "      <td>3732.040039</td>\n",
              "      <td>3.145200e+09</td>\n",
              "      <td>0.12</td>\n",
              "      <td>40.65</td>\n",
              "      <td>-2.848345</td>\n",
              "      <td>8.800000</td>\n",
              "      <td>0.650000</td>\n",
              "      <td>0.134155</td>\n",
              "    </tr>\n",
              "    <tr>\n",
              "      <th>2020-12-31</th>\n",
              "      <td>3733.270020</td>\n",
              "      <td>3760.199951</td>\n",
              "      <td>3726.879883</td>\n",
              "      <td>3756.070068</td>\n",
              "      <td>3.172510e+09</td>\n",
              "      <td>0.09</td>\n",
              "      <td>50.24</td>\n",
              "      <td>-2.386694</td>\n",
              "      <td>6.766667</td>\n",
              "      <td>0.863333</td>\n",
              "      <td>0.643885</td>\n",
              "    </tr>\n",
              "  </tbody>\n",
              "</table>\n",
              "</div>"
            ],
            "text/plain": [
              "                spxopen      spxhigh  ...  us_longterm_ir_%   returns\n",
              "Date                                  ...                            \n",
              "2020-12-25  3694.030029  3703.820068  ...          0.650000  0.000000\n",
              "2020-12-28  3723.030029  3740.510010  ...          0.650000  0.872253\n",
              "2020-12-29  3750.010010  3756.120117  ...          0.650000 -0.222738\n",
              "2020-12-30  3736.189941  3744.629883  ...          0.650000  0.134155\n",
              "2020-12-31  3733.270020  3760.199951  ...          0.863333  0.643885\n",
              "\n",
              "[5 rows x 11 columns]"
            ]
          },
          "metadata": {
            "tags": []
          },
          "execution_count": 6
        }
      ]
    },
    {
      "cell_type": "code",
      "metadata": {
        "ExecuteTime": {
          "end_time": "2020-03-02T15:15:33.957734Z",
          "start_time": "2020-03-02T15:15:33.914878Z"
        },
        "colab": {
          "base_uri": "https://localhost:8080/",
          "height": 294
        },
        "id": "FC0C9t_nciUI",
        "outputId": "294dc787-49d3-4b00-9b1b-62cb38c30341"
      },
      "source": [
        "df.describe()"
      ],
      "execution_count": 7,
      "outputs": [
        {
          "output_type": "execute_result",
          "data": {
            "text/html": [
              "<div>\n",
              "<style scoped>\n",
              "    .dataframe tbody tr th:only-of-type {\n",
              "        vertical-align: middle;\n",
              "    }\n",
              "\n",
              "    .dataframe tbody tr th {\n",
              "        vertical-align: top;\n",
              "    }\n",
              "\n",
              "    .dataframe thead th {\n",
              "        text-align: right;\n",
              "    }\n",
              "</style>\n",
              "<table border=\"1\" class=\"dataframe\">\n",
              "  <thead>\n",
              "    <tr style=\"text-align: right;\">\n",
              "      <th></th>\n",
              "      <th>spxopen</th>\n",
              "      <th>spxhigh</th>\n",
              "      <th>spxlow</th>\n",
              "      <th>spxclose</th>\n",
              "      <th>spxvolume</th>\n",
              "      <th>US_treasury_yield</th>\n",
              "      <th>OPEC/ORB - Value</th>\n",
              "      <th>us_gdp_qoq</th>\n",
              "      <th>us_unemployment_ra_%</th>\n",
              "      <th>us_longterm_ir_%</th>\n",
              "      <th>returns</th>\n",
              "    </tr>\n",
              "  </thead>\n",
              "  <tbody>\n",
              "    <tr>\n",
              "      <th>count</th>\n",
              "      <td>4632.000000</td>\n",
              "      <td>4632.000000</td>\n",
              "      <td>4632.000000</td>\n",
              "      <td>4632.000000</td>\n",
              "      <td>4.632000e+03</td>\n",
              "      <td>4632.000000</td>\n",
              "      <td>4632.000000</td>\n",
              "      <td>4632.000000</td>\n",
              "      <td>4632.000000</td>\n",
              "      <td>4632.000000</td>\n",
              "      <td>4632.000000</td>\n",
              "    </tr>\n",
              "    <tr>\n",
              "      <th>mean</th>\n",
              "      <td>1739.777877</td>\n",
              "      <td>1749.271045</td>\n",
              "      <td>1729.642984</td>\n",
              "      <td>1740.137130</td>\n",
              "      <td>3.508057e+09</td>\n",
              "      <td>1.275816</td>\n",
              "      <td>65.298715</td>\n",
              "      <td>1.764534</td>\n",
              "      <td>6.278526</td>\n",
              "      <td>3.010775</td>\n",
              "      <td>0.038936</td>\n",
              "    </tr>\n",
              "    <tr>\n",
              "      <th>std</th>\n",
              "      <td>693.526196</td>\n",
              "      <td>695.932133</td>\n",
              "      <td>690.581997</td>\n",
              "      <td>693.456089</td>\n",
              "      <td>1.383824e+09</td>\n",
              "      <td>1.569398</td>\n",
              "      <td>27.608590</td>\n",
              "      <td>2.147769</td>\n",
              "      <td>2.039990</td>\n",
              "      <td>1.125838</td>\n",
              "      <td>1.187188</td>\n",
              "    </tr>\n",
              "    <tr>\n",
              "      <th>min</th>\n",
              "      <td>679.280029</td>\n",
              "      <td>695.270020</td>\n",
              "      <td>666.789978</td>\n",
              "      <td>676.530029</td>\n",
              "      <td>3.560700e+08</td>\n",
              "      <td>0.040000</td>\n",
              "      <td>22.610000</td>\n",
              "      <td>-9.032775</td>\n",
              "      <td>3.600000</td>\n",
              "      <td>0.650000</td>\n",
              "      <td>-11.984055</td>\n",
              "    </tr>\n",
              "    <tr>\n",
              "      <th>25%</th>\n",
              "      <td>1198.757507</td>\n",
              "      <td>1205.907532</td>\n",
              "      <td>1191.474976</td>\n",
              "      <td>1199.337494</td>\n",
              "      <td>2.698880e+09</td>\n",
              "      <td>0.120000</td>\n",
              "      <td>45.630000</td>\n",
              "      <td>1.425725</td>\n",
              "      <td>4.633333</td>\n",
              "      <td>2.263333</td>\n",
              "      <td>-0.370722</td>\n",
              "    </tr>\n",
              "    <tr>\n",
              "      <th>50%</th>\n",
              "      <td>1437.825012</td>\n",
              "      <td>1445.484985</td>\n",
              "      <td>1430.535034</td>\n",
              "      <td>1438.150024</td>\n",
              "      <td>3.472910e+09</td>\n",
              "      <td>0.500000</td>\n",
              "      <td>58.790000</td>\n",
              "      <td>2.183861</td>\n",
              "      <td>5.433333</td>\n",
              "      <td>2.736667</td>\n",
              "      <td>0.046985</td>\n",
              "    </tr>\n",
              "    <tr>\n",
              "      <th>75%</th>\n",
              "      <td>2130.660095</td>\n",
              "      <td>2142.762390</td>\n",
              "      <td>2124.712524</td>\n",
              "      <td>2131.777527</td>\n",
              "      <td>4.155602e+09</td>\n",
              "      <td>1.640000</td>\n",
              "      <td>90.700000</td>\n",
              "      <td>3.119473</td>\n",
              "      <td>7.800000</td>\n",
              "      <td>4.020000</td>\n",
              "      <td>0.526407</td>\n",
              "    </tr>\n",
              "    <tr>\n",
              "      <th>max</th>\n",
              "      <td>3750.010010</td>\n",
              "      <td>3760.199951</td>\n",
              "      <td>3730.209961</td>\n",
              "      <td>3756.070068</td>\n",
              "      <td>1.145623e+10</td>\n",
              "      <td>5.170000</td>\n",
              "      <td>136.030000</td>\n",
              "      <td>4.326363</td>\n",
              "      <td>13.066667</td>\n",
              "      <td>5.070000</td>\n",
              "      <td>11.580037</td>\n",
              "    </tr>\n",
              "  </tbody>\n",
              "</table>\n",
              "</div>"
            ],
            "text/plain": [
              "           spxopen      spxhigh  ...  us_longterm_ir_%      returns\n",
              "count  4632.000000  4632.000000  ...       4632.000000  4632.000000\n",
              "mean   1739.777877  1749.271045  ...          3.010775     0.038936\n",
              "std     693.526196   695.932133  ...          1.125838     1.187188\n",
              "min     679.280029   695.270020  ...          0.650000   -11.984055\n",
              "25%    1198.757507  1205.907532  ...          2.263333    -0.370722\n",
              "50%    1437.825012  1445.484985  ...          2.736667     0.046985\n",
              "75%    2130.660095  2142.762390  ...          4.020000     0.526407\n",
              "max    3750.010010  3760.199951  ...          5.070000    11.580037\n",
              "\n",
              "[8 rows x 11 columns]"
            ]
          },
          "metadata": {
            "tags": []
          },
          "execution_count": 7
        }
      ]
    },
    {
      "cell_type": "code",
      "metadata": {
        "colab": {
          "base_uri": "https://localhost:8080/"
        },
        "id": "q_VEtT16dH6o",
        "outputId": "3882b41d-61c4-4319-9967-c479fa68817e"
      },
      "source": [
        "df.columns"
      ],
      "execution_count": 8,
      "outputs": [
        {
          "output_type": "execute_result",
          "data": {
            "text/plain": [
              "Index(['spxopen', 'spxhigh', 'spxlow', 'spxclose', 'spxvolume',\n",
              "       'US_treasury_yield', 'OPEC/ORB - Value', 'us_gdp_qoq',\n",
              "       'us_unemployment_ra_%', 'us_longterm_ir_%', 'returns'],\n",
              "      dtype='object')"
            ]
          },
          "metadata": {
            "tags": []
          },
          "execution_count": 8
        }
      ]
    },
    {
      "cell_type": "code",
      "metadata": {
        "colab": {
          "base_uri": "https://localhost:8080/"
        },
        "id": "LQmO9tsSICpY",
        "outputId": "0afd82c6-c8f1-41bc-9f69-a034aba971a5"
      },
      "source": [
        "df.shape"
      ],
      "execution_count": 9,
      "outputs": [
        {
          "output_type": "execute_result",
          "data": {
            "text/plain": [
              "(4632, 11)"
            ]
          },
          "metadata": {
            "tags": []
          },
          "execution_count": 9
        }
      ]
    },
    {
      "cell_type": "code",
      "metadata": {
        "ExecuteTime": {
          "end_time": "2020-03-02T15:16:05.155368Z",
          "start_time": "2020-03-02T15:16:05.149383Z"
        },
        "id": "TXnPFIYgciUJ"
      },
      "source": [
        "def custom_ts_multi_data_prep(dataset, target, start, end, window, horizon):\n",
        "    X = []\n",
        "    y = []\n",
        "    start = start + window\n",
        "    if end is None:\n",
        "        end = len(dataset) - horizon\n",
        "\n",
        "    for i in range(start, end):\n",
        "        indices = range(i-window, i)\n",
        "        X.append(dataset[indices])\n",
        "\n",
        "        indicey = range(i+1, i+1+horizon)\n",
        "        y.append(target[indicey])\n",
        "    return np.array(X), np.array(y)"
      ],
      "execution_count": 10,
      "outputs": []
    },
    {
      "cell_type": "code",
      "metadata": {
        "colab": {
          "base_uri": "https://localhost:8080/"
        },
        "id": "GLeeRFyAH5MH",
        "outputId": "e5ea7568-2dbe-415a-bcc8-9c2fe6b0f4a6"
      },
      "source": [
        "df.columns"
      ],
      "execution_count": 11,
      "outputs": [
        {
          "output_type": "execute_result",
          "data": {
            "text/plain": [
              "Index(['spxopen', 'spxhigh', 'spxlow', 'spxclose', 'spxvolume',\n",
              "       'US_treasury_yield', 'OPEC/ORB - Value', 'us_gdp_qoq',\n",
              "       'us_unemployment_ra_%', 'us_longterm_ir_%', 'returns'],\n",
              "      dtype='object')"
            ]
          },
          "metadata": {
            "tags": []
          },
          "execution_count": 11
        }
      ]
    },
    {
      "cell_type": "code",
      "metadata": {
        "ExecuteTime": {
          "end_time": "2020-03-02T15:16:17.737317Z",
          "start_time": "2020-03-02T15:16:17.725346Z"
        },
        "id": "5osgagIdciUK",
        "colab": {
          "base_uri": "https://localhost:8080/"
        },
        "outputId": "5ab0bcb0-cafa-46c9-f1b1-2a0d39b643b9"
      },
      "source": [
        "validate = df[['spxopen', 'spxhigh', 'spxlow', 'spxclose', 'spxvolume',\n",
        "       'US_treasury_yield', 'OPEC/ORB - Value', 'us_gdp_qoq',\n",
        "       'us_unemployment_ra_%', 'us_longterm_ir_%', 'returns']].tail(20)\n",
        "df.drop(df.tail(20).index,inplace=True)"
      ],
      "execution_count": 12,
      "outputs": [
        {
          "output_type": "stream",
          "text": [
            "/usr/local/lib/python3.7/dist-packages/pandas/core/frame.py:4174: SettingWithCopyWarning: \n",
            "A value is trying to be set on a copy of a slice from a DataFrame\n",
            "\n",
            "See the caveats in the documentation: https://pandas.pydata.org/pandas-docs/stable/user_guide/indexing.html#returning-a-view-versus-a-copy\n",
            "  errors=errors,\n"
          ],
          "name": "stderr"
        }
      ]
    },
    {
      "cell_type": "code",
      "metadata": {
        "ExecuteTime": {
          "end_time": "2020-03-02T15:16:22.918504Z",
          "start_time": "2020-03-02T15:16:22.897526Z"
        },
        "id": "ITh9aFlWciUK"
      },
      "source": [
        "x_scaler = preprocessing.MinMaxScaler()\n",
        "y_scaler = preprocessing.MinMaxScaler()\n",
        "dataX = x_scaler.fit_transform(df[['spxopen', 'spxhigh', 'spxlow', 'spxclose', 'spxvolume',\n",
        "       'US_treasury_yield', 'OPEC/ORB - Value', 'us_gdp_qoq',\n",
        "       'us_unemployment_ra_%', 'us_longterm_ir_%', 'returns']])\n",
        "dataY = y_scaler.fit_transform(df[['spxclose']])"
      ],
      "execution_count": 15,
      "outputs": []
    },
    {
      "cell_type": "code",
      "metadata": {
        "colab": {
          "base_uri": "https://localhost:8080/"
        },
        "id": "MqUUWqtDzZiZ",
        "outputId": "d0706476-412a-4385-b315-fd4698dec6d4"
      },
      "source": [
        "df.shape"
      ],
      "execution_count": 35,
      "outputs": [
        {
          "output_type": "execute_result",
          "data": {
            "text/plain": [
              "(4612, 11)"
            ]
          },
          "metadata": {
            "tags": []
          },
          "execution_count": 35
        }
      ]
    },
    {
      "cell_type": "code",
      "metadata": {
        "ExecuteTime": {
          "end_time": "2020-03-02T15:16:54.081228Z",
          "start_time": "2020-03-02T15:16:52.778674Z"
        },
        "id": "2vKy3RG8ciUL"
      },
      "source": [
        "hist_window = 100\n",
        "horizon = 20\n",
        "TRAIN_SPLIT = 4000\n",
        "x_train_multi, y_train_multi = custom_ts_multi_data_prep(\n",
        "    dataX, dataY, 0, TRAIN_SPLIT, hist_window, horizon)\n",
        "x_val_multi, y_val_multi= custom_ts_multi_data_prep(\n",
        "    dataX, dataY, TRAIN_SPLIT, None, hist_window, horizon)"
      ],
      "execution_count": 40,
      "outputs": []
    },
    {
      "cell_type": "code",
      "metadata": {
        "colab": {
          "base_uri": "https://localhost:8080/"
        },
        "id": "GOR10GnSICpa",
        "outputId": "93ac48e6-4080-4b3e-dfd6-b01f8297bf06"
      },
      "source": [
        "x_val_multi.shape"
      ],
      "execution_count": 41,
      "outputs": [
        {
          "output_type": "execute_result",
          "data": {
            "text/plain": [
              "(492, 100, 11)"
            ]
          },
          "metadata": {
            "tags": []
          },
          "execution_count": 41
        }
      ]
    },
    {
      "cell_type": "code",
      "metadata": {
        "ExecuteTime": {
          "end_time": "2020-03-02T15:16:58.535291Z",
          "start_time": "2020-03-02T15:16:58.522325Z"
        },
        "colab": {
          "base_uri": "https://localhost:8080/"
        },
        "id": "YjsYL1nZciUL",
        "scrolled": true,
        "outputId": "db6e2015-7791-4169-d46a-d5efb3e4c999"
      },
      "source": [
        "print ('Single window of past history')\n",
        "print(x_train_multi[0])\n",
        "print ('\\n Target horizon')\n",
        "print (y_train_multi[0])"
      ],
      "execution_count": 20,
      "outputs": [
        {
          "output_type": "stream",
          "text": [
            "Single window of past history\n",
            "[[0.05995315 0.06336486 0.06410222 ... 0.23943662 0.739819   0.6194023 ]\n",
            " [0.067454   0.06380671 0.07000114 ... 0.23943662 0.739819   0.48713477]\n",
            " [0.0659652  0.06274895 0.06936911 ... 0.23943662 0.739819   0.5201933 ]\n",
            " ...\n",
            " [0.10412512 0.09945572 0.10711348 ... 0.26760563 0.6719457  0.50925814]\n",
            " [0.10417864 0.10212018 0.10830731 ... 0.26760563 0.6719457  0.54742605]\n",
            " [0.1072131  0.10310765 0.10985561 ... 0.26760563 0.6719457  0.51965175]]\n",
            "\n",
            " Target horizon\n",
            "[[0.10918703]\n",
            " [0.10577513]\n",
            " [0.10599235]\n",
            " [0.10700153]\n",
            " [0.10702158]\n",
            " [0.10904334]\n",
            " [0.11077099]\n",
            " [0.11077099]\n",
            " [0.1154427 ]\n",
            " [0.11687296]\n",
            " [0.11744103]\n",
            " [0.1152422 ]\n",
            " [0.11866746]\n",
            " [0.11583702]\n",
            " [0.11174342]\n",
            " [0.11358136]\n",
            " [0.11431989]\n",
            " [0.11304335]\n",
            " [0.11789216]\n",
            " [0.11677269]]\n"
          ],
          "name": "stdout"
        }
      ]
    },
    {
      "cell_type": "code",
      "metadata": {
        "ExecuteTime": {
          "end_time": "2020-03-02T15:17:08.042920Z",
          "start_time": "2020-03-02T15:17:06.834116Z"
        },
        "id": "0jSe_yWSciUL"
      },
      "source": [
        "BATCH_SIZE = 256\n",
        "BUFFER_SIZE = 150\n",
        "\n",
        "train_data_multi = tf.data.Dataset.from_tensor_slices((x_train_multi, y_train_multi))\n",
        "train_data_multi = train_data_multi.cache().shuffle(BUFFER_SIZE).batch(BATCH_SIZE).repeat()\n",
        "\n",
        "val_data_multi = tf.data.Dataset.from_tensor_slices((x_val_multi, y_val_multi))\n",
        "val_data_multi = val_data_multi.batch(BATCH_SIZE).repeat()"
      ],
      "execution_count": 21,
      "outputs": []
    },
    {
      "cell_type": "code",
      "metadata": {
        "ExecuteTime": {
          "end_time": "2020-03-02T15:17:19.832413Z",
          "start_time": "2020-03-02T15:17:18.297484Z"
        },
        "id": "c271vxvzciUM"
      },
      "source": [
        "ED_lstm_model = tf.keras.models.Sequential([\n",
        "    tf.keras.layers.LSTM(64, input_shape=x_train_multi.shape[-2:], return_sequences=True),\n",
        "    tf.keras.layers.LSTM(units=32,return_sequences=True),\n",
        "    tf.keras.layers.LSTM(units=15),\n",
        "    tf.keras.layers.RepeatVector(y_train_multi.shape[1]), \n",
        "    tf.keras.layers.LSTM(units=64,return_sequences=True),\n",
        "    tf.keras.layers.LSTM(units=32,return_sequences=True),\n",
        "    tf.keras.layers.TimeDistributed(tf.keras.layers.Dense(units=1))\n",
        "])\n",
        "ED_lstm_model.compile(optimizer='adam', loss='mse')\n"
      ],
      "execution_count": 22,
      "outputs": []
    },
    {
      "cell_type": "code",
      "metadata": {
        "ExecuteTime": {
          "end_time": "2020-03-02T15:17:27.490949Z",
          "start_time": "2020-03-02T15:17:27.486925Z"
        },
        "id": "ItRidWXbciUM"
      },
      "source": [
        "model_path = 'Encoder_Decoder_LSTM_Multivariate.h5'"
      ],
      "execution_count": 23,
      "outputs": []
    },
    {
      "cell_type": "code",
      "metadata": {
        "ExecuteTime": {
          "end_time": "2020-03-02T15:21:08.890280Z",
          "start_time": "2020-03-02T15:17:37.179025Z"
        },
        "colab": {
          "base_uri": "https://localhost:8080/"
        },
        "id": "UugkKs0QciUM",
        "outputId": "df6a22c0-b335-42d0-cf48-4417a2bdf950"
      },
      "source": [
        "model_path = 'Encoder_Decoder_LSTM_Multivariate.h5'\n",
        "EVALUATION_INTERVAL = 100\n",
        "EPOCHS = 100\n",
        "history = ED_lstm_model.fit(train_data_multi, epochs=EPOCHS,steps_per_epoch=EVALUATION_INTERVAL,validation_data=val_data_multi, validation_steps=50,verbose =1,\n",
        "                              callbacks =[\n",
        "                                  tf.keras.callbacks.EarlyStopping(monitor='val_loss', min_delta=0, patience=10, verbose=1, mode='min'),\n",
        "                                  tf.keras.callbacks.ModelCheckpoint(model_path,monitor='val_loss', save_best_only=True, mode='min', verbose=0)\n",
        "                              ]\n",
        "                           )"
      ],
      "execution_count": 24,
      "outputs": [
        {
          "output_type": "stream",
          "text": [
            "Epoch 1/100\n",
            "100/100 [==============================] - 53s 451ms/step - loss: 0.0409 - val_loss: 0.0776\n",
            "Epoch 2/100\n",
            "100/100 [==============================] - 43s 436ms/step - loss: 0.0109 - val_loss: 0.0480\n",
            "Epoch 3/100\n",
            "100/100 [==============================] - 43s 432ms/step - loss: 0.0068 - val_loss: 0.0285\n",
            "Epoch 4/100\n",
            "100/100 [==============================] - 43s 431ms/step - loss: 0.0088 - val_loss: 0.0370\n",
            "Epoch 5/100\n",
            "100/100 [==============================] - 43s 430ms/step - loss: 0.0048 - val_loss: 0.0423\n",
            "Epoch 6/100\n",
            "100/100 [==============================] - 43s 434ms/step - loss: 0.0050 - val_loss: 0.0499\n",
            "Epoch 7/100\n",
            "100/100 [==============================] - 43s 431ms/step - loss: 0.0039 - val_loss: 0.0557\n",
            "Epoch 8/100\n",
            "100/100 [==============================] - 43s 427ms/step - loss: 0.0036 - val_loss: 0.0337\n",
            "Epoch 9/100\n",
            "100/100 [==============================] - 43s 430ms/step - loss: 0.0025 - val_loss: 0.0214\n",
            "Epoch 10/100\n",
            "100/100 [==============================] - 43s 433ms/step - loss: 0.0019 - val_loss: 0.0152\n",
            "Epoch 11/100\n",
            "100/100 [==============================] - 43s 434ms/step - loss: 0.0021 - val_loss: 0.0136\n",
            "Epoch 12/100\n",
            "100/100 [==============================] - 43s 427ms/step - loss: 0.0017 - val_loss: 0.0171\n",
            "Epoch 13/100\n",
            "100/100 [==============================] - 43s 433ms/step - loss: 0.0017 - val_loss: 0.0245\n",
            "Epoch 14/100\n",
            "100/100 [==============================] - 43s 432ms/step - loss: 0.0018 - val_loss: 0.0328\n",
            "Epoch 15/100\n",
            "100/100 [==============================] - 43s 431ms/step - loss: 0.0016 - val_loss: 0.0303\n",
            "Epoch 16/100\n",
            "100/100 [==============================] - 43s 429ms/step - loss: 0.0020 - val_loss: 0.0289\n",
            "Epoch 17/100\n",
            "100/100 [==============================] - 42s 425ms/step - loss: 0.0017 - val_loss: 0.0175\n",
            "Epoch 18/100\n",
            "100/100 [==============================] - 43s 426ms/step - loss: 0.0039 - val_loss: 0.0101\n",
            "Epoch 19/100\n",
            "100/100 [==============================] - 44s 438ms/step - loss: 0.0031 - val_loss: 0.0140\n",
            "Epoch 20/100\n",
            "100/100 [==============================] - 43s 435ms/step - loss: 9.3148e-04 - val_loss: 0.0148\n",
            "Epoch 21/100\n",
            "100/100 [==============================] - 44s 436ms/step - loss: 8.9429e-04 - val_loss: 0.0210\n",
            "Epoch 22/100\n",
            "100/100 [==============================] - 43s 432ms/step - loss: 0.0019 - val_loss: 0.0276\n",
            "Epoch 23/100\n",
            "100/100 [==============================] - 44s 436ms/step - loss: 0.0011 - val_loss: 0.0264\n",
            "Epoch 24/100\n",
            "100/100 [==============================] - 43s 435ms/step - loss: 0.0015 - val_loss: 0.0270\n",
            "Epoch 25/100\n",
            "100/100 [==============================] - 44s 436ms/step - loss: 0.0013 - val_loss: 0.0171\n",
            "Epoch 26/100\n",
            "100/100 [==============================] - 43s 435ms/step - loss: 0.0014 - val_loss: 0.0140\n",
            "Epoch 27/100\n",
            "100/100 [==============================] - 43s 435ms/step - loss: 0.0014 - val_loss: 0.0131\n",
            "Epoch 28/100\n",
            "100/100 [==============================] - 43s 433ms/step - loss: 0.0014 - val_loss: 0.0164\n",
            "Epoch 00028: early stopping\n"
          ],
          "name": "stdout"
        }
      ]
    },
    {
      "cell_type": "code",
      "metadata": {
        "ExecuteTime": {
          "end_time": "2020-03-02T15:21:19.372267Z",
          "start_time": "2020-03-02T15:21:15.871622Z"
        },
        "id": "P8i9A-0kciUM"
      },
      "source": [
        "Trained_model = tf.keras.models.load_model(model_path)"
      ],
      "execution_count": 25,
      "outputs": []
    },
    {
      "cell_type": "code",
      "metadata": {
        "ExecuteTime": {
          "end_time": "2020-03-02T15:21:20.013556Z",
          "start_time": "2020-03-02T15:21:20.006572Z"
        },
        "colab": {
          "base_uri": "https://localhost:8080/"
        },
        "id": "gI_VxoBnciUN",
        "outputId": "77e0d3db-2107-46a7-d446-1395e8a94ae5"
      },
      "source": [
        "# Show the model architecture\n",
        "Trained_model.summary()"
      ],
      "execution_count": 26,
      "outputs": [
        {
          "output_type": "stream",
          "text": [
            "Model: \"sequential\"\n",
            "_________________________________________________________________\n",
            "Layer (type)                 Output Shape              Param #   \n",
            "=================================================================\n",
            "lstm (LSTM)                  (None, 100, 64)           19456     \n",
            "_________________________________________________________________\n",
            "lstm_1 (LSTM)                (None, 100, 32)           12416     \n",
            "_________________________________________________________________\n",
            "lstm_2 (LSTM)                (None, 15)                2880      \n",
            "_________________________________________________________________\n",
            "repeat_vector (RepeatVector) (None, 20, 15)            0         \n",
            "_________________________________________________________________\n",
            "lstm_3 (LSTM)                (None, 20, 64)            20480     \n",
            "_________________________________________________________________\n",
            "lstm_4 (LSTM)                (None, 20, 32)            12416     \n",
            "_________________________________________________________________\n",
            "time_distributed (TimeDistri (None, 20, 1)             33        \n",
            "=================================================================\n",
            "Total params: 67,681\n",
            "Trainable params: 67,681\n",
            "Non-trainable params: 0\n",
            "_________________________________________________________________\n"
          ],
          "name": "stdout"
        }
      ]
    },
    {
      "cell_type": "code",
      "metadata": {
        "ExecuteTime": {
          "end_time": "2020-03-02T15:21:24.103660Z",
          "start_time": "2020-03-02T15:21:23.814400Z"
        },
        "colab": {
          "base_uri": "https://localhost:8080/",
          "height": 294
        },
        "id": "PwOi1wpjciUN",
        "outputId": "6dc6e68a-ce5d-44f2-cb16-41253c8a6909"
      },
      "source": [
        "plt.plot(history.history['loss'])\n",
        "plt.plot(history.history['val_loss'])\n",
        "plt.title('Model loss')\n",
        "plt.ylabel('loss')\n",
        "plt.xlabel('epoch')\n",
        "plt.legend(['train loss', 'validation loss'], loc='upper left')\n",
        "plt.rcParams[\"figure.figsize\"] = [20,6]\n",
        "plt.show()"
      ],
      "execution_count": 27,
      "outputs": [
        {
          "output_type": "display_data",
          "data": {
            "image/png": "[encoded data removed]",
            "text/plain": [
              "<Figure size 432x288 with 1 Axes>"
            ]
          },
          "metadata": {
            "tags": [],
            "needs_background": "light"
          }
        }
      ]
    },
    {
      "cell_type": "code",
      "metadata": {
        "ExecuteTime": {
          "end_time": "2020-03-02T15:21:26.407468Z",
          "start_time": "2020-03-02T15:21:26.398525Z"
        },
        "id": "Rj9lfrGMciUN",
        "colab": {
          "base_uri": "https://localhost:8080/"
        },
        "outputId": "315d861f-3e7b-412e-917f-07499a40bddf"
      },
      "source": [
        "data_val = x_scaler.fit_transform(df[['spxopen', 'spxhigh', 'spxlow', 'spxclose', 'spxvolume',\n",
        "       'US_treasury_yield', 'OPEC/ORB - Value', 'us_gdp_qoq',\n",
        "       'us_unemployment_ra_%', 'us_longterm_ir_%', 'returns']].tail(20))\n",
        "\n",
        "val_rescaled = data_val.reshape(1, data_val.shape[0], data_val.shape[1])\n",
        "\n",
        "Predicted_results = Trained_model.predict(val_rescaled)\n",
        "Predicted_results_Inv_trans = y_scaler.inverse_transform(Predicted_results.reshape(-1,1))"
      ],
      "execution_count": 28,
      "outputs": [
        {
          "output_type": "stream",
          "text": [
            "WARNING:tensorflow:Model was constructed with shape (None, 100, 11) for input KerasTensor(type_spec=TensorSpec(shape=(None, 100, 11), dtype=tf.float32, name='lstm_input'), name='lstm_input', description=\"created by layer 'lstm_input'\"), but it was called on an input with incompatible shape (None, 20, 11).\n"
          ],
          "name": "stdout"
        }
      ]
    },
    {
      "cell_type": "code",
      "metadata": {
        "ExecuteTime": {
          "end_time": "2020-03-02T15:21:27.461654Z",
          "start_time": "2020-03-02T15:21:27.457668Z"
        },
        "id": "XBxImKtkciUN"
      },
      "source": [
        "testing = validate[['spxopen', 'spxhigh', 'spxlow', 'spxclose']].copy()\n",
        "testing['pred'] = Predicted_results_Inv_trans"
      ],
      "execution_count": 29,
      "outputs": []
    },
    {
      "cell_type": "code",
      "metadata": {
        "ExecuteTime": {
          "end_time": "2020-03-02T15:21:29.541129Z",
          "start_time": "2020-03-02T15:21:28.742236Z"
        },
        "colab": {
          "base_uri": "https://localhost:8080/",
          "height": 392
        },
        "id": "rk9lwZtQciUN",
        "outputId": "f56eb010-c7ef-4b66-90e8-eb6c8048ab00"
      },
      "source": [
        "f, ax = plt.subplots(figsize=(15,6))\n",
        "\n",
        "past = df[(df.index >= \"2020-11-01\") & (df.index < \"2020-12-01\")][['spxhigh', 'spxlow', 'spxclose']]\n",
        "ax.plot(testing[['pred']], color = 'orangered', label='Prediction')\n",
        "ax.plot(testing[['spxclose']], color = 'limegreen', label='SPX_CLOSE')\n",
        "ax.plot(past[['spxclose']], color = 'cornflowerblue', label='Past SPX_CLOSE')\n",
        "\n",
        "\n",
        "# ax.fill_between(test.ds, test.pred_lower, test.pred_upper, color='lightcoral', alpha=0.5)\n",
        "ax.fill_between(testing.index, testing.spxlow, testing.spxhigh, color='lightgreen', alpha=0.5)\n",
        "ax.fill_between(past.index, past.spxlow, past.spxhigh, color='lightskyblue', alpha=0.5)\n",
        "\n",
        "ax.set_title(\"Multivariate Encoder-Decoder LSTM Forecasting\", size = 15)\n",
        "ax.legend()\n",
        "\n",
        "plt.show()"
      ],
      "execution_count": 30,
      "outputs": [
        {
          "output_type": "display_data",
          "data": {
            "image/png": "[encoded data removed]",
            "text/plain": [
              "<Figure size 1080x432 with 1 Axes>"
            ]
          },
          "metadata": {
            "tags": [],
            "needs_background": "light"
          }
        }
      ]
    },
    {
      "cell_type": "code",
      "metadata": {
        "ExecuteTime": {
          "end_time": "2020-03-02T15:22:04.591469Z",
          "start_time": "2020-03-02T15:22:04.554531Z"
        },
        "id": "f7IwAcOlciUP"
      },
      "source": [
        "from sklearn import metrics\n",
        "def timeseries_evaluation_metrics_func(y_true, y_pred):\n",
        "    \n",
        "    def mean_absolute_percentage_error(y_true, y_pred): \n",
        "        y_true, y_pred = np.array(y_true), np.array(y_pred)\n",
        "        return np.mean(np.abs((y_true - y_pred) / y_true)) * 100\n",
        "    print('Evaluation metric results:-')\n",
        "    print(f'MSE is : {metrics.mean_squared_error(y_true, y_pred)}')\n",
        "    print(f'MAE is : {metrics.mean_absolute_error(y_true, y_pred)}')\n",
        "    print(f'RMSE is : {np.sqrt(metrics.mean_squared_error(y_true, y_pred))}')\n",
        "    print(f'MAPE is : {mean_absolute_percentage_error(y_true, y_pred)}')\n",
        "    print(f'R2 is : {metrics.r2_score(y_true, y_pred)}',end='\\n\\n')"
      ],
      "execution_count": 31,
      "outputs": []
    },
    {
      "cell_type": "code",
      "metadata": {
        "ExecuteTime": {
          "end_time": "2020-03-02T15:22:20.897856Z",
          "start_time": "2020-03-02T15:22:20.890877Z"
        },
        "colab": {
          "base_uri": "https://localhost:8080/"
        },
        "id": "XFgcPk8OciUP",
        "outputId": "eee70c31-bfd9-4f41-d3b9-60956e0ab095"
      },
      "source": [
        "timeseries_evaluation_metrics_func(testing['spxclose'],testing['pred'])"
      ],
      "execution_count": 33,
      "outputs": [
        {
          "output_type": "stream",
          "text": [
            "Evaluation metric results:-\n",
            "MSE is : 757188.3898905546\n",
            "MAE is : 869.8312377929688\n",
            "RMSE is : 870.1657255319556\n",
            "MAPE is : 23.506950183000413\n",
            "R2 is : -1163.7322837966933\n",
            "\n"
          ],
          "name": "stdout"
        }
      ]
    },
    {
      "cell_type": "code",
      "metadata": {
        "id": "WCiXGbqfICpf",
        "colab": {
          "base_uri": "https://localhost:8080/",
          "height": 692
        },
        "outputId": "eabdb6b9-3402-4fbd-c908-5c96256371ae"
      },
      "source": [
        "testing"
      ],
      "execution_count": 34,
      "outputs": [
        {
          "output_type": "execute_result",
          "data": {
            "text/html": [
              "<div>\n",
              "<style scoped>\n",
              "    .dataframe tbody tr th:only-of-type {\n",
              "        vertical-align: middle;\n",
              "    }\n",
              "\n",
              "    .dataframe tbody tr th {\n",
              "        vertical-align: top;\n",
              "    }\n",
              "\n",
              "    .dataframe thead th {\n",
              "        text-align: right;\n",
              "    }\n",
              "</style>\n",
              "<table border=\"1\" class=\"dataframe\">\n",
              "  <thead>\n",
              "    <tr style=\"text-align: right;\">\n",
              "      <th></th>\n",
              "      <th>spxopen</th>\n",
              "      <th>spxhigh</th>\n",
              "      <th>spxlow</th>\n",
              "      <th>spxclose</th>\n",
              "      <th>pred</th>\n",
              "    </tr>\n",
              "    <tr>\n",
              "      <th>Date</th>\n",
              "      <th></th>\n",
              "      <th></th>\n",
              "      <th></th>\n",
              "      <th></th>\n",
              "      <th></th>\n",
              "    </tr>\n",
              "  </thead>\n",
              "  <tbody>\n",
              "    <tr>\n",
              "      <th>2020-12-04</th>\n",
              "      <td>3670.939941</td>\n",
              "      <td>3699.199951</td>\n",
              "      <td>3670.939941</td>\n",
              "      <td>3699.120117</td>\n",
              "      <td>2803.042480</td>\n",
              "    </tr>\n",
              "    <tr>\n",
              "      <th>2020-12-07</th>\n",
              "      <td>3694.729980</td>\n",
              "      <td>3697.409912</td>\n",
              "      <td>3678.879883</td>\n",
              "      <td>3691.959961</td>\n",
              "      <td>2762.254883</td>\n",
              "    </tr>\n",
              "    <tr>\n",
              "      <th>2020-12-08</th>\n",
              "      <td>3683.050049</td>\n",
              "      <td>3708.449951</td>\n",
              "      <td>3678.830078</td>\n",
              "      <td>3702.250000</td>\n",
              "      <td>2812.765625</td>\n",
              "    </tr>\n",
              "    <tr>\n",
              "      <th>2020-12-09</th>\n",
              "      <td>3705.979980</td>\n",
              "      <td>3712.389893</td>\n",
              "      <td>3660.540039</td>\n",
              "      <td>3672.820068</td>\n",
              "      <td>2801.316162</td>\n",
              "    </tr>\n",
              "    <tr>\n",
              "      <th>2020-12-10</th>\n",
              "      <td>3659.129883</td>\n",
              "      <td>3678.489990</td>\n",
              "      <td>3645.179932</td>\n",
              "      <td>3668.100098</td>\n",
              "      <td>2808.141113</td>\n",
              "    </tr>\n",
              "    <tr>\n",
              "      <th>2020-12-11</th>\n",
              "      <td>3656.080078</td>\n",
              "      <td>3665.909912</td>\n",
              "      <td>3633.399902</td>\n",
              "      <td>3663.459961</td>\n",
              "      <td>2814.644043</td>\n",
              "    </tr>\n",
              "    <tr>\n",
              "      <th>2020-12-14</th>\n",
              "      <td>3675.270020</td>\n",
              "      <td>3697.610107</td>\n",
              "      <td>3645.840088</td>\n",
              "      <td>3647.489990</td>\n",
              "      <td>2822.374756</td>\n",
              "    </tr>\n",
              "    <tr>\n",
              "      <th>2020-12-15</th>\n",
              "      <td>3666.409912</td>\n",
              "      <td>3695.290039</td>\n",
              "      <td>3659.620117</td>\n",
              "      <td>3694.620117</td>\n",
              "      <td>2829.123291</td>\n",
              "    </tr>\n",
              "    <tr>\n",
              "      <th>2020-12-16</th>\n",
              "      <td>3696.250000</td>\n",
              "      <td>3711.270020</td>\n",
              "      <td>3688.570068</td>\n",
              "      <td>3701.169922</td>\n",
              "      <td>2834.673340</td>\n",
              "    </tr>\n",
              "    <tr>\n",
              "      <th>2020-12-17</th>\n",
              "      <td>3713.649902</td>\n",
              "      <td>3725.120117</td>\n",
              "      <td>3710.870117</td>\n",
              "      <td>3722.479980</td>\n",
              "      <td>2838.978027</td>\n",
              "    </tr>\n",
              "    <tr>\n",
              "      <th>2020-12-18</th>\n",
              "      <td>3722.389893</td>\n",
              "      <td>3726.699951</td>\n",
              "      <td>3685.840088</td>\n",
              "      <td>3709.409912</td>\n",
              "      <td>2842.219971</td>\n",
              "    </tr>\n",
              "    <tr>\n",
              "      <th>2020-12-21</th>\n",
              "      <td>3684.280029</td>\n",
              "      <td>3702.899902</td>\n",
              "      <td>3636.479980</td>\n",
              "      <td>3694.919922</td>\n",
              "      <td>2844.607910</td>\n",
              "    </tr>\n",
              "    <tr>\n",
              "      <th>2020-12-22</th>\n",
              "      <td>3698.080078</td>\n",
              "      <td>3698.260010</td>\n",
              "      <td>3676.159912</td>\n",
              "      <td>3687.260010</td>\n",
              "      <td>2846.341064</td>\n",
              "    </tr>\n",
              "    <tr>\n",
              "      <th>2020-12-23</th>\n",
              "      <td>3693.419922</td>\n",
              "      <td>3711.239990</td>\n",
              "      <td>3689.280029</td>\n",
              "      <td>3690.010010</td>\n",
              "      <td>2847.583496</td>\n",
              "    </tr>\n",
              "    <tr>\n",
              "      <th>2020-12-24</th>\n",
              "      <td>3694.030029</td>\n",
              "      <td>3703.820068</td>\n",
              "      <td>3689.320068</td>\n",
              "      <td>3703.060059</td>\n",
              "      <td>2848.464600</td>\n",
              "    </tr>\n",
              "    <tr>\n",
              "      <th>2020-12-25</th>\n",
              "      <td>3694.030029</td>\n",
              "      <td>3703.820068</td>\n",
              "      <td>3689.320068</td>\n",
              "      <td>3703.060059</td>\n",
              "      <td>2849.082764</td>\n",
              "    </tr>\n",
              "    <tr>\n",
              "      <th>2020-12-28</th>\n",
              "      <td>3723.030029</td>\n",
              "      <td>3740.510010</td>\n",
              "      <td>3723.030029</td>\n",
              "      <td>3735.360107</td>\n",
              "      <td>2849.512451</td>\n",
              "    </tr>\n",
              "    <tr>\n",
              "      <th>2020-12-29</th>\n",
              "      <td>3750.010010</td>\n",
              "      <td>3756.120117</td>\n",
              "      <td>3723.310059</td>\n",
              "      <td>3727.040039</td>\n",
              "      <td>2849.806641</td>\n",
              "    </tr>\n",
              "    <tr>\n",
              "      <th>2020-12-30</th>\n",
              "      <td>3736.189941</td>\n",
              "      <td>3744.629883</td>\n",
              "      <td>3730.209961</td>\n",
              "      <td>3732.040039</td>\n",
              "      <td>2850.005615</td>\n",
              "    </tr>\n",
              "    <tr>\n",
              "      <th>2020-12-31</th>\n",
              "      <td>3733.270020</td>\n",
              "      <td>3760.199951</td>\n",
              "      <td>3726.879883</td>\n",
              "      <td>3756.070068</td>\n",
              "      <td>2850.137451</td>\n",
              "    </tr>\n",
              "  </tbody>\n",
              "</table>\n",
              "</div>"
            ],
            "text/plain": [
              "                spxopen      spxhigh       spxlow     spxclose         pred\n",
              "Date                                                                       \n",
              "2020-12-04  3670.939941  3699.199951  3670.939941  3699.120117  2803.042480\n",
              "2020-12-07  3694.729980  3697.409912  3678.879883  3691.959961  2762.254883\n",
              "2020-12-08  3683.050049  3708.449951  3678.830078  3702.250000  2812.765625\n",
              "2020-12-09  3705.979980  3712.389893  3660.540039  3672.820068  2801.316162\n",
              "2020-12-10  3659.129883  3678.489990  3645.179932  3668.100098  2808.141113\n",
              "2020-12-11  3656.080078  3665.909912  3633.399902  3663.459961  2814.644043\n",
              "2020-12-14  3675.270020  3697.610107  3645.840088  3647.489990  2822.374756\n",
              "2020-12-15  3666.409912  3695.290039  3659.620117  3694.620117  2829.123291\n",
              "2020-12-16  3696.250000  3711.270020  3688.570068  3701.169922  2834.673340\n",
              "2020-12-17  3713.649902  3725.120117  3710.870117  3722.479980  2838.978027\n",
              "2020-12-18  3722.389893  3726.699951  3685.840088  3709.409912  2842.219971\n",
              "2020-12-21  3684.280029  3702.899902  3636.479980  3694.919922  2844.607910\n",
              "2020-12-22  3698.080078  3698.260010  3676.159912  3687.260010  2846.341064\n",
              "2020-12-23  3693.419922  3711.239990  3689.280029  3690.010010  2847.583496\n",
              "2020-12-24  3694.030029  3703.820068  3689.320068  3703.060059  2848.464600\n",
              "2020-12-25  3694.030029  3703.820068  3689.320068  3703.060059  2849.082764\n",
              "2020-12-28  3723.030029  3740.510010  3723.030029  3735.360107  2849.512451\n",
              "2020-12-29  3750.010010  3756.120117  3723.310059  3727.040039  2849.806641\n",
              "2020-12-30  3736.189941  3744.629883  3730.209961  3732.040039  2850.005615\n",
              "2020-12-31  3733.270020  3760.199951  3726.879883  3756.070068  2850.137451"
            ]
          },
          "metadata": {
            "tags": []
          },
          "execution_count": 34
        }
      ]
    },
    {
      "cell_type": "code",
      "metadata": {
        "id": "1is14qZnICpg"
      },
      "source": [
        ""
      ],
      "execution_count": null,
      "outputs": []
    },
    {
      "cell_type": "code",
      "metadata": {
        "id": "PQrz7m0dICpg"
      },
      "source": [
        "from sklearn import metrics\n",
        "def timeseries_evaluation_metrics_func(y_true, y_pred):\n",
        "    \n",
        "    def mean_absolute_percentage_error(y_true, y_pred): \n",
        "        y_true, y_pred = np.array(y_true), np.array(y_pred)\n",
        "        return np.mean(np.abs((y_true - y_pred) / y_true)) * 100\n",
        "    print('Evaluation metric results:-')\n",
        "    print(f'MSE is : {metrics.mean_squared_error(y_true, y_pred)}')\n",
        "    print(f'MAE is : {metrics.mean_absolute_error(y_true, y_pred)}')\n",
        "    print(f'RMSE is : {np.sqrt(metrics.mean_squared_error(y_true, y_pred))}')\n",
        "    print(f'MAPE is : {mean_absolute_percentage_error(y_true, y_pred)}')\n",
        "    print(f'R2 is : {metrics.r2_score(y_true, y_pred)}',end='\\n\\n')"
      ],
      "execution_count": 43,
      "outputs": []
    },
    {
      "cell_type": "code",
      "metadata": {
        "id": "FH566rNOICpg",
        "colab": {
          "base_uri": "https://localhost:8080/"
        },
        "outputId": "e5549754-dc0c-4bab-dd97-d1a56904abf9"
      },
      "source": [
        "timeseries_evaluation_metrics_func(testing.spxclose, testing.pred)"
      ],
      "execution_count": 44,
      "outputs": [
        {
          "output_type": "stream",
          "text": [
            "Evaluation metric results:-\n",
            "MSE is : 757188.3898905546\n",
            "MAE is : 869.8312377929688\n",
            "RMSE is : 870.1657255319556\n",
            "MAPE is : 23.506950183000413\n",
            "R2 is : -1163.7322837966933\n",
            "\n"
          ],
          "name": "stdout"
        }
      ]
    }
  ]
}