{
  "nbformat": 4,
  "nbformat_minor": 0,
  "metadata": {
    "colab": {
      "name": "FINAL Encoder_Decoder FTSE100.ipynb",
      "provenance": [],
      "collapsed_sections": []
    },
    "kernelspec": {
      "display_name": "Python 3",
      "language": "python",
      "name": "python3"
    },
    "language_info": {
      "codemirror_mode": {
        "name": "ipython",
        "version": 3
      },
      "file_extension": ".py",
      "mimetype": "text/x-python",
      "name": "python",
      "nbconvert_exporter": "python",
      "pygments_lexer": "ipython3",
      "version": "3.9.5"
    },
    "latex_envs": {
      "LaTeX_envs_menu_present": true,
      "autoclose": false,
      "autocomplete": true,
      "bibliofile": "biblio.bib",
      "cite_by": "apalike",
      "current_citInitial": 1,
      "eqLabelWithNumbers": true,
      "eqNumInitial": 1,
      "hotkeys": {
        "equation": "Ctrl-E",
        "itemize": "Ctrl-I"
      },
      "labels_anchors": false,
      "latex_user_defs": false,
      "report_style_numbering": false,
      "user_envs_cfg": false
    },
    "nbTranslate": {
      "displayLangs": [
        "*"
      ],
      "hotkey": "alt-t",
      "langInMainMenu": true,
      "sourceLang": "en",
      "targetLang": "fr",
      "useGoogleTranslate": true
    }
  },
  "cells": [
    {
      "cell_type": "code",
      "metadata": {
        "ExecuteTime": {
          "end_time": "2020-03-02T15:15:24.546918Z",
          "start_time": "2020-03-02T15:15:24.541895Z"
        },
        "id": "P0OCDK1aciUE"
      },
      "source": [
        "import pandas as pd\n",
        "import numpy as np\n",
        "import tensorflow as tf\n",
        "from sklearn import preprocessing\n",
        "import matplotlib.pyplot as plt\n",
        "tf.random.set_seed(1)\n",
        "np.random.seed(1)"
      ],
      "execution_count": 1,
      "outputs": []
    },
    {
      "cell_type": "code",
      "metadata": {
        "ExecuteTime": {
          "end_time": "2020-03-02T15:15:30.273612Z",
          "start_time": "2020-03-02T15:15:30.185819Z"
        },
        "id": "Cmb9ipvyciUH"
      },
      "source": [
        "url='https://raw.githubusercontent.com/nzxtdata/Multivariate-Financial-Time-Series-Forecasting-with-Machine-Learning/main/FTSEfundamental.csv'\n",
        "df1 = pd.read_csv(url, parse_dates= True)\n",
        "df=df1.copy()\n",
        "df.Date = pd.to_datetime(df.Date)\n",
        "df.set_index(\"Date\", inplace=True)\n",
        "df = df[df.index.year <= 2020]\n",
        "df=df.asfreq('b')\n",
        "df=df.fillna(method='ffill')"
      ],
      "execution_count": 2,
      "outputs": []
    },
    {
      "cell_type": "code",
      "metadata": {
        "colab": {
          "base_uri": "https://localhost:8080/"
        },
        "id": "dVNOjGsxICpV",
        "outputId": "99ddbf9a-3b71-4848-dcd4-8b54ac6e2962"
      },
      "source": [
        "df.shape"
      ],
      "execution_count": 3,
      "outputs": [
        {
          "output_type": "execute_result",
          "data": {
            "text/plain": [
              "(6981, 10)"
            ]
          },
          "metadata": {
            "tags": []
          },
          "execution_count": 3
        }
      ]
    },
    {
      "cell_type": "code",
      "metadata": {
        "id": "7gS1HMUVxlOi"
      },
      "source": [
        "df['returns'] = df.ftseclose.pct_change(1).mul(100)\n",
        "df = df.iloc[2:]"
      ],
      "execution_count": 4,
      "outputs": []
    },
    {
      "cell_type": "code",
      "metadata": {
        "ExecuteTime": {
          "end_time": "2020-03-02T15:15:32.505614Z",
          "start_time": "2020-03-02T15:15:32.484670Z"
        },
        "colab": {
          "base_uri": "https://localhost:8080/",
          "height": 232
        },
        "id": "HJb0zlkRciUH",
        "outputId": "dd18d2ab-ac7b-49be-c45b-89a0c058c326"
      },
      "source": [
        "df.tail()"
      ],
      "execution_count": 5,
      "outputs": [
        {
          "output_type": "execute_result",
          "data": {
            "text/html": [
              "<div>\n",
              "<style scoped>\n",
              "    .dataframe tbody tr th:only-of-type {\n",
              "        vertical-align: middle;\n",
              "    }\n",
              "\n",
              "    .dataframe tbody tr th {\n",
              "        vertical-align: top;\n",
              "    }\n",
              "\n",
              "    .dataframe thead th {\n",
              "        text-align: right;\n",
              "    }\n",
              "</style>\n",
              "<table border=\"1\" class=\"dataframe\">\n",
              "  <thead>\n",
              "    <tr style=\"text-align: right;\">\n",
              "      <th></th>\n",
              "      <th>ftseopen</th>\n",
              "      <th>ftsehigh</th>\n",
              "      <th>ftselow</th>\n",
              "      <th>ftseclose</th>\n",
              "      <th>ftsevolume</th>\n",
              "      <th>fwd_6mo_usd_to_gbp</th>\n",
              "      <th>10yr_treasury_yield</th>\n",
              "      <th>uk_gdp_qoq_cvm_sa_growth_%</th>\n",
              "      <th>uk_unemployment_sa_%</th>\n",
              "      <th>uk_longterm_ir_%</th>\n",
              "      <th>returns</th>\n",
              "    </tr>\n",
              "    <tr>\n",
              "      <th>Date</th>\n",
              "      <th></th>\n",
              "      <th></th>\n",
              "      <th></th>\n",
              "      <th></th>\n",
              "      <th></th>\n",
              "      <th></th>\n",
              "      <th></th>\n",
              "      <th></th>\n",
              "      <th></th>\n",
              "      <th></th>\n",
              "      <th></th>\n",
              "    </tr>\n",
              "  </thead>\n",
              "  <tbody>\n",
              "    <tr>\n",
              "      <th>2020-12-25</th>\n",
              "      <td>6495.799805</td>\n",
              "      <td>6530.299805</td>\n",
              "      <td>6479.600098</td>\n",
              "      <td>6502.100098</td>\n",
              "      <td>477470700.0</td>\n",
              "      <td>1.2374</td>\n",
              "      <td>0.8347</td>\n",
              "      <td>-19.5</td>\n",
              "      <td>3.8</td>\n",
              "      <td>0.303333</td>\n",
              "      <td>0.000000</td>\n",
              "    </tr>\n",
              "    <tr>\n",
              "      <th>2020-12-28</th>\n",
              "      <td>6495.799805</td>\n",
              "      <td>6530.299805</td>\n",
              "      <td>6479.600098</td>\n",
              "      <td>6502.100098</td>\n",
              "      <td>477470700.0</td>\n",
              "      <td>1.2374</td>\n",
              "      <td>0.8347</td>\n",
              "      <td>-19.5</td>\n",
              "      <td>3.8</td>\n",
              "      <td>0.303333</td>\n",
              "      <td>0.000000</td>\n",
              "    </tr>\n",
              "    <tr>\n",
              "      <th>2020-12-29</th>\n",
              "      <td>6502.100098</td>\n",
              "      <td>6676.600098</td>\n",
              "      <td>6502.100098</td>\n",
              "      <td>6602.700195</td>\n",
              "      <td>824116800.0</td>\n",
              "      <td>1.2374</td>\n",
              "      <td>0.8347</td>\n",
              "      <td>-19.5</td>\n",
              "      <td>3.8</td>\n",
              "      <td>0.303333</td>\n",
              "      <td>1.547194</td>\n",
              "    </tr>\n",
              "    <tr>\n",
              "      <th>2020-12-30</th>\n",
              "      <td>6602.700195</td>\n",
              "      <td>6623.000000</td>\n",
              "      <td>6552.500000</td>\n",
              "      <td>6555.799805</td>\n",
              "      <td>425493000.0</td>\n",
              "      <td>1.2374</td>\n",
              "      <td>0.8347</td>\n",
              "      <td>-19.5</td>\n",
              "      <td>3.8</td>\n",
              "      <td>0.303333</td>\n",
              "      <td>-0.710321</td>\n",
              "    </tr>\n",
              "    <tr>\n",
              "      <th>2020-12-31</th>\n",
              "      <td>6555.799805</td>\n",
              "      <td>6555.799805</td>\n",
              "      <td>6439.399902</td>\n",
              "      <td>6460.500000</td>\n",
              "      <td>316943900.0</td>\n",
              "      <td>1.2374</td>\n",
              "      <td>0.8347</td>\n",
              "      <td>-19.5</td>\n",
              "      <td>3.8</td>\n",
              "      <td>0.303333</td>\n",
              "      <td>-1.453672</td>\n",
              "    </tr>\n",
              "  </tbody>\n",
              "</table>\n",
              "</div>"
            ],
            "text/plain": [
              "               ftseopen     ftsehigh  ...  uk_longterm_ir_%   returns\n",
              "Date                                  ...                            \n",
              "2020-12-25  6495.799805  6530.299805  ...          0.303333  0.000000\n",
              "2020-12-28  6495.799805  6530.299805  ...          0.303333  0.000000\n",
              "2020-12-29  6502.100098  6676.600098  ...          0.303333  1.547194\n",
              "2020-12-30  6602.700195  6623.000000  ...          0.303333 -0.710321\n",
              "2020-12-31  6555.799805  6555.799805  ...          0.303333 -1.453672\n",
              "\n",
              "[5 rows x 11 columns]"
            ]
          },
          "metadata": {
            "tags": []
          },
          "execution_count": 5
        }
      ]
    },
    {
      "cell_type": "code",
      "metadata": {
        "ExecuteTime": {
          "end_time": "2020-03-02T15:15:33.957734Z",
          "start_time": "2020-03-02T15:15:33.914878Z"
        },
        "colab": {
          "base_uri": "https://localhost:8080/",
          "height": 294
        },
        "id": "FC0C9t_nciUI",
        "outputId": "96957e32-274d-40fe-eaf3-0902aaadd1e5"
      },
      "source": [
        "df.describe()"
      ],
      "execution_count": 6,
      "outputs": [
        {
          "output_type": "execute_result",
          "data": {
            "text/html": [
              "<div>\n",
              "<style scoped>\n",
              "    .dataframe tbody tr th:only-of-type {\n",
              "        vertical-align: middle;\n",
              "    }\n",
              "\n",
              "    .dataframe tbody tr th {\n",
              "        vertical-align: top;\n",
              "    }\n",
              "\n",
              "    .dataframe thead th {\n",
              "        text-align: right;\n",
              "    }\n",
              "</style>\n",
              "<table border=\"1\" class=\"dataframe\">\n",
              "  <thead>\n",
              "    <tr style=\"text-align: right;\">\n",
              "      <th></th>\n",
              "      <th>ftseopen</th>\n",
              "      <th>ftsehigh</th>\n",
              "      <th>ftselow</th>\n",
              "      <th>ftseclose</th>\n",
              "      <th>ftsevolume</th>\n",
              "      <th>fwd_6mo_usd_to_gbp</th>\n",
              "      <th>10yr_treasury_yield</th>\n",
              "      <th>uk_gdp_qoq_cvm_sa_growth_%</th>\n",
              "      <th>uk_unemployment_sa_%</th>\n",
              "      <th>uk_longterm_ir_%</th>\n",
              "      <th>returns</th>\n",
              "    </tr>\n",
              "  </thead>\n",
              "  <tbody>\n",
              "    <tr>\n",
              "      <th>count</th>\n",
              "      <td>6979.000000</td>\n",
              "      <td>6979.000000</td>\n",
              "      <td>6979.000000</td>\n",
              "      <td>6979.000000</td>\n",
              "      <td>6.979000e+03</td>\n",
              "      <td>6979.000000</td>\n",
              "      <td>6979.000000</td>\n",
              "      <td>6979.000000</td>\n",
              "      <td>6979.000000</td>\n",
              "      <td>6979.000000</td>\n",
              "      <td>6979.000000</td>\n",
              "    </tr>\n",
              "    <tr>\n",
              "      <th>mean</th>\n",
              "      <td>5608.215646</td>\n",
              "      <td>5645.254092</td>\n",
              "      <td>5570.362805</td>\n",
              "      <td>5608.790828</td>\n",
              "      <td>8.899800e+08</td>\n",
              "      <td>1.579432</td>\n",
              "      <td>4.529172</td>\n",
              "      <td>0.068620</td>\n",
              "      <td>6.081258</td>\n",
              "      <td>4.118154</td>\n",
              "      <td>0.017004</td>\n",
              "    </tr>\n",
              "    <tr>\n",
              "      <th>std</th>\n",
              "      <td>1186.182847</td>\n",
              "      <td>1190.230071</td>\n",
              "      <td>1182.283103</td>\n",
              "      <td>1186.011929</td>\n",
              "      <td>6.025381e+08</td>\n",
              "      <td>0.174286</td>\n",
              "      <td>1.833678</td>\n",
              "      <td>2.796679</td>\n",
              "      <td>1.540816</td>\n",
              "      <td>2.187177</td>\n",
              "      <td>1.132194</td>\n",
              "    </tr>\n",
              "    <tr>\n",
              "      <th>min</th>\n",
              "      <td>2844.699951</td>\n",
              "      <td>2902.199951</td>\n",
              "      <td>2844.699951</td>\n",
              "      <td>2876.600098</td>\n",
              "      <td>0.000000e+00</td>\n",
              "      <td>1.237400</td>\n",
              "      <td>0.834700</td>\n",
              "      <td>-19.500000</td>\n",
              "      <td>3.700000</td>\n",
              "      <td>0.303333</td>\n",
              "      <td>-10.873819</td>\n",
              "    </tr>\n",
              "    <tr>\n",
              "      <th>25%</th>\n",
              "      <td>4764.550049</td>\n",
              "      <td>4800.849854</td>\n",
              "      <td>4730.250000</td>\n",
              "      <td>4763.000000</td>\n",
              "      <td>5.590956e+08</td>\n",
              "      <td>1.513700</td>\n",
              "      <td>3.507200</td>\n",
              "      <td>0.300000</td>\n",
              "      <td>4.900000</td>\n",
              "      <td>2.586967</td>\n",
              "      <td>-0.510400</td>\n",
              "    </tr>\n",
              "    <tr>\n",
              "      <th>50%</th>\n",
              "      <td>5831.500000</td>\n",
              "      <td>5869.200195</td>\n",
              "      <td>5782.700195</td>\n",
              "      <td>5832.500000</td>\n",
              "      <td>8.270311e+08</td>\n",
              "      <td>1.582100</td>\n",
              "      <td>4.465500</td>\n",
              "      <td>0.400000</td>\n",
              "      <td>5.500000</td>\n",
              "      <td>4.458034</td>\n",
              "      <td>0.009198</td>\n",
              "    </tr>\n",
              "    <tr>\n",
              "      <th>75%</th>\n",
              "      <td>6471.550049</td>\n",
              "      <td>6515.200195</td>\n",
              "      <td>6430.349854</td>\n",
              "      <td>6473.150146</td>\n",
              "      <td>1.305440e+09</td>\n",
              "      <td>1.665000</td>\n",
              "      <td>5.035700</td>\n",
              "      <td>0.700000</td>\n",
              "      <td>7.700000</td>\n",
              "      <td>5.311433</td>\n",
              "      <td>0.572185</td>\n",
              "    </tr>\n",
              "    <tr>\n",
              "      <th>max</th>\n",
              "      <td>7877.500000</td>\n",
              "      <td>7903.500000</td>\n",
              "      <td>7854.600098</td>\n",
              "      <td>7877.500000</td>\n",
              "      <td>4.420947e+09</td>\n",
              "      <td>1.962400</td>\n",
              "      <td>8.627300</td>\n",
              "      <td>1.700000</td>\n",
              "      <td>9.800000</td>\n",
              "      <td>8.693767</td>\n",
              "      <td>9.838667</td>\n",
              "    </tr>\n",
              "  </tbody>\n",
              "</table>\n",
              "</div>"
            ],
            "text/plain": [
              "          ftseopen     ftsehigh  ...  uk_longterm_ir_%      returns\n",
              "count  6979.000000  6979.000000  ...       6979.000000  6979.000000\n",
              "mean   5608.215646  5645.254092  ...          4.118154     0.017004\n",
              "std    1186.182847  1190.230071  ...          2.187177     1.132194\n",
              "min    2844.699951  2902.199951  ...          0.303333   -10.873819\n",
              "25%    4764.550049  4800.849854  ...          2.586967    -0.510400\n",
              "50%    5831.500000  5869.200195  ...          4.458034     0.009198\n",
              "75%    6471.550049  6515.200195  ...          5.311433     0.572185\n",
              "max    7877.500000  7903.500000  ...          8.693767     9.838667\n",
              "\n",
              "[8 rows x 11 columns]"
            ]
          },
          "metadata": {
            "tags": []
          },
          "execution_count": 6
        }
      ]
    },
    {
      "cell_type": "code",
      "metadata": {
        "colab": {
          "base_uri": "https://localhost:8080/"
        },
        "id": "q_VEtT16dH6o",
        "outputId": "f17361c5-d771-4314-a1b7-37d18c451457"
      },
      "source": [
        "df.columns"
      ],
      "execution_count": 7,
      "outputs": [
        {
          "output_type": "execute_result",
          "data": {
            "text/plain": [
              "Index(['ftseopen', 'ftsehigh', 'ftselow', 'ftseclose', 'ftsevolume',\n",
              "       'fwd_6mo_usd_to_gbp', '10yr_treasury_yield',\n",
              "       'uk_gdp_qoq_cvm_sa_growth_%', 'uk_unemployment_sa_%',\n",
              "       'uk_longterm_ir_%', 'returns'],\n",
              "      dtype='object')"
            ]
          },
          "metadata": {
            "tags": []
          },
          "execution_count": 7
        }
      ]
    },
    {
      "cell_type": "code",
      "metadata": {
        "colab": {
          "base_uri": "https://localhost:8080/"
        },
        "id": "LQmO9tsSICpY",
        "outputId": "1b50a3d7-7530-45e4-d7bd-1c6bd177e83e"
      },
      "source": [
        "df.shape"
      ],
      "execution_count": 8,
      "outputs": [
        {
          "output_type": "execute_result",
          "data": {
            "text/plain": [
              "(6979, 11)"
            ]
          },
          "metadata": {
            "tags": []
          },
          "execution_count": 8
        }
      ]
    },
    {
      "cell_type": "code",
      "metadata": {
        "ExecuteTime": {
          "end_time": "2020-03-02T15:16:05.155368Z",
          "start_time": "2020-03-02T15:16:05.149383Z"
        },
        "id": "TXnPFIYgciUJ"
      },
      "source": [
        "def custom_ts_multi_data_prep(dataset, target, start, end, window, horizon):\n",
        "    X = []\n",
        "    y = []\n",
        "    start = start + window\n",
        "    if end is None:\n",
        "        end = len(dataset) - horizon\n",
        "\n",
        "    for i in range(start, end):\n",
        "        indices = range(i-window, i)\n",
        "        X.append(dataset[indices])\n",
        "\n",
        "        indicey = range(i+1, i+1+horizon)\n",
        "        y.append(target[indicey])\n",
        "    return np.array(X), np.array(y)"
      ],
      "execution_count": 9,
      "outputs": []
    },
    {
      "cell_type": "code",
      "metadata": {
        "ExecuteTime": {
          "end_time": "2020-03-02T15:16:17.737317Z",
          "start_time": "2020-03-02T15:16:17.725346Z"
        },
        "id": "5osgagIdciUK"
      },
      "source": [
        "validate = df[['ftseopen', 'ftsehigh', 'ftselow', 'ftseclose', 'ftsevolume',\n",
        "       'fwd_6mo_usd_to_gbp', '10yr_treasury_yield',\n",
        "       'uk_gdp_qoq_cvm_sa_growth_%', 'uk_unemployment_sa_%',\n",
        "       'uk_longterm_ir_%','returns']].tail(20)\n",
        "df.drop(df.tail(20).index,inplace=True)"
      ],
      "execution_count": 10,
      "outputs": []
    },
    {
      "cell_type": "code",
      "metadata": {
        "ExecuteTime": {
          "end_time": "2020-03-02T15:16:22.918504Z",
          "start_time": "2020-03-02T15:16:22.897526Z"
        },
        "id": "ITh9aFlWciUK"
      },
      "source": [
        "x_scaler = preprocessing.MinMaxScaler()\n",
        "y_scaler = preprocessing.MinMaxScaler()\n",
        "dataX = x_scaler.fit_transform(df[['ftseopen', 'ftsehigh', 'ftselow', 'ftseclose', 'ftsevolume',\n",
        "       'fwd_6mo_usd_to_gbp', '10yr_treasury_yield',\n",
        "       'uk_gdp_qoq_cvm_sa_growth_%', 'uk_unemployment_sa_%',\n",
        "       'uk_longterm_ir_%','returns']])\n",
        "dataY = y_scaler.fit_transform(df[['ftseclose']])"
      ],
      "execution_count": 11,
      "outputs": []
    },
    {
      "cell_type": "code",
      "metadata": {
        "colab": {
          "base_uri": "https://localhost:8080/"
        },
        "id": "MqUUWqtDzZiZ",
        "outputId": "50997db7-d535-40b7-c554-93ceaee84152"
      },
      "source": [
        "df.shape"
      ],
      "execution_count": 12,
      "outputs": [
        {
          "output_type": "execute_result",
          "data": {
            "text/plain": [
              "(6959, 11)"
            ]
          },
          "metadata": {
            "tags": []
          },
          "execution_count": 12
        }
      ]
    },
    {
      "cell_type": "code",
      "metadata": {
        "ExecuteTime": {
          "end_time": "2020-03-02T15:16:54.081228Z",
          "start_time": "2020-03-02T15:16:52.778674Z"
        },
        "id": "2vKy3RG8ciUL"
      },
      "source": [
        "hist_window = 100\n",
        "horizon = 20\n",
        "TRAIN_SPLIT = 6000\n",
        "x_train_multi, y_train_multi = custom_ts_multi_data_prep(\n",
        "    dataX, dataY, 0, TRAIN_SPLIT, hist_window, horizon)\n",
        "x_val_multi, y_val_multi= custom_ts_multi_data_prep(\n",
        "    dataX, dataY, TRAIN_SPLIT, None, hist_window, horizon)"
      ],
      "execution_count": 13,
      "outputs": []
    },
    {
      "cell_type": "code",
      "metadata": {
        "colab": {
          "base_uri": "https://localhost:8080/"
        },
        "id": "GOR10GnSICpa",
        "outputId": "8f9766ce-79f3-4743-de32-4867f63937f7"
      },
      "source": [
        "x_val_multi.shape"
      ],
      "execution_count": 14,
      "outputs": [
        {
          "output_type": "execute_result",
          "data": {
            "text/plain": [
              "(839, 100, 11)"
            ]
          },
          "metadata": {
            "tags": []
          },
          "execution_count": 14
        }
      ]
    },
    {
      "cell_type": "code",
      "metadata": {
        "ExecuteTime": {
          "end_time": "2020-03-02T15:16:58.535291Z",
          "start_time": "2020-03-02T15:16:58.522325Z"
        },
        "colab": {
          "base_uri": "https://localhost:8080/"
        },
        "id": "YjsYL1nZciUL",
        "scrolled": true,
        "outputId": "8b7737d6-5fb3-448e-8cf2-56394c931676"
      },
      "source": [
        "print ('Single window of past history')\n",
        "print(x_train_multi[0])\n",
        "print ('\\n Target horizon')\n",
        "print (y_train_multi[0])"
      ],
      "execution_count": 15,
      "outputs": [
        {
          "output_type": "stream",
          "text": [
            "Single window of past history\n",
            "[[0.04802495 0.03683041 0.04824446 ... 1.         0.78039669 0.52498861]\n",
            " [0.04295818 0.04278887 0.04038006 ... 1.         0.78039669 0.57160434]\n",
            " [0.05923146 0.04862735 0.05686743 ... 1.         0.78039669 0.54869335]\n",
            " ...\n",
            " [0.0648148  0.05854479 0.06407313 ... 0.95081967 0.95041174 0.59095125]\n",
            " [0.0680933  0.05984445 0.0669674  ... 0.95081967 0.95041174 0.51333597]\n",
            " [0.06489431 0.05790496 0.06493144 ... 0.95081967 0.95041174 0.53833792]]\n",
            "\n",
            " Target horizon\n",
            "[[0.05968926]\n",
            " [0.06570814]\n",
            " [0.0715071 ]\n",
            " [0.07768602]\n",
            " [0.07768602]\n",
            " [0.07458658]\n",
            " [0.0749265 ]\n",
            " [0.06796775]\n",
            " [0.06920751]\n",
            " [0.07296685]\n",
            " [0.06574813]\n",
            " [0.06544818]\n",
            " [0.06066906]\n",
            " [0.05253054]\n",
            " [0.05043091]\n",
            " [0.04895115]\n",
            " [0.04063268]\n",
            " [0.04721147]\n",
            " [0.03769322]\n",
            " [0.04049271]]\n"
          ],
          "name": "stdout"
        }
      ]
    },
    {
      "cell_type": "code",
      "metadata": {
        "ExecuteTime": {
          "end_time": "2020-03-02T15:17:08.042920Z",
          "start_time": "2020-03-02T15:17:06.834116Z"
        },
        "id": "0jSe_yWSciUL"
      },
      "source": [
        "BATCH_SIZE = 256\n",
        "BUFFER_SIZE = 150\n",
        "\n",
        "train_data_multi = tf.data.Dataset.from_tensor_slices((x_train_multi, y_train_multi))\n",
        "train_data_multi = train_data_multi.cache().shuffle(BUFFER_SIZE).batch(BATCH_SIZE).repeat()\n",
        "\n",
        "val_data_multi = tf.data.Dataset.from_tensor_slices((x_val_multi, y_val_multi))\n",
        "val_data_multi = val_data_multi.batch(BATCH_SIZE).repeat()"
      ],
      "execution_count": 16,
      "outputs": []
    },
    {
      "cell_type": "code",
      "metadata": {
        "ExecuteTime": {
          "end_time": "2020-03-02T15:17:19.832413Z",
          "start_time": "2020-03-02T15:17:18.297484Z"
        },
        "id": "c271vxvzciUM"
      },
      "source": [
        "ED_lstm_model = tf.keras.models.Sequential([\n",
        "    tf.keras.layers.LSTM(64, input_shape=x_train_multi.shape[-2:], return_sequences=True),\n",
        "    tf.keras.layers.LSTM(units=32,return_sequences=True),\n",
        "    tf.keras.layers.LSTM(units=15),\n",
        "    tf.keras.layers.RepeatVector(y_train_multi.shape[1]), \n",
        "    tf.keras.layers.LSTM(units=64,return_sequences=True),\n",
        "    tf.keras.layers.LSTM(units=32,return_sequences=True),\n",
        "    tf.keras.layers.TimeDistributed(tf.keras.layers.Dense(units=1))\n",
        "])\n",
        "ED_lstm_model.compile(optimizer='adam', loss='mse')\n"
      ],
      "execution_count": 17,
      "outputs": []
    },
    {
      "cell_type": "code",
      "metadata": {
        "ExecuteTime": {
          "end_time": "2020-03-02T15:17:27.490949Z",
          "start_time": "2020-03-02T15:17:27.486925Z"
        },
        "id": "ItRidWXbciUM"
      },
      "source": [
        "model_path = 'Encoder_Decoder_LSTM_Multivariate.h5'"
      ],
      "execution_count": 18,
      "outputs": []
    },
    {
      "cell_type": "code",
      "metadata": {
        "ExecuteTime": {
          "end_time": "2020-03-02T15:21:08.890280Z",
          "start_time": "2020-03-02T15:17:37.179025Z"
        },
        "colab": {
          "base_uri": "https://localhost:8080/"
        },
        "id": "UugkKs0QciUM",
        "outputId": "5b2bc813-ce9f-4285-c37f-fa650be03cf9"
      },
      "source": [
        "model_path = 'Encoder_Decoder_LSTM_Multivariate.h5'\n",
        "EVALUATION_INTERVAL = 100\n",
        "EPOCHS = 100\n",
        "history = ED_lstm_model.fit(train_data_multi, epochs=EPOCHS,steps_per_epoch=EVALUATION_INTERVAL,validation_data=val_data_multi, validation_steps=50,verbose =1,\n",
        "                              callbacks =[\n",
        "                                  tf.keras.callbacks.EarlyStopping(monitor='val_loss', min_delta=0, patience=10, verbose=1, mode='min'),\n",
        "                                  tf.keras.callbacks.ModelCheckpoint(model_path,monitor='val_loss', save_best_only=True, mode='min', verbose=0)\n",
        "                              ]\n",
        "                           )"
      ],
      "execution_count": 19,
      "outputs": [
        {
          "output_type": "stream",
          "text": [
            "Epoch 1/100\n",
            "100/100 [==============================] - 58s 498ms/step - loss: 0.0777 - val_loss: 0.0678\n",
            "Epoch 2/100\n",
            "100/100 [==============================] - 48s 476ms/step - loss: 0.0353 - val_loss: 0.0442\n",
            "Epoch 3/100\n",
            "100/100 [==============================] - 48s 483ms/step - loss: 0.0146 - val_loss: 0.0302\n",
            "Epoch 4/100\n",
            "100/100 [==============================] - 49s 487ms/step - loss: 0.0077 - val_loss: 0.0224\n",
            "Epoch 5/100\n",
            "100/100 [==============================] - 49s 489ms/step - loss: 0.0050 - val_loss: 0.0147\n",
            "Epoch 6/100\n",
            "100/100 [==============================] - 48s 485ms/step - loss: 0.0034 - val_loss: 0.0098\n",
            "Epoch 7/100\n",
            "100/100 [==============================] - 48s 483ms/step - loss: 0.0028 - val_loss: 0.0109\n",
            "Epoch 8/100\n",
            "100/100 [==============================] - 48s 480ms/step - loss: 0.0054 - val_loss: 0.0090\n",
            "Epoch 9/100\n",
            "100/100 [==============================] - 48s 478ms/step - loss: 0.0034 - val_loss: 0.0271\n",
            "Epoch 10/100\n",
            "100/100 [==============================] - 48s 480ms/step - loss: 0.0046 - val_loss: 0.0395\n",
            "Epoch 11/100\n",
            "100/100 [==============================] - 48s 481ms/step - loss: 0.0059 - val_loss: 0.0083\n",
            "Epoch 12/100\n",
            "100/100 [==============================] - 47s 473ms/step - loss: 0.0060 - val_loss: 0.0093\n",
            "Epoch 13/100\n",
            "100/100 [==============================] - 48s 480ms/step - loss: 0.0044 - val_loss: 0.0230\n",
            "Epoch 14/100\n",
            "100/100 [==============================] - 48s 479ms/step - loss: 0.0045 - val_loss: 0.0129\n",
            "Epoch 15/100\n",
            "100/100 [==============================] - 48s 481ms/step - loss: 0.0034 - val_loss: 0.0122\n",
            "Epoch 16/100\n",
            "100/100 [==============================] - 48s 480ms/step - loss: 0.0030 - val_loss: 0.0089\n",
            "Epoch 17/100\n",
            "100/100 [==============================] - 48s 480ms/step - loss: 0.0030 - val_loss: 0.0073\n",
            "Epoch 18/100\n",
            "100/100 [==============================] - 47s 472ms/step - loss: 0.0029 - val_loss: 0.0071\n",
            "Epoch 19/100\n",
            "100/100 [==============================] - 48s 480ms/step - loss: 0.0031 - val_loss: 0.0130\n",
            "Epoch 20/100\n",
            "100/100 [==============================] - 48s 480ms/step - loss: 0.0032 - val_loss: 0.0098\n",
            "Epoch 21/100\n",
            "100/100 [==============================] - 48s 479ms/step - loss: 0.0032 - val_loss: 0.0138\n",
            "Epoch 22/100\n",
            "100/100 [==============================] - 48s 479ms/step - loss: 0.0039 - val_loss: 0.0138\n",
            "Epoch 23/100\n",
            "100/100 [==============================] - 48s 481ms/step - loss: 0.0028 - val_loss: 0.0091\n",
            "Epoch 24/100\n",
            "100/100 [==============================] - 47s 470ms/step - loss: 0.0029 - val_loss: 0.0078\n",
            "Epoch 25/100\n",
            "100/100 [==============================] - 47s 470ms/step - loss: 0.0024 - val_loss: 0.0059\n",
            "Epoch 26/100\n",
            "100/100 [==============================] - 47s 472ms/step - loss: 0.0032 - val_loss: 0.0076\n",
            "Epoch 27/100\n",
            "100/100 [==============================] - 47s 468ms/step - loss: 0.0023 - val_loss: 0.0290\n",
            "Epoch 28/100\n",
            "100/100 [==============================] - 47s 474ms/step - loss: 0.0032 - val_loss: 0.0167\n",
            "Epoch 29/100\n",
            "100/100 [==============================] - 47s 469ms/step - loss: 0.0031 - val_loss: 0.0067\n",
            "Epoch 30/100\n",
            "100/100 [==============================] - 47s 471ms/step - loss: 0.0032 - val_loss: 0.0077\n",
            "Epoch 31/100\n",
            "100/100 [==============================] - 47s 472ms/step - loss: 0.0025 - val_loss: 0.0064\n",
            "Epoch 32/100\n",
            "100/100 [==============================] - 47s 469ms/step - loss: 0.0028 - val_loss: 0.0115\n",
            "Epoch 33/100\n",
            "100/100 [==============================] - 47s 472ms/step - loss: 0.0024 - val_loss: 0.0183\n",
            "Epoch 34/100\n",
            "100/100 [==============================] - 47s 470ms/step - loss: 0.0027 - val_loss: 0.0093\n",
            "Epoch 35/100\n",
            "100/100 [==============================] - 47s 472ms/step - loss: 0.0026 - val_loss: 0.0072\n",
            "Epoch 00035: early stopping\n"
          ],
          "name": "stdout"
        }
      ]
    },
    {
      "cell_type": "code",
      "metadata": {
        "ExecuteTime": {
          "end_time": "2020-03-02T15:21:19.372267Z",
          "start_time": "2020-03-02T15:21:15.871622Z"
        },
        "id": "P8i9A-0kciUM"
      },
      "source": [
        "Trained_model = tf.keras.models.load_model(model_path)"
      ],
      "execution_count": 20,
      "outputs": []
    },
    {
      "cell_type": "code",
      "metadata": {
        "ExecuteTime": {
          "end_time": "2020-03-02T15:21:20.013556Z",
          "start_time": "2020-03-02T15:21:20.006572Z"
        },
        "colab": {
          "base_uri": "https://localhost:8080/"
        },
        "id": "gI_VxoBnciUN",
        "outputId": "63d2f590-ebb0-419d-b340-a1f9f22964f2"
      },
      "source": [
        "# Show the model architecture\n",
        "Trained_model.summary()"
      ],
      "execution_count": 21,
      "outputs": [
        {
          "output_type": "stream",
          "text": [
            "Model: \"sequential\"\n",
            "_________________________________________________________________\n",
            "Layer (type)                 Output Shape              Param #   \n",
            "=================================================================\n",
            "lstm (LSTM)                  (None, 100, 64)           19456     \n",
            "_________________________________________________________________\n",
            "lstm_1 (LSTM)                (None, 100, 32)           12416     \n",
            "_________________________________________________________________\n",
            "lstm_2 (LSTM)                (None, 15)                2880      \n",
            "_________________________________________________________________\n",
            "repeat_vector (RepeatVector) (None, 20, 15)            0         \n",
            "_________________________________________________________________\n",
            "lstm_3 (LSTM)                (None, 20, 64)            20480     \n",
            "_________________________________________________________________\n",
            "lstm_4 (LSTM)                (None, 20, 32)            12416     \n",
            "_________________________________________________________________\n",
            "time_distributed (TimeDistri (None, 20, 1)             33        \n",
            "=================================================================\n",
            "Total params: 67,681\n",
            "Trainable params: 67,681\n",
            "Non-trainable params: 0\n",
            "_________________________________________________________________\n"
          ],
          "name": "stdout"
        }
      ]
    },
    {
      "cell_type": "code",
      "metadata": {
        "ExecuteTime": {
          "end_time": "2020-03-02T15:21:24.103660Z",
          "start_time": "2020-03-02T15:21:23.814400Z"
        },
        "colab": {
          "base_uri": "https://localhost:8080/",
          "height": 294
        },
        "id": "PwOi1wpjciUN",
        "outputId": "fe6bb028-9748-4bca-f446-61c2292eb1a0"
      },
      "source": [
        "plt.plot(history.history['loss'])\n",
        "plt.plot(history.history['val_loss'])\n",
        "plt.title('Model loss')\n",
        "plt.ylabel('loss')\n",
        "plt.xlabel('epoch')\n",
        "plt.legend(['train loss', 'validation loss'], loc='upper left')\n",
        "plt.rcParams[\"figure.figsize\"] = [20,6]\n",
        "plt.show()"
      ],
      "execution_count": 22,
      "outputs": [
        {
          "output_type": "display_data",
          "data": {
            "image/png": "[encoded data removed]",
            "text/plain": [
              "<Figure size 432x288 with 1 Axes>"
            ]
          },
          "metadata": {
            "tags": [],
            "needs_background": "light"
          }
        }
      ]
    },
    {
      "cell_type": "code",
      "metadata": {
        "ExecuteTime": {
          "end_time": "2020-03-02T15:21:26.407468Z",
          "start_time": "2020-03-02T15:21:26.398525Z"
        },
        "id": "Rj9lfrGMciUN",
        "colab": {
          "base_uri": "https://localhost:8080/"
        },
        "outputId": "5aaacae6-a3db-4ac0-c8f5-7a75684b745e"
      },
      "source": [
        "data_val = x_scaler.fit_transform(df[['ftseopen', 'ftsehigh', 'ftselow', 'ftseclose', 'ftsevolume',\n",
        "       'fwd_6mo_usd_to_gbp', '10yr_treasury_yield',\n",
        "       'uk_gdp_qoq_cvm_sa_growth_%', 'uk_unemployment_sa_%',\n",
        "       'uk_longterm_ir_%','returns']].tail(20))\n",
        "\n",
        "val_rescaled = data_val.reshape(1, data_val.shape[0], data_val.shape[1])\n",
        "\n",
        "Predicted_results = Trained_model.predict(val_rescaled)\n",
        "Predicted_results_Inv_trans = y_scaler.inverse_transform(Predicted_results.reshape(-1,1))"
      ],
      "execution_count": 23,
      "outputs": [
        {
          "output_type": "stream",
          "text": [
            "WARNING:tensorflow:Model was constructed with shape (None, 100, 11) for input KerasTensor(type_spec=TensorSpec(shape=(None, 100, 11), dtype=tf.float32, name='lstm_input'), name='lstm_input', description=\"created by layer 'lstm_input'\"), but it was called on an input with incompatible shape (None, 20, 11).\n"
          ],
          "name": "stdout"
        }
      ]
    },
    {
      "cell_type": "code",
      "metadata": {
        "ExecuteTime": {
          "end_time": "2020-03-02T15:21:27.461654Z",
          "start_time": "2020-03-02T15:21:27.457668Z"
        },
        "id": "XBxImKtkciUN"
      },
      "source": [
        "testing = validate[['ftseopen', 'ftsehigh', 'ftselow', 'ftseclose']].copy()\n",
        "testing['pred'] = Predicted_results_Inv_trans"
      ],
      "execution_count": 24,
      "outputs": []
    },
    {
      "cell_type": "code",
      "metadata": {
        "ExecuteTime": {
          "end_time": "2020-03-02T15:21:29.541129Z",
          "start_time": "2020-03-02T15:21:28.742236Z"
        },
        "colab": {
          "base_uri": "https://localhost:8080/",
          "height": 392
        },
        "id": "rk9lwZtQciUN",
        "outputId": "0266b921-936e-4860-ddc2-366600964901"
      },
      "source": [
        "f, ax = plt.subplots(figsize=(15,6))\n",
        "\n",
        "past = df[(df.index >= \"2020-11-01\") & (df.index < \"2020-12-01\")][['ftseclose', 'ftsehigh', 'ftselow']]\n",
        "ax.plot(testing[['pred']], color = 'orangered', label='Prediction')\n",
        "ax.plot(testing[['ftseclose']], color = 'limegreen', label='FTSE_CLOSE')\n",
        "ax.plot(past[['ftseclose']], color = 'cornflowerblue', label='Past FTSE_CLOSE')\n",
        "\n",
        "\n",
        "# ax.fill_between(test.ds, test.pred_lower, test.pred_upper, color='lightcoral', alpha=0.5)\n",
        "ax.fill_between(testing.index, testing.ftselow, testing.ftsehigh, color='lightgreen', alpha=0.5)\n",
        "ax.fill_between(past.index, past.ftselow, past.ftsehigh, color='lightskyblue', alpha=0.5)\n",
        "\n",
        "ax.set_title(\"Multivariate Encoder-Decoder LSTM Forecasting\", size = 15)\n",
        "ax.legend()\n",
        "\n",
        "plt.show()"
      ],
      "execution_count": 25,
      "outputs": [
        {
          "output_type": "display_data",
          "data": {
            "image/png": "[encoded data removed]",
            "text/plain": [
              "<Figure size 1080x432 with 1 Axes>"
            ]
          },
          "metadata": {
            "tags": [],
            "needs_background": "light"
          }
        }
      ]
    },
    {
      "cell_type": "code",
      "metadata": {
        "ExecuteTime": {
          "end_time": "2020-03-02T15:22:04.591469Z",
          "start_time": "2020-03-02T15:22:04.554531Z"
        },
        "id": "f7IwAcOlciUP"
      },
      "source": [
        "from sklearn import metrics\n",
        "def timeseries_evaluation_metrics_func(y_true, y_pred):\n",
        "    \n",
        "    def mean_absolute_percentage_error(y_true, y_pred): \n",
        "        y_true, y_pred = np.array(y_true), np.array(y_pred)\n",
        "        return np.mean(np.abs((y_true - y_pred) / y_true)) * 100\n",
        "    print('Evaluation metric results:-')\n",
        "    print(f'MSE is : {metrics.mean_squared_error(y_true, y_pred)}')\n",
        "    print(f'MAE is : {metrics.mean_absolute_error(y_true, y_pred)}')\n",
        "    print(f'RMSE is : {np.sqrt(metrics.mean_squared_error(y_true, y_pred))}')\n",
        "    print(f'MAPE is : {mean_absolute_percentage_error(y_true, y_pred)}')\n",
        "    print(f'R2 is : {metrics.r2_score(y_true, y_pred)}',end='\\n\\n')"
      ],
      "execution_count": 26,
      "outputs": []
    },
    {
      "cell_type": "code",
      "metadata": {
        "ExecuteTime": {
          "end_time": "2020-03-02T15:22:20.897856Z",
          "start_time": "2020-03-02T15:22:20.890877Z"
        },
        "colab": {
          "base_uri": "https://localhost:8080/"
        },
        "id": "XFgcPk8OciUP",
        "outputId": "a2880841-4b77-44fc-ea54-f05270982e9a"
      },
      "source": [
        "timeseries_evaluation_metrics_func(testing['ftseclose'],testing['pred'])"
      ],
      "execution_count": 27,
      "outputs": [
        {
          "output_type": "stream",
          "text": [
            "Evaluation metric results:-\n",
            "MSE is : 347440.98502157925\n",
            "MAE is : 584.2102294921875\n",
            "RMSE is : 589.4412481508053\n",
            "MAPE is : 8.957689817361222\n",
            "R2 is : -136.6639963245769\n",
            "\n"
          ],
          "name": "stdout"
        }
      ]
    },
    {
      "cell_type": "code",
      "metadata": {
        "id": "WCiXGbqfICpf",
        "colab": {
          "base_uri": "https://localhost:8080/",
          "height": 692
        },
        "outputId": "8611542f-bd3b-4a86-f786-66842b5b1c5d"
      },
      "source": [
        "testing"
      ],
      "execution_count": 28,
      "outputs": [
        {
          "output_type": "execute_result",
          "data": {
            "text/html": [
              "<div>\n",
              "<style scoped>\n",
              "    .dataframe tbody tr th:only-of-type {\n",
              "        vertical-align: middle;\n",
              "    }\n",
              "\n",
              "    .dataframe tbody tr th {\n",
              "        vertical-align: top;\n",
              "    }\n",
              "\n",
              "    .dataframe thead th {\n",
              "        text-align: right;\n",
              "    }\n",
              "</style>\n",
              "<table border=\"1\" class=\"dataframe\">\n",
              "  <thead>\n",
              "    <tr style=\"text-align: right;\">\n",
              "      <th></th>\n",
              "      <th>ftseopen</th>\n",
              "      <th>ftsehigh</th>\n",
              "      <th>ftselow</th>\n",
              "      <th>ftseclose</th>\n",
              "      <th>pred</th>\n",
              "    </tr>\n",
              "    <tr>\n",
              "      <th>Date</th>\n",
              "      <th></th>\n",
              "      <th></th>\n",
              "      <th></th>\n",
              "      <th></th>\n",
              "      <th></th>\n",
              "    </tr>\n",
              "  </thead>\n",
              "  <tbody>\n",
              "    <tr>\n",
              "      <th>2020-12-04</th>\n",
              "      <td>6490.299805</td>\n",
              "      <td>6559.200195</td>\n",
              "      <td>6489.799805</td>\n",
              "      <td>6550.200195</td>\n",
              "      <td>7370.577637</td>\n",
              "    </tr>\n",
              "    <tr>\n",
              "      <th>2020-12-07</th>\n",
              "      <td>6550.200195</td>\n",
              "      <td>6601.100098</td>\n",
              "      <td>6519.799805</td>\n",
              "      <td>6555.399902</td>\n",
              "      <td>7004.856445</td>\n",
              "    </tr>\n",
              "    <tr>\n",
              "      <th>2020-12-08</th>\n",
              "      <td>6555.399902</td>\n",
              "      <td>6567.600098</td>\n",
              "      <td>6518.399902</td>\n",
              "      <td>6558.799805</td>\n",
              "      <td>7112.959961</td>\n",
              "    </tr>\n",
              "    <tr>\n",
              "      <th>2020-12-09</th>\n",
              "      <td>6558.799805</td>\n",
              "      <td>6623.000000</td>\n",
              "      <td>6558.799805</td>\n",
              "      <td>6564.299805</td>\n",
              "      <td>7097.230469</td>\n",
              "    </tr>\n",
              "    <tr>\n",
              "      <th>2020-12-10</th>\n",
              "      <td>6564.299805</td>\n",
              "      <td>6640.700195</td>\n",
              "      <td>6561.100098</td>\n",
              "      <td>6599.799805</td>\n",
              "      <td>7101.031250</td>\n",
              "    </tr>\n",
              "    <tr>\n",
              "      <th>2020-12-11</th>\n",
              "      <td>6599.799805</td>\n",
              "      <td>6607.399902</td>\n",
              "      <td>6520.500000</td>\n",
              "      <td>6546.799805</td>\n",
              "      <td>7103.534180</td>\n",
              "    </tr>\n",
              "    <tr>\n",
              "      <th>2020-12-14</th>\n",
              "      <td>6546.799805</td>\n",
              "      <td>6583.700195</td>\n",
              "      <td>6524.700195</td>\n",
              "      <td>6531.799805</td>\n",
              "      <td>7105.164062</td>\n",
              "    </tr>\n",
              "    <tr>\n",
              "      <th>2020-12-15</th>\n",
              "      <td>6531.799805</td>\n",
              "      <td>6558.200195</td>\n",
              "      <td>6484.000000</td>\n",
              "      <td>6513.299805</td>\n",
              "      <td>7105.730469</td>\n",
              "    </tr>\n",
              "    <tr>\n",
              "      <th>2020-12-16</th>\n",
              "      <td>6513.299805</td>\n",
              "      <td>6598.399902</td>\n",
              "      <td>6513.299805</td>\n",
              "      <td>6570.899902</td>\n",
              "      <td>7105.461426</td>\n",
              "    </tr>\n",
              "    <tr>\n",
              "      <th>2020-12-17</th>\n",
              "      <td>6570.899902</td>\n",
              "      <td>6601.600098</td>\n",
              "      <td>6551.100098</td>\n",
              "      <td>6551.100098</td>\n",
              "      <td>7104.681641</td>\n",
              "    </tr>\n",
              "    <tr>\n",
              "      <th>2020-12-18</th>\n",
              "      <td>6551.100098</td>\n",
              "      <td>6604.500000</td>\n",
              "      <td>6518.299805</td>\n",
              "      <td>6529.200195</td>\n",
              "      <td>7103.653809</td>\n",
              "    </tr>\n",
              "    <tr>\n",
              "      <th>2020-12-21</th>\n",
              "      <td>6529.200195</td>\n",
              "      <td>6529.200195</td>\n",
              "      <td>6315.299805</td>\n",
              "      <td>6416.299805</td>\n",
              "      <td>7102.556152</td>\n",
              "    </tr>\n",
              "    <tr>\n",
              "      <th>2020-12-22</th>\n",
              "      <td>6529.200195</td>\n",
              "      <td>6529.200195</td>\n",
              "      <td>6315.299805</td>\n",
              "      <td>6416.299805</td>\n",
              "      <td>7101.499023</td>\n",
              "    </tr>\n",
              "    <tr>\n",
              "      <th>2020-12-23</th>\n",
              "      <td>6453.200195</td>\n",
              "      <td>6497.299805</td>\n",
              "      <td>6431.200195</td>\n",
              "      <td>6495.799805</td>\n",
              "      <td>7100.541504</td>\n",
              "    </tr>\n",
              "    <tr>\n",
              "      <th>2020-12-24</th>\n",
              "      <td>6495.799805</td>\n",
              "      <td>6530.299805</td>\n",
              "      <td>6479.600098</td>\n",
              "      <td>6502.100098</td>\n",
              "      <td>7099.708984</td>\n",
              "    </tr>\n",
              "    <tr>\n",
              "      <th>2020-12-25</th>\n",
              "      <td>6495.799805</td>\n",
              "      <td>6530.299805</td>\n",
              "      <td>6479.600098</td>\n",
              "      <td>6502.100098</td>\n",
              "      <td>7099.008789</td>\n",
              "    </tr>\n",
              "    <tr>\n",
              "      <th>2020-12-28</th>\n",
              "      <td>6495.799805</td>\n",
              "      <td>6530.299805</td>\n",
              "      <td>6479.600098</td>\n",
              "      <td>6502.100098</td>\n",
              "      <td>7098.432129</td>\n",
              "    </tr>\n",
              "    <tr>\n",
              "      <th>2020-12-29</th>\n",
              "      <td>6502.100098</td>\n",
              "      <td>6676.600098</td>\n",
              "      <td>6502.100098</td>\n",
              "      <td>6602.700195</td>\n",
              "      <td>7097.967285</td>\n",
              "    </tr>\n",
              "    <tr>\n",
              "      <th>2020-12-30</th>\n",
              "      <td>6602.700195</td>\n",
              "      <td>6623.000000</td>\n",
              "      <td>6552.500000</td>\n",
              "      <td>6555.799805</td>\n",
              "      <td>7097.598145</td>\n",
              "    </tr>\n",
              "    <tr>\n",
              "      <th>2020-12-31</th>\n",
              "      <td>6555.799805</td>\n",
              "      <td>6555.799805</td>\n",
              "      <td>6439.399902</td>\n",
              "      <td>6460.500000</td>\n",
              "      <td>7097.310059</td>\n",
              "    </tr>\n",
              "  </tbody>\n",
              "</table>\n",
              "</div>"
            ],
            "text/plain": [
              "               ftseopen     ftsehigh      ftselow    ftseclose         pred\n",
              "Date                                                                       \n",
              "2020-12-04  6490.299805  6559.200195  6489.799805  6550.200195  7370.577637\n",
              "2020-12-07  6550.200195  6601.100098  6519.799805  6555.399902  7004.856445\n",
              "2020-12-08  6555.399902  6567.600098  6518.399902  6558.799805  7112.959961\n",
              "2020-12-09  6558.799805  6623.000000  6558.799805  6564.299805  7097.230469\n",
              "2020-12-10  6564.299805  6640.700195  6561.100098  6599.799805  7101.031250\n",
              "2020-12-11  6599.799805  6607.399902  6520.500000  6546.799805  7103.534180\n",
              "2020-12-14  6546.799805  6583.700195  6524.700195  6531.799805  7105.164062\n",
              "2020-12-15  6531.799805  6558.200195  6484.000000  6513.299805  7105.730469\n",
              "2020-12-16  6513.299805  6598.399902  6513.299805  6570.899902  7105.461426\n",
              "2020-12-17  6570.899902  6601.600098  6551.100098  6551.100098  7104.681641\n",
              "2020-12-18  6551.100098  6604.500000  6518.299805  6529.200195  7103.653809\n",
              "2020-12-21  6529.200195  6529.200195  6315.299805  6416.299805  7102.556152\n",
              "2020-12-22  6529.200195  6529.200195  6315.299805  6416.299805  7101.499023\n",
              "2020-12-23  6453.200195  6497.299805  6431.200195  6495.799805  7100.541504\n",
              "2020-12-24  6495.799805  6530.299805  6479.600098  6502.100098  7099.708984\n",
              "2020-12-25  6495.799805  6530.299805  6479.600098  6502.100098  7099.008789\n",
              "2020-12-28  6495.799805  6530.299805  6479.600098  6502.100098  7098.432129\n",
              "2020-12-29  6502.100098  6676.600098  6502.100098  6602.700195  7097.967285\n",
              "2020-12-30  6602.700195  6623.000000  6552.500000  6555.799805  7097.598145\n",
              "2020-12-31  6555.799805  6555.799805  6439.399902  6460.500000  7097.310059"
            ]
          },
          "metadata": {
            "tags": []
          },
          "execution_count": 28
        }
      ]
    },
    {
      "cell_type": "code",
      "metadata": {
        "id": "1is14qZnICpg"
      },
      "source": [
        ""
      ],
      "execution_count": 28,
      "outputs": []
    },
    {
      "cell_type": "code",
      "metadata": {
        "id": "PQrz7m0dICpg"
      },
      "source": [
        "from sklearn import metrics\n",
        "def timeseries_evaluation_metrics_func(y_true, y_pred):\n",
        "    \n",
        "    def mean_absolute_percentage_error(y_true, y_pred): \n",
        "        y_true, y_pred = np.array(y_true), np.array(y_pred)\n",
        "        return np.mean(np.abs((y_true - y_pred) / y_true)) * 100\n",
        "    print('Evaluation metric results:-')\n",
        "    print(f'MSE is : {metrics.mean_squared_error(y_true, y_pred)}')\n",
        "    print(f'MAE is : {metrics.mean_absolute_error(y_true, y_pred)}')\n",
        "    print(f'RMSE is : {np.sqrt(metrics.mean_squared_error(y_true, y_pred))}')\n",
        "    print(f'MAPE is : {mean_absolute_percentage_error(y_true, y_pred)}')\n",
        "    print(f'R2 is : {metrics.r2_score(y_true, y_pred)}',end='\\n\\n')"
      ],
      "execution_count": 29,
      "outputs": []
    },
    {
      "cell_type": "code",
      "metadata": {
        "id": "FH566rNOICpg",
        "colab": {
          "base_uri": "https://localhost:8080/"
        },
        "outputId": "584de9e6-ca7c-4b43-83d6-b8a9cb55302a"
      },
      "source": [
        "timeseries_evaluation_metrics_func(testing.ftseclose, testing.pred)"
      ],
      "execution_count": 30,
      "outputs": [
        {
          "output_type": "stream",
          "text": [
            "Evaluation metric results:-\n",
            "MSE is : 347440.98502157925\n",
            "MAE is : 584.2102294921875\n",
            "RMSE is : 589.4412481508053\n",
            "MAPE is : 8.957689817361222\n",
            "R2 is : -136.6639963245769\n",
            "\n"
          ],
          "name": "stdout"
        }
      ]
    },
    {
      "cell_type": "code",
      "metadata": {
        "id": "JI9xdOpdICpg"
      },
      "source": [
        ""
      ],
      "execution_count": 30,
      "outputs": []
    }
  ]
}