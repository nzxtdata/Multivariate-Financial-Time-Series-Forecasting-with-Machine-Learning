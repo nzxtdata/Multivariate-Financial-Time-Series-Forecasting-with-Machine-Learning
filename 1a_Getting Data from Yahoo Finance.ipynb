{
 "cells": [
  {
   "cell_type": "code",
   "execution_count": 2,
   "metadata": {},
   "outputs": [],
   "source": [
    "# Importing the necessary package \n",
    "# Make sure to pip install it in Anaconda, if you don't have it\n",
    "import yfinance "
   ]
  },
  {
   "cell_type": "code",
   "execution_count": 3,
   "metadata": {},
   "outputs": [],
   "source": [
    "# Ignoring warning messages\n",
    "import warnings \n",
    "warnings.filterwarnings(\"ignore\")"
   ]
  },
  {
   "cell_type": "code",
   "execution_count": 12,
   "metadata": {},
   "outputs": [
    {
     "name": "stdout",
     "output_type": "stream",
     "text": [
      "[*********************100%***********************]  1 of 1 completed\n"
     ]
    }
   ],
   "source": [
    "# Using the .download() method to get our data\n",
    "\n",
    "raw_data = yfinance.download (tickers = \"^FTSE\", #The time series we are interested in - (in our case, these are the S&P, FTSE, NIKKEI and DAX)\n",
    "                              start = \"1994-01-07\", #The starting date of our data set\n",
    "                              end = \"2021-06-16\", #The ending date of our data set (at the time of upload, this is the current date)\n",
    "                              interval = \"1d\", #The distance in time between two recorded observations. Since we're using daily closing prices, we set it equal to \"1d\", which indicates 1 day. \n",
    "                              group_by = 'ticker', #The way we want to group the scraped data. Usually we want it to be \"ticker\", so that we have all the information about a time series in 1 variable.\n",
    "                              auto_adjust = True, #Automatically adjuss the closing prices for each period. \n",
    "                              treads = True) #Whether to use threads for mass downloading. \n",
    "# ^FTSE ^N225 ^GDAXI ^GSPC"
   ]
  },
  {
   "cell_type": "code",
   "execution_count": 13,
   "metadata": {},
   "outputs": [],
   "source": [
    "# Creating a back up copy in case we remove/alter elements of the data by mistake\n",
    "df_comp = raw_data.copy()"
   ]
  },
  {
   "cell_type": "code",
   "execution_count": 14,
   "metadata": {},
   "outputs": [
    {
     "data": {
      "text/html": [
       "<div>\n",
       "<style scoped>\n",
       "    .dataframe tbody tr th:only-of-type {\n",
       "        vertical-align: middle;\n",
       "    }\n",
       "\n",
       "    .dataframe tbody tr th {\n",
       "        vertical-align: top;\n",
       "    }\n",
       "\n",
       "    .dataframe thead th {\n",
       "        text-align: right;\n",
       "    }\n",
       "</style>\n",
       "<table border=\"1\" class=\"dataframe\">\n",
       "  <thead>\n",
       "    <tr style=\"text-align: right;\">\n",
       "      <th></th>\n",
       "      <th>Open</th>\n",
       "      <th>High</th>\n",
       "      <th>Low</th>\n",
       "      <th>Close</th>\n",
       "      <th>Volume</th>\n",
       "    </tr>\n",
       "    <tr>\n",
       "      <th>Date</th>\n",
       "      <th></th>\n",
       "      <th></th>\n",
       "      <th></th>\n",
       "      <th></th>\n",
       "      <th></th>\n",
       "    </tr>\n",
       "  </thead>\n",
       "  <tbody>\n",
       "    <tr>\n",
       "      <th>1994-01-07</th>\n",
       "      <td>3401.399902</td>\n",
       "      <td>3446.800049</td>\n",
       "      <td>3398.699951</td>\n",
       "      <td>3446.000000</td>\n",
       "      <td>0</td>\n",
       "    </tr>\n",
       "    <tr>\n",
       "      <th>1994-01-10</th>\n",
       "      <td>3465.699951</td>\n",
       "      <td>3468.100098</td>\n",
       "      <td>3430.000000</td>\n",
       "      <td>3440.600098</td>\n",
       "      <td>0</td>\n",
       "    </tr>\n",
       "    <tr>\n",
       "      <th>1994-01-11</th>\n",
       "      <td>3442.500000</td>\n",
       "      <td>3442.500000</td>\n",
       "      <td>3413.500000</td>\n",
       "      <td>3413.800049</td>\n",
       "      <td>0</td>\n",
       "    </tr>\n",
       "    <tr>\n",
       "      <th>1994-01-12</th>\n",
       "      <td>3394.800049</td>\n",
       "      <td>3402.399902</td>\n",
       "      <td>3372.000000</td>\n",
       "      <td>3372.000000</td>\n",
       "      <td>0</td>\n",
       "    </tr>\n",
       "    <tr>\n",
       "      <th>1994-01-13</th>\n",
       "      <td>3380.699951</td>\n",
       "      <td>3383.300049</td>\n",
       "      <td>3356.899902</td>\n",
       "      <td>3360.000000</td>\n",
       "      <td>0</td>\n",
       "    </tr>\n",
       "    <tr>\n",
       "      <th>...</th>\n",
       "      <td>...</td>\n",
       "      <td>...</td>\n",
       "      <td>...</td>\n",
       "      <td>...</td>\n",
       "      <td>...</td>\n",
       "    </tr>\n",
       "    <tr>\n",
       "      <th>2021-06-09</th>\n",
       "      <td>7095.100098</td>\n",
       "      <td>7095.700195</td>\n",
       "      <td>7046.000000</td>\n",
       "      <td>7081.000000</td>\n",
       "      <td>575133700</td>\n",
       "    </tr>\n",
       "    <tr>\n",
       "      <th>2021-06-10</th>\n",
       "      <td>7081.000000</td>\n",
       "      <td>7117.700195</td>\n",
       "      <td>7080.000000</td>\n",
       "      <td>7088.200195</td>\n",
       "      <td>574917100</td>\n",
       "    </tr>\n",
       "    <tr>\n",
       "      <th>2021-06-11</th>\n",
       "      <td>7088.200195</td>\n",
       "      <td>7140.700195</td>\n",
       "      <td>7088.200195</td>\n",
       "      <td>7134.100098</td>\n",
       "      <td>509040600</td>\n",
       "    </tr>\n",
       "    <tr>\n",
       "      <th>2021-06-14</th>\n",
       "      <td>7134.100098</td>\n",
       "      <td>7188.299805</td>\n",
       "      <td>7131.799805</td>\n",
       "      <td>7146.700195</td>\n",
       "      <td>551244200</td>\n",
       "    </tr>\n",
       "    <tr>\n",
       "      <th>2021-06-15</th>\n",
       "      <td>7146.700195</td>\n",
       "      <td>7189.600098</td>\n",
       "      <td>7142.700195</td>\n",
       "      <td>7172.500000</td>\n",
       "      <td>779379400</td>\n",
       "    </tr>\n",
       "  </tbody>\n",
       "</table>\n",
       "<p>6931 rows × 5 columns</p>\n",
       "</div>"
      ],
      "text/plain": [
       "                   Open         High          Low        Close     Volume\n",
       "Date                                                                     \n",
       "1994-01-07  3401.399902  3446.800049  3398.699951  3446.000000          0\n",
       "1994-01-10  3465.699951  3468.100098  3430.000000  3440.600098          0\n",
       "1994-01-11  3442.500000  3442.500000  3413.500000  3413.800049          0\n",
       "1994-01-12  3394.800049  3402.399902  3372.000000  3372.000000          0\n",
       "1994-01-13  3380.699951  3383.300049  3356.899902  3360.000000          0\n",
       "...                 ...          ...          ...          ...        ...\n",
       "2021-06-09  7095.100098  7095.700195  7046.000000  7081.000000  575133700\n",
       "2021-06-10  7081.000000  7117.700195  7080.000000  7088.200195  574917100\n",
       "2021-06-11  7088.200195  7140.700195  7088.200195  7134.100098  509040600\n",
       "2021-06-14  7134.100098  7188.299805  7131.799805  7146.700195  551244200\n",
       "2021-06-15  7146.700195  7189.600098  7142.700195  7172.500000  779379400\n",
       "\n",
       "[6931 rows x 5 columns]"
      ]
     },
     "execution_count": 14,
     "metadata": {},
     "output_type": "execute_result"
    }
   ],
   "source": [
    "df_comp"
   ]
  },
  {
   "cell_type": "code",
   "execution_count": 15,
   "metadata": {},
   "outputs": [],
   "source": [
    "# Adding new columns to the data set\n",
    "df_comp['ftseopen'] = df_comp['Open']\n",
    "df_comp['ftsehigh'] = df_comp['High']\n",
    "df_comp['ftselow'] = df_comp['Low']\n",
    "df_comp['ftseclose'] = df_comp['Close']\n",
    "df_comp['ftsevolume'] = df_comp['Volume']"
   ]
  },
  {
   "cell_type": "code",
   "execution_count": 16,
   "metadata": {
    "scrolled": true
   },
   "outputs": [],
   "source": [
    "df_comp = df_comp.iloc[1:] # Removing the first elements, since we always start 1 period before the first, due to time zone differences of closing prices\n",
    "del df_comp['Open']\n",
    "del df_comp['High']\n",
    "del df_comp['Low']\n",
    "del df_comp['Close']\n",
    "del df_comp['Volume']\n",
    "\n"
   ]
  },
  {
   "cell_type": "code",
   "execution_count": 17,
   "metadata": {
    "scrolled": true
   },
   "outputs": [
    {
     "name": "stdout",
     "output_type": "stream",
     "text": [
      "               ftseopen     ftsehigh      ftselow    ftseclose  ftsevolume\n",
      "Date                                                                      \n",
      "1994-01-10  3465.699951  3468.100098  3430.000000  3440.600098           0\n",
      "1994-01-11  3442.500000  3442.500000  3413.500000  3413.800049           0\n",
      "1994-01-12  3394.800049  3402.399902  3372.000000  3372.000000           0\n",
      "1994-01-13  3380.699951  3383.300049  3356.899902  3360.000000           0\n",
      "1994-01-14  3370.899902  3405.600098  3369.399902  3400.600098           0\n",
      "               ftseopen     ftsehigh      ftselow    ftseclose  ftsevolume\n",
      "Date                                                                      \n",
      "2021-06-09  7095.100098  7095.700195  7046.000000  7081.000000   575133700\n",
      "2021-06-10  7081.000000  7117.700195  7080.000000  7088.200195   574917100\n",
      "2021-06-11  7088.200195  7140.700195  7088.200195  7134.100098   509040600\n",
      "2021-06-14  7134.100098  7188.299805  7131.799805  7146.700195   551244200\n",
      "2021-06-15  7146.700195  7189.600098  7142.700195  7172.500000   779379400\n"
     ]
    }
   ],
   "source": [
    "print (df_comp.head()) # Displaying the first 5 elements to make sure the data was scrapped correctly\n",
    "print (df_comp.tail()) # Making sure of the last day we're including in the series"
   ]
  },
  {
   "cell_type": "code",
   "execution_count": 18,
   "metadata": {},
   "outputs": [],
   "source": [
    "df_comp.to_csv('FTSE.csv')\n"
   ]
  },
  {
   "cell_type": "code",
   "execution_count": null,
   "metadata": {},
   "outputs": [],
   "source": []
  }
 ],
 "metadata": {
  "kernelspec": {
   "display_name": "Python 3",
   "language": "python",
   "name": "python3"
  },
  "language_info": {
   "codemirror_mode": {
    "name": "ipython",
    "version": 3
   },
   "file_extension": ".py",
   "mimetype": "text/x-python",
   "name": "python",
   "nbconvert_exporter": "python",
   "pygments_lexer": "ipython3",
   "version": "3.7.6"
  }
 },
 "nbformat": 4,
 "nbformat_minor": 2
}
