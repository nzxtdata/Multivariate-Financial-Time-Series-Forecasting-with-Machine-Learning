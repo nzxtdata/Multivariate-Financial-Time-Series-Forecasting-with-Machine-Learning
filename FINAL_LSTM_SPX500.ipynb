{
  "nbformat": 4,
  "nbformat_minor": 0,
  "metadata": {
    "kernelspec": {
      "display_name": "Python 3",
      "language": "python",
      "name": "python3"
    },
    "language_info": {
      "codemirror_mode": {
        "name": "ipython",
        "version": 3
      },
      "file_extension": ".py",
      "mimetype": "text/x-python",
      "name": "python",
      "nbconvert_exporter": "python",
      "pygments_lexer": "ipython3",
      "version": "3.9.5"
    },
    "colab": {
      "name": "FINAL LSTM SPX500.ipynb",
      "provenance": [],
      "collapsed_sections": []
    }
  },
  "cells": [
    {
      "cell_type": "code",
      "metadata": {
        "id": "iV_y9yKrB61g"
      },
      "source": [
        "import sys\n",
        "import numpy as np\n",
        "import pandas as pd\n",
        "import pickle as pkl\n",
        "\n",
        "from tensorflow.keras.models import Sequential\n",
        "from tensorflow.keras.layers import LSTM, Dense, Dropout, RepeatVector\n",
        "from tensorflow.keras.optimizers import Adam, Nadam\n",
        "from sklearn.preprocessing import MinMaxScaler\n",
        "import matplotlib.pyplot as plt\n",
        "import seaborn as sns\n",
        "\n",
        "sns.set()"
      ],
      "execution_count": 2,
      "outputs": []
    },
    {
      "cell_type": "code",
      "metadata": {
        "colab": {
          "base_uri": "https://localhost:8080/",
          "height": 35
        },
        "id": "V_eiLR8hB61g",
        "outputId": "08e19670-8519-4761-8d26-ae34b9f4cfd6"
      },
      "source": [
        "np.__version__"
      ],
      "execution_count": 3,
      "outputs": [
        {
          "output_type": "execute_result",
          "data": {
            "application/vnd.google.colaboratory.intrinsic+json": {
              "type": "string"
            },
            "text/plain": [
              "'1.19.5'"
            ]
          },
          "metadata": {
            "tags": []
          },
          "execution_count": 3
        }
      ]
    },
    {
      "cell_type": "code",
      "metadata": {
        "id": "DvwQ6hIdB61h"
      },
      "source": [
        "# convert series to supervised learning\n",
        "def series_to_supervised(data, column_names, n_in=1, n_out=1, dropnan=True):\n",
        "    n_vars = 1 if type(data) is list else data.shape[1]\n",
        "    df = pd.DataFrame(data)\n",
        "    cols, names = list(), list()\n",
        "    # input sequence (t-n, ... t-1)\n",
        "    for i in range(n_in, 0, -1):\n",
        "        cols.append(df.shift(i))\n",
        "        names += [('{}(t-{})'.format(j, i)) for j in column_names]\n",
        "    # forecast sequence (t, t+1, ... t+n)\n",
        "    for i in range(0, n_out):\n",
        "#         print(\"This should not be happening\")\n",
        "        cols.append(df.shift(-i))\n",
        "#         print(cols)\n",
        "        if i == 0:\n",
        "            names += [('{}(t)'.format(j)) for j in column_names]\n",
        "        else:\n",
        "            names += [('{}(t+{})'.format(j, i)) for j in column_names]\n",
        "    # put it all together\n",
        "    agg = pd.concat(cols, axis=1)\n",
        "    agg.columns = names\n",
        "    # drop rows with NaN values\n",
        "    if dropnan:\n",
        "        agg.dropna(inplace=True)\n",
        "    return agg\n"
      ],
      "execution_count": 4,
      "outputs": []
    },
    {
      "cell_type": "markdown",
      "metadata": {
        "id": "nm4NYtItB61i"
      },
      "source": [
        "## Reading and Preprocessing Data"
      ]
    },
    {
      "cell_type": "code",
      "metadata": {
        "id": "ltaYeVWOB61i"
      },
      "source": [
        "df = pd.read_csv('https://raw.githubusercontent.com/nzxtdata/Multivariate-Financial-Time-Series-Forecasting-with-Machine-Learning/main/SPXfundamental.csv')\n",
        "df['Date'] = pd.to_datetime(df['Date'])\n",
        "df = df.set_index('Date')\n",
        "df = df[df.index.year <= 2020]\n",
        "predict_date = df[df.index >= \"2020-12-01\"][['spxclose']]\n",
        "# df = df[df.index.year <= 2020]"
      ],
      "execution_count": 5,
      "outputs": []
    },
    {
      "cell_type": "markdown",
      "metadata": {
        "id": "85q9X8YbB61j"
      },
      "source": [
        "## Converting Data to Supervised"
      ]
    },
    {
      "cell_type": "code",
      "metadata": {
        "id": "zC_0uJIPB61j"
      },
      "source": [
        "supervised_df = series_to_supervised(df, column_names=df.columns, n_in=120, n_out=20, dropnan=True)"
      ],
      "execution_count": 6,
      "outputs": []
    },
    {
      "cell_type": "markdown",
      "metadata": {
        "id": "Z2K__1MoB61j"
      },
      "source": [
        "## Creating Train Test Split"
      ]
    },
    {
      "cell_type": "code",
      "metadata": {
        "colab": {
          "base_uri": "https://localhost:8080/"
        },
        "id": "x4rQkIE9B61k",
        "outputId": "b24d2b92-0023-46eb-cb6f-48b30f721cbd"
      },
      "source": [
        "values = supervised_df[supervised_df.filter(regex=('t-')).columns]\n",
        "target_values = supervised_df.drop(columns=supervised_df.filter(regex=('t-')).columns)\n",
        "target_values = target_values.values\n",
        "values = values.values\n",
        "\n",
        "scaler_target = MinMaxScaler(feature_range=(-1 ,1))\n",
        "scaled_target = scaler_target.fit_transform(target_values)\n",
        "scaler = MinMaxScaler(feature_range=(-1, 1))\n",
        "scaled = scaler.fit_transform(values)\n",
        "\n",
        "print(\"Splitting data into train, validation, test\")\n",
        "train_X, train_y = scaled[:int(len(values)*0.60)], scaled_target[:int(len(values)*0.60)]\n",
        "valid_X, valid_y = scaled[int(len(values)*0.60):int(len(values)*0.85), :], scaled_target[int(len(values)*0.60):int(len(values)*0.85), :]\n",
        "test_X, test_y = scaled[int(len(values)*0.85):, :], scaled_target[int(len(values)*0.85):, :]\n",
        "\n",
        "ncols = len(df.columns)\n",
        "print(\"{} input columns identified\".format(ncols))"
      ],
      "execution_count": 7,
      "outputs": [
        {
          "output_type": "stream",
          "text": [
            "Splitting data into train, validation, test\n",
            "10 input columns identified\n"
          ],
          "name": "stdout"
        }
      ]
    },
    {
      "cell_type": "code",
      "metadata": {
        "id": "dhtzEzVJB61k"
      },
      "source": [
        "train_X = train_X.reshape((train_X.shape[0], int(train_X.shape[1]/ncols), ncols))\n",
        "valid_X = valid_X.reshape((valid_X.shape[0], int(valid_X.shape[1]/ncols), ncols))\n",
        "test_X = test_X.reshape((test_X.shape[0], int(test_X.shape[1]/ncols), ncols))"
      ],
      "execution_count": 8,
      "outputs": []
    },
    {
      "cell_type": "code",
      "metadata": {
        "colab": {
          "base_uri": "https://localhost:8080/"
        },
        "id": "SoHLAKfnB61l",
        "outputId": "031f101c-c875-48bb-f765-23559e1a51e0"
      },
      "source": [
        "train_y.shape"
      ],
      "execution_count": 9,
      "outputs": [
        {
          "output_type": "execute_result",
          "data": {
            "text/plain": [
              "(2599, 200)"
            ]
          },
          "metadata": {
            "tags": []
          },
          "execution_count": 9
        }
      ]
    },
    {
      "cell_type": "markdown",
      "metadata": {
        "id": "5zizpAEHB61l"
      },
      "source": [
        "## Defining Model Architecture"
      ]
    },
    {
      "cell_type": "code",
      "metadata": {
        "colab": {
          "base_uri": "https://localhost:8080/"
        },
        "id": "ZfJGY0qQB61l",
        "outputId": "4bb6e7c1-6a21-42bb-d5b5-7ddf39862dff"
      },
      "source": [
        "print(\"Starting network design\")\n",
        "\n",
        "# design network\n",
        "model = Sequential()\n",
        "model.add(LSTM(64, input_shape=(train_X.shape[1], train_X.shape[2]), return_sequences=True))\n",
        "model.add(LSTM(32, input_shape=(train_X.shape[1], train_X.shape[2]), return_sequences=True))\n",
        "model.add(LSTM(32, input_shape=(train_X.shape[1], train_X.shape[2]), return_sequences=False))\n",
        "model.add(Dense(1024, activation='relu'))\n",
        "model.add(Dropout(0.25))\n",
        "model.add(Dense(512, activation='relu'))\n",
        "model.add(Dropout(0.25))\n",
        "model.add(Dense(test_y.shape[1]))\n",
        "adm = Adam(decay=0.2, learning_rate=0.001)\n",
        "ndm = Nadam(schedule_decay=0.1, learning_rate=0.001)\n",
        "model.compile(loss='mean_squared_error', optimizer=adm)\n",
        "\n",
        "print(\"Network designed and compiled\")\n",
        "print(model.summary())"
      ],
      "execution_count": 10,
      "outputs": [
        {
          "output_type": "stream",
          "text": [
            "Starting network design\n",
            "Network designed and compiled\n",
            "Model: \"sequential\"\n",
            "_________________________________________________________________\n",
            "Layer (type)                 Output Shape              Param #   \n",
            "=================================================================\n",
            "lstm (LSTM)                  (None, 120, 64)           19200     \n",
            "_________________________________________________________________\n",
            "lstm_1 (LSTM)                (None, 120, 32)           12416     \n",
            "_________________________________________________________________\n",
            "lstm_2 (LSTM)                (None, 32)                8320      \n",
            "_________________________________________________________________\n",
            "dense (Dense)                (None, 1024)              33792     \n",
            "_________________________________________________________________\n",
            "dropout (Dropout)            (None, 1024)              0         \n",
            "_________________________________________________________________\n",
            "dense_1 (Dense)              (None, 512)               524800    \n",
            "_________________________________________________________________\n",
            "dropout_1 (Dropout)          (None, 512)               0         \n",
            "_________________________________________________________________\n",
            "dense_2 (Dense)              (None, 200)               102600    \n",
            "=================================================================\n",
            "Total params: 701,128\n",
            "Trainable params: 701,128\n",
            "Non-trainable params: 0\n",
            "_________________________________________________________________\n",
            "None\n"
          ],
          "name": "stdout"
        }
      ]
    },
    {
      "cell_type": "markdown",
      "metadata": {
        "id": "aNsV3DIbB61m"
      },
      "source": [
        "## Training the Model"
      ]
    },
    {
      "cell_type": "code",
      "metadata": {
        "colab": {
          "base_uri": "https://localhost:8080/"
        },
        "id": "HmMgSb6hB61m",
        "outputId": "333b9f2b-dbe1-4111-db90-47cb89b9b6a7"
      },
      "source": [
        "# fit network\n",
        "print(\"Starting training\")\n",
        "history = model.fit(train_X, train_y, epochs=100, batch_size=64, validation_data=(valid_X, valid_y), verbose=1, shuffle=False)\n",
        "print(\"Training finished\")"
      ],
      "execution_count": 11,
      "outputs": [
        {
          "output_type": "stream",
          "text": [
            "Starting training\n",
            "Epoch 1/100\n",
            "41/41 [==============================] - 14s 229ms/step - loss: 0.2569 - val_loss: 0.2087\n",
            "Epoch 2/100\n",
            "41/41 [==============================] - 8s 200ms/step - loss: 0.1555 - val_loss: 0.2135\n",
            "Epoch 3/100\n",
            "41/41 [==============================] - 8s 199ms/step - loss: 0.1386 - val_loss: 0.2071\n",
            "Epoch 4/100\n",
            "41/41 [==============================] - 8s 199ms/step - loss: 0.1281 - val_loss: 0.2012\n",
            "Epoch 5/100\n",
            "41/41 [==============================] - 8s 202ms/step - loss: 0.1185 - val_loss: 0.1981\n",
            "Epoch 6/100\n",
            "41/41 [==============================] - 8s 204ms/step - loss: 0.1095 - val_loss: 0.1947\n",
            "Epoch 7/100\n",
            "41/41 [==============================] - 8s 204ms/step - loss: 0.1017 - val_loss: 0.1921\n",
            "Epoch 8/100\n",
            "41/41 [==============================] - 8s 204ms/step - loss: 0.0953 - val_loss: 0.1899\n",
            "Epoch 9/100\n",
            "41/41 [==============================] - 8s 203ms/step - loss: 0.0902 - val_loss: 0.1882\n",
            "Epoch 10/100\n",
            "41/41 [==============================] - 8s 202ms/step - loss: 0.0859 - val_loss: 0.1869\n",
            "Epoch 11/100\n",
            "41/41 [==============================] - 8s 203ms/step - loss: 0.0825 - val_loss: 0.1859\n",
            "Epoch 12/100\n",
            "41/41 [==============================] - 8s 206ms/step - loss: 0.0798 - val_loss: 0.1849\n",
            "Epoch 13/100\n",
            "41/41 [==============================] - 8s 207ms/step - loss: 0.0771 - val_loss: 0.1841\n",
            "Epoch 14/100\n",
            "41/41 [==============================] - 8s 205ms/step - loss: 0.0751 - val_loss: 0.1835\n",
            "Epoch 15/100\n",
            "41/41 [==============================] - 8s 203ms/step - loss: 0.0734 - val_loss: 0.1829\n",
            "Epoch 16/100\n",
            "41/41 [==============================] - 8s 203ms/step - loss: 0.0719 - val_loss: 0.1822\n",
            "Epoch 17/100\n",
            "41/41 [==============================] - 8s 205ms/step - loss: 0.0707 - val_loss: 0.1817\n",
            "Epoch 18/100\n",
            "41/41 [==============================] - 8s 205ms/step - loss: 0.0697 - val_loss: 0.1813\n",
            "Epoch 19/100\n",
            "41/41 [==============================] - 8s 203ms/step - loss: 0.0686 - val_loss: 0.1809\n",
            "Epoch 20/100\n",
            "41/41 [==============================] - 8s 205ms/step - loss: 0.0675 - val_loss: 0.1805\n",
            "Epoch 21/100\n",
            "41/41 [==============================] - 8s 203ms/step - loss: 0.0668 - val_loss: 0.1802\n",
            "Epoch 22/100\n",
            "41/41 [==============================] - 8s 203ms/step - loss: 0.0660 - val_loss: 0.1798\n",
            "Epoch 23/100\n",
            "41/41 [==============================] - 8s 204ms/step - loss: 0.0655 - val_loss: 0.1795\n",
            "Epoch 24/100\n",
            "41/41 [==============================] - 8s 204ms/step - loss: 0.0647 - val_loss: 0.1792\n",
            "Epoch 25/100\n",
            "41/41 [==============================] - 8s 204ms/step - loss: 0.0642 - val_loss: 0.1789\n",
            "Epoch 26/100\n",
            "41/41 [==============================] - 8s 203ms/step - loss: 0.0636 - val_loss: 0.1787\n",
            "Epoch 27/100\n",
            "41/41 [==============================] - 8s 204ms/step - loss: 0.0633 - val_loss: 0.1784\n",
            "Epoch 28/100\n",
            "41/41 [==============================] - 8s 205ms/step - loss: 0.0627 - val_loss: 0.1781\n",
            "Epoch 29/100\n",
            "41/41 [==============================] - 8s 204ms/step - loss: 0.0624 - val_loss: 0.1778\n",
            "Epoch 30/100\n",
            "41/41 [==============================] - 8s 205ms/step - loss: 0.0621 - val_loss: 0.1777\n",
            "Epoch 31/100\n",
            "41/41 [==============================] - 8s 204ms/step - loss: 0.0615 - val_loss: 0.1775\n",
            "Epoch 32/100\n",
            "41/41 [==============================] - 8s 204ms/step - loss: 0.0611 - val_loss: 0.1773\n",
            "Epoch 33/100\n",
            "41/41 [==============================] - 8s 203ms/step - loss: 0.0608 - val_loss: 0.1771\n",
            "Epoch 34/100\n",
            "41/41 [==============================] - 8s 202ms/step - loss: 0.0608 - val_loss: 0.1769\n",
            "Epoch 35/100\n",
            "41/41 [==============================] - 8s 204ms/step - loss: 0.0603 - val_loss: 0.1767\n",
            "Epoch 36/100\n",
            "41/41 [==============================] - 8s 204ms/step - loss: 0.0598 - val_loss: 0.1766\n",
            "Epoch 37/100\n",
            "41/41 [==============================] - 8s 204ms/step - loss: 0.0595 - val_loss: 0.1764\n",
            "Epoch 38/100\n",
            "41/41 [==============================] - 8s 203ms/step - loss: 0.0594 - val_loss: 0.1762\n",
            "Epoch 39/100\n",
            "41/41 [==============================] - 8s 203ms/step - loss: 0.0591 - val_loss: 0.1761\n",
            "Epoch 40/100\n",
            "41/41 [==============================] - 8s 204ms/step - loss: 0.0588 - val_loss: 0.1759\n",
            "Epoch 41/100\n",
            "41/41 [==============================] - 8s 205ms/step - loss: 0.0588 - val_loss: 0.1758\n",
            "Epoch 42/100\n",
            "41/41 [==============================] - 8s 204ms/step - loss: 0.0584 - val_loss: 0.1757\n",
            "Epoch 43/100\n",
            "41/41 [==============================] - 8s 202ms/step - loss: 0.0580 - val_loss: 0.1755\n",
            "Epoch 44/100\n",
            "41/41 [==============================] - 8s 205ms/step - loss: 0.0579 - val_loss: 0.1754\n",
            "Epoch 45/100\n",
            "41/41 [==============================] - 8s 205ms/step - loss: 0.0579 - val_loss: 0.1752\n",
            "Epoch 46/100\n",
            "41/41 [==============================] - 8s 203ms/step - loss: 0.0576 - val_loss: 0.1751\n",
            "Epoch 47/100\n",
            "41/41 [==============================] - 8s 204ms/step - loss: 0.0573 - val_loss: 0.1750\n",
            "Epoch 48/100\n",
            "41/41 [==============================] - 8s 204ms/step - loss: 0.0572 - val_loss: 0.1749\n",
            "Epoch 49/100\n",
            "41/41 [==============================] - 8s 207ms/step - loss: 0.0573 - val_loss: 0.1748\n",
            "Epoch 50/100\n",
            "41/41 [==============================] - 8s 206ms/step - loss: 0.0565 - val_loss: 0.1747\n",
            "Epoch 51/100\n",
            "41/41 [==============================] - 8s 206ms/step - loss: 0.0565 - val_loss: 0.1745\n",
            "Epoch 52/100\n",
            "41/41 [==============================] - 8s 206ms/step - loss: 0.0563 - val_loss: 0.1744\n",
            "Epoch 53/100\n",
            "41/41 [==============================] - 8s 205ms/step - loss: 0.0564 - val_loss: 0.1743\n",
            "Epoch 54/100\n",
            "41/41 [==============================] - 8s 204ms/step - loss: 0.0561 - val_loss: 0.1742\n",
            "Epoch 55/100\n",
            "41/41 [==============================] - 8s 205ms/step - loss: 0.0561 - val_loss: 0.1741\n",
            "Epoch 56/100\n",
            "41/41 [==============================] - 8s 206ms/step - loss: 0.0558 - val_loss: 0.1740\n",
            "Epoch 57/100\n",
            "41/41 [==============================] - 8s 207ms/step - loss: 0.0556 - val_loss: 0.1739\n",
            "Epoch 58/100\n",
            "41/41 [==============================] - 8s 207ms/step - loss: 0.0557 - val_loss: 0.1738\n",
            "Epoch 59/100\n",
            "41/41 [==============================] - 8s 206ms/step - loss: 0.0556 - val_loss: 0.1737\n",
            "Epoch 60/100\n",
            "41/41 [==============================] - 8s 207ms/step - loss: 0.0554 - val_loss: 0.1736\n",
            "Epoch 61/100\n",
            "41/41 [==============================] - 8s 205ms/step - loss: 0.0551 - val_loss: 0.1735\n",
            "Epoch 62/100\n",
            "41/41 [==============================] - 8s 206ms/step - loss: 0.0550 - val_loss: 0.1734\n",
            "Epoch 63/100\n",
            "41/41 [==============================] - 8s 207ms/step - loss: 0.0548 - val_loss: 0.1733\n",
            "Epoch 64/100\n",
            "41/41 [==============================] - 8s 206ms/step - loss: 0.0549 - val_loss: 0.1733\n",
            "Epoch 65/100\n",
            "41/41 [==============================] - 8s 206ms/step - loss: 0.0547 - val_loss: 0.1732\n",
            "Epoch 66/100\n",
            "41/41 [==============================] - 8s 206ms/step - loss: 0.0546 - val_loss: 0.1731\n",
            "Epoch 67/100\n",
            "41/41 [==============================] - 8s 202ms/step - loss: 0.0544 - val_loss: 0.1730\n",
            "Epoch 68/100\n",
            "41/41 [==============================] - 8s 204ms/step - loss: 0.0546 - val_loss: 0.1730\n",
            "Epoch 69/100\n",
            "41/41 [==============================] - 8s 206ms/step - loss: 0.0542 - val_loss: 0.1729\n",
            "Epoch 70/100\n",
            "41/41 [==============================] - 8s 206ms/step - loss: 0.0541 - val_loss: 0.1728\n",
            "Epoch 71/100\n",
            "41/41 [==============================] - 8s 203ms/step - loss: 0.0541 - val_loss: 0.1727\n",
            "Epoch 72/100\n",
            "41/41 [==============================] - 8s 205ms/step - loss: 0.0540 - val_loss: 0.1726\n",
            "Epoch 73/100\n",
            "41/41 [==============================] - 8s 205ms/step - loss: 0.0540 - val_loss: 0.1726\n",
            "Epoch 74/100\n",
            "41/41 [==============================] - 8s 203ms/step - loss: 0.0539 - val_loss: 0.1725\n",
            "Epoch 75/100\n",
            "41/41 [==============================] - 8s 202ms/step - loss: 0.0538 - val_loss: 0.1724\n",
            "Epoch 76/100\n",
            "41/41 [==============================] - 8s 203ms/step - loss: 0.0535 - val_loss: 0.1724\n",
            "Epoch 77/100\n",
            "41/41 [==============================] - 8s 205ms/step - loss: 0.0535 - val_loss: 0.1723\n",
            "Epoch 78/100\n",
            "41/41 [==============================] - 8s 204ms/step - loss: 0.0536 - val_loss: 0.1722\n",
            "Epoch 79/100\n",
            "41/41 [==============================] - 8s 204ms/step - loss: 0.0533 - val_loss: 0.1722\n",
            "Epoch 80/100\n",
            "41/41 [==============================] - 8s 203ms/step - loss: 0.0532 - val_loss: 0.1721\n",
            "Epoch 81/100\n",
            "41/41 [==============================] - 8s 204ms/step - loss: 0.0532 - val_loss: 0.1721\n",
            "Epoch 82/100\n",
            "41/41 [==============================] - 8s 204ms/step - loss: 0.0529 - val_loss: 0.1720\n",
            "Epoch 83/100\n",
            "41/41 [==============================] - 8s 203ms/step - loss: 0.0531 - val_loss: 0.1719\n",
            "Epoch 84/100\n",
            "41/41 [==============================] - 8s 205ms/step - loss: 0.0529 - val_loss: 0.1719\n",
            "Epoch 85/100\n",
            "41/41 [==============================] - 8s 204ms/step - loss: 0.0528 - val_loss: 0.1718\n",
            "Epoch 86/100\n",
            "41/41 [==============================] - 8s 205ms/step - loss: 0.0529 - val_loss: 0.1718\n",
            "Epoch 87/100\n",
            "41/41 [==============================] - 8s 206ms/step - loss: 0.0526 - val_loss: 0.1717\n",
            "Epoch 88/100\n",
            "41/41 [==============================] - 8s 207ms/step - loss: 0.0526 - val_loss: 0.1717\n",
            "Epoch 89/100\n",
            "41/41 [==============================] - 8s 208ms/step - loss: 0.0526 - val_loss: 0.1716\n",
            "Epoch 90/100\n",
            "41/41 [==============================] - 8s 206ms/step - loss: 0.0523 - val_loss: 0.1715\n",
            "Epoch 91/100\n",
            "41/41 [==============================] - 8s 205ms/step - loss: 0.0524 - val_loss: 0.1715\n",
            "Epoch 92/100\n",
            "41/41 [==============================] - 8s 205ms/step - loss: 0.0524 - val_loss: 0.1714\n",
            "Epoch 93/100\n",
            "41/41 [==============================] - 8s 205ms/step - loss: 0.0524 - val_loss: 0.1714\n",
            "Epoch 94/100\n",
            "41/41 [==============================] - 8s 204ms/step - loss: 0.0521 - val_loss: 0.1713\n",
            "Epoch 95/100\n",
            "41/41 [==============================] - 8s 205ms/step - loss: 0.0521 - val_loss: 0.1713\n",
            "Epoch 96/100\n",
            "41/41 [==============================] - 8s 206ms/step - loss: 0.0519 - val_loss: 0.1712\n",
            "Epoch 97/100\n",
            "41/41 [==============================] - 8s 204ms/step - loss: 0.0520 - val_loss: 0.1712\n",
            "Epoch 98/100\n",
            "41/41 [==============================] - 8s 207ms/step - loss: 0.0519 - val_loss: 0.1711\n",
            "Epoch 99/100\n",
            "41/41 [==============================] - 8s 206ms/step - loss: 0.0518 - val_loss: 0.1711\n",
            "Epoch 100/100\n",
            "41/41 [==============================] - 8s 206ms/step - loss: 0.0519 - val_loss: 0.1710\n",
            "Training finished\n"
          ],
          "name": "stdout"
        }
      ]
    },
    {
      "cell_type": "code",
      "metadata": {
        "colab": {
          "base_uri": "https://localhost:8080/",
          "height": 301
        },
        "id": "rgVOXB5-B61n",
        "outputId": "e0e42196-1049-41a7-9ab8-4172f98b35a9"
      },
      "source": [
        "plt.plot(history.history['loss'])\n",
        "plt.plot(history.history['val_loss'])\n",
        "plt.title('Model loss')\n",
        "plt.ylabel('loss')\n",
        "plt.xlabel('epoch')\n",
        "plt.legend(['train loss', 'validation loss'], loc='upper left')\n",
        "plt.rcParams[\"figure.figsize\"] = [20,6]\n",
        "plt.show()"
      ],
      "execution_count": 12,
      "outputs": [
        {
          "output_type": "display_data",
          "data": {
            "image/png": "[encoded data removed]",
            "text/plain": [
              "<Figure size 432x288 with 1 Axes>"
            ]
          },
          "metadata": {
            "tags": []
          }
        }
      ]
    },
    {
      "cell_type": "markdown",
      "metadata": {
        "id": "LY7pzPIbB61n"
      },
      "source": [
        "## Predicting Test Data"
      ]
    },
    {
      "cell_type": "code",
      "metadata": {
        "colab": {
          "base_uri": "https://localhost:8080/"
        },
        "id": "o5O_E4weB61n",
        "outputId": "7ece5f18-2226-4ff9-f6fc-54a6b5022c24"
      },
      "source": [
        "predictions = model.predict(test_X)\n",
        "predictions.shape"
      ],
      "execution_count": 13,
      "outputs": [
        {
          "output_type": "execute_result",
          "data": {
            "text/plain": [
              "(650, 200)"
            ]
          },
          "metadata": {
            "tags": []
          },
          "execution_count": 13
        }
      ]
    },
    {
      "cell_type": "code",
      "metadata": {
        "id": "y02cEuUsB61o"
      },
      "source": [
        "def transform_predictions(pred_df, cols, scaler, n_days_future=30):\n",
        "    pred_df = pred_df.reshape(-1, len(cols) * n_days_future)\n",
        "\n",
        "    # np array to df\n",
        "    denormalized = scaler.inverse_transform(pred_df)\n",
        "    pred_df = denormalized.reshape((n_days_future, len(cols)))\n",
        "    pred_df = pd.DataFrame(pred_df, columns=cols)\n",
        "\n",
        "    return pred_df"
      ],
      "execution_count": 14,
      "outputs": []
    },
    {
      "cell_type": "markdown",
      "metadata": {
        "id": "7IT3fqwyB61o"
      },
      "source": [
        "## Transforming Predictions"
      ]
    },
    {
      "cell_type": "code",
      "metadata": {
        "colab": {
          "base_uri": "https://localhost:8080/"
        },
        "id": "rjqWAT1Gt7RJ",
        "outputId": "34819aa6-c39f-4617-c86b-8850f863901b"
      },
      "source": [
        "df.columns"
      ],
      "execution_count": 15,
      "outputs": [
        {
          "output_type": "execute_result",
          "data": {
            "text/plain": [
              "Index(['spxopen', 'spxhigh', 'spxlow', 'spxclose', 'spxvolume',\n",
              "       'US_treasury_yield', 'OPEC/ORB - Value', 'us_gdp_qoq',\n",
              "       'us_unemployment_ra_%', 'us_longterm_ir_%'],\n",
              "      dtype='object')"
            ]
          },
          "metadata": {
            "tags": []
          },
          "execution_count": 15
        }
      ]
    },
    {
      "cell_type": "code",
      "metadata": {
        "id": "sPeGE5KQB61o"
      },
      "source": [
        "preds = transform_predictions(predictions[0], df.columns, scaler_target, n_days_future=20)['spxclose']\n",
        "tests = transform_predictions(test_y[1], df.columns, scaler_target, n_days_future=20)['spxclose']\n",
        "\n",
        "testing = df[['spxopen', 'spxhigh', 'spxlow', 'spxclose', 'spxvolume',\n",
        "       'US_treasury_yield', 'OPEC/ORB - Value', 'us_gdp_qoq',\n",
        "       'us_unemployment_ra_%', 'us_longterm_ir_%']][-20:]\n",
        "testing['pred'] = preds.values\n",
        "#'spxclose','spxlow', 'spxhigh'"
      ],
      "execution_count": 16,
      "outputs": []
    },
    {
      "cell_type": "markdown",
      "metadata": {
        "id": "O214c8tcB61p"
      },
      "source": [
        "## Plotting Results"
      ]
    },
    {
      "cell_type": "code",
      "metadata": {
        "colab": {
          "base_uri": "https://localhost:8080/",
          "height": 394
        },
        "id": "loMeybxMB61p",
        "outputId": "7fc01db8-f7a1-4db0-896e-55529103e16c"
      },
      "source": [
        "f, ax = plt.subplots(figsize=(15,6))\n",
        "\n",
        "past = df[(df.index >= \"2020-11-01\") & (df.index < \"2020-12-01\")][['spxclose', 'spxhigh', 'spxlow']]\n",
        "ax.plot(testing[['pred']], color = 'orangered', label='Prediction')\n",
        "ax.plot(testing[['spxclose']], color = 'limegreen', label='SPX_CLOSE')\n",
        "ax.plot(past[['spxclose']], color = 'cornflowerblue', label='Past SPX_CLOSE')\n",
        "\n",
        "\n",
        "# ax.fill_between(test.ds, test.pred_lower, test.pred_upper, color='lightcoral', alpha=0.5)\n",
        "ax.fill_between(testing.index, testing.spxlow, testing.spxhigh, color='lightgreen', alpha=0.5)\n",
        "ax.fill_between(past.index, past.spxlow, past.spxhigh, color='lightskyblue', alpha=0.5)\n",
        "\n",
        "ax.set_title(\"Multivariate LSTM Forecasting\", size = 15)\n",
        "ax.legend()\n",
        "\n",
        "plt.show()"
      ],
      "execution_count": 17,
      "outputs": [
        {
          "output_type": "display_data",
          "data": {
            "image/png": "[encoded data removed]",
            "text/plain": [
              "<Figure size 1080x432 with 1 Axes>"
            ]
          },
          "metadata": {
            "tags": []
          }
        }
      ]
    },
    {
      "cell_type": "code",
      "metadata": {
        "id": "AgBudCqfB61q"
      },
      "source": [
        "from sklearn import metrics\n",
        "def timeseries_evaluation_metrics_func(y_true, y_pred):\n",
        "    \n",
        "    def mean_absolute_percentage_error(y_true, y_pred): \n",
        "        y_true, y_pred = np.array(y_true), np.array(y_pred)\n",
        "        return np.mean(np.abs((y_true - y_pred) / y_true)) * 100\n",
        "    print('Evaluation metric results:-')\n",
        "    print(f'MSE is : {metrics.mean_squared_error(y_true, y_pred)}')\n",
        "    print(f'MAE is : {metrics.mean_absolute_error(y_true, y_pred)}')\n",
        "    print(f'RMSE is : {np.sqrt(metrics.mean_squared_error(y_true, y_pred))}')\n",
        "    print(f'MAPE is : {mean_absolute_percentage_error(y_true, y_pred)}')\n",
        "    print(f'R2 is : {metrics.r2_score(y_true, y_pred)}',end='\\n\\n')"
      ],
      "execution_count": 18,
      "outputs": []
    },
    {
      "cell_type": "code",
      "metadata": {
        "colab": {
          "base_uri": "https://localhost:8080/"
        },
        "id": "LgL2H7rcB61q",
        "outputId": "6587dcc5-5996-48dd-e0b1-5e75ef19bc80"
      },
      "source": [
        "timeseries_evaluation_metrics_func(testing.spxclose, testing.pred)"
      ],
      "execution_count": 19,
      "outputs": [
        {
          "output_type": "stream",
          "text": [
            "Evaluation metric results:-\n",
            "MSE is : 2826532.7434598943\n",
            "MAE is : 1680.9950256347656\n",
            "RMSE is : 1681.229533246396\n",
            "MAPE is : 45.45242763830519\n",
            "R2 is : -4025.3208113449464\n",
            "\n"
          ],
          "name": "stdout"
        }
      ]
    },
    {
      "cell_type": "code",
      "metadata": {
        "id": "TJTu8GHFB61q"
      },
      "source": [
        ""
      ],
      "execution_count": 19,
      "outputs": []
    }
  ]
}