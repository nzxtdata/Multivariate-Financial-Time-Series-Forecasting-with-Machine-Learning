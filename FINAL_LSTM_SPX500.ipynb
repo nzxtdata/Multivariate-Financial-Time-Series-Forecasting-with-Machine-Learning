{
  "nbformat": 4,
  "nbformat_minor": 0,
  "metadata": {
    "kernelspec": {
      "display_name": "Python 3",
      "language": "python",
      "name": "python3"
    },
    "language_info": {
      "codemirror_mode": {
        "name": "ipython",
        "version": 3
      },
      "file_extension": ".py",
      "mimetype": "text/x-python",
      "name": "python",
      "nbconvert_exporter": "python",
      "pygments_lexer": "ipython3",
      "version": "3.9.5"
    },
    "colab": {
      "name": "FINAL LSTM SPX500.ipynb",
      "provenance": [],
      "collapsed_sections": []
    }
  },
  "cells": [
    {
      "cell_type": "code",
      "metadata": {
        "id": "iV_y9yKrB61g"
      },
      "source": [
        "import sys\n",
        "import numpy as np\n",
        "import pandas as pd\n",
        "import pickle as pkl\n",
        "\n",
        "from tensorflow.keras.models import Sequential\n",
        "from tensorflow.keras.layers import LSTM, Dense, Dropout, RepeatVector\n",
        "from tensorflow.keras.optimizers import Adam, Nadam\n",
        "from sklearn.preprocessing import MinMaxScaler\n",
        "import matplotlib.pyplot as plt\n",
        "import seaborn as sns\n",
        "\n",
        "sns.set()"
      ],
      "execution_count": 1,
      "outputs": []
    },
    {
      "cell_type": "code",
      "metadata": {
        "colab": {
          "base_uri": "https://localhost:8080/",
          "height": 35
        },
        "id": "V_eiLR8hB61g",
        "outputId": "24483174-a175-472f-8a86-16881c62beb2"
      },
      "source": [
        "np.__version__"
      ],
      "execution_count": 2,
      "outputs": [
        {
          "output_type": "execute_result",
          "data": {
            "application/vnd.google.colaboratory.intrinsic+json": {
              "type": "string"
            },
            "text/plain": [
              "'1.19.5'"
            ]
          },
          "metadata": {
            "tags": []
          },
          "execution_count": 2
        }
      ]
    },
    {
      "cell_type": "code",
      "metadata": {
        "id": "DvwQ6hIdB61h"
      },
      "source": [
        "# convert series to supervised learning\n",
        "def series_to_supervised(data, column_names, n_in=1, n_out=1, dropnan=True):\n",
        "    n_vars = 1 if type(data) is list else data.shape[1]\n",
        "    df = pd.DataFrame(data)\n",
        "    cols, names = list(), list()\n",
        "    # input sequence (t-n, ... t-1)\n",
        "    for i in range(n_in, 0, -1):\n",
        "        cols.append(df.shift(i))\n",
        "        names += [('{}(t-{})'.format(j, i)) for j in column_names]\n",
        "    # forecast sequence (t, t+1, ... t+n)\n",
        "    for i in range(0, n_out):\n",
        "#         print(\"This should not be happening\")\n",
        "        cols.append(df.shift(-i))\n",
        "#         print(cols)\n",
        "        if i == 0:\n",
        "            names += [('{}(t)'.format(j)) for j in column_names]\n",
        "        else:\n",
        "            names += [('{}(t+{})'.format(j, i)) for j in column_names]\n",
        "    # put it all together\n",
        "    agg = pd.concat(cols, axis=1)\n",
        "    agg.columns = names\n",
        "    # drop rows with NaN values\n",
        "    if dropnan:\n",
        "        agg.dropna(inplace=True)\n",
        "    return agg\n"
      ],
      "execution_count": 3,
      "outputs": []
    },
    {
      "cell_type": "markdown",
      "metadata": {
        "id": "nm4NYtItB61i"
      },
      "source": [
        "## Reading and Preprocessing Data"
      ]
    },
    {
      "cell_type": "code",
      "metadata": {
        "id": "ltaYeVWOB61i"
      },
      "source": [
        "df = pd.read_csv('https://raw.githubusercontent.com/nzxtdata/Multivariate-Financial-Time-Series-Forecasting-with-Machine-Learning/main/SPXfundamental.csv')\n",
        "df['Date'] = pd.to_datetime(df['Date'])\n",
        "df = df.set_index('Date')\n",
        "df = df[df.index.year <= 2020]\n",
        "predict_date = df[df.index >= \"2020-12-01\"][['spxclose']]\n",
        "# df = df[df.index.year <= 2020]"
      ],
      "execution_count": 6,
      "outputs": []
    },
    {
      "cell_type": "markdown",
      "metadata": {
        "id": "85q9X8YbB61j"
      },
      "source": [
        "## Converting Data to Supervised"
      ]
    },
    {
      "cell_type": "code",
      "metadata": {
        "id": "zC_0uJIPB61j"
      },
      "source": [
        "supervised_df = series_to_supervised(df, column_names=df.columns, n_in=120, n_out=20, dropnan=True)"
      ],
      "execution_count": 7,
      "outputs": []
    },
    {
      "cell_type": "markdown",
      "metadata": {
        "id": "Z2K__1MoB61j"
      },
      "source": [
        "## Creating Train Test Split"
      ]
    },
    {
      "cell_type": "code",
      "metadata": {
        "colab": {
          "base_uri": "https://localhost:8080/"
        },
        "id": "x4rQkIE9B61k",
        "outputId": "f9516276-b223-4b7c-d5f9-c9c1f429b554"
      },
      "source": [
        "values = supervised_df[supervised_df.filter(regex=('t-')).columns]\n",
        "target_values = supervised_df.drop(columns=supervised_df.filter(regex=('t-')).columns)\n",
        "target_values = target_values.values\n",
        "values = values.values\n",
        "\n",
        "scaler_target = MinMaxScaler(feature_range=(-1 ,1))\n",
        "scaled_target = scaler_target.fit_transform(target_values)\n",
        "scaler = MinMaxScaler(feature_range=(-1, 1))\n",
        "scaled = scaler.fit_transform(values)\n",
        "\n",
        "print(\"Splitting data into train, validation, test\")\n",
        "train_X, train_y = scaled[:int(len(values)*0.60)], scaled_target[:int(len(values)*0.60)]\n",
        "valid_X, valid_y = scaled[int(len(values)*0.60):int(len(values)*0.85), :], scaled_target[int(len(values)*0.60):int(len(values)*0.85), :]\n",
        "test_X, test_y = scaled[int(len(values)*0.85):, :], scaled_target[int(len(values)*0.85):, :]\n",
        "\n",
        "ncols = len(df.columns)\n",
        "print(\"{} input columns identified\".format(ncols))"
      ],
      "execution_count": 8,
      "outputs": [
        {
          "output_type": "stream",
          "text": [
            "Splitting data into train, validation, test\n",
            "10 input columns identified\n"
          ],
          "name": "stdout"
        }
      ]
    },
    {
      "cell_type": "code",
      "metadata": {
        "id": "dhtzEzVJB61k"
      },
      "source": [
        "train_X = train_X.reshape((train_X.shape[0], int(train_X.shape[1]/ncols), ncols))\n",
        "valid_X = valid_X.reshape((valid_X.shape[0], int(valid_X.shape[1]/ncols), ncols))\n",
        "test_X = test_X.reshape((test_X.shape[0], int(test_X.shape[1]/ncols), ncols))"
      ],
      "execution_count": 9,
      "outputs": []
    },
    {
      "cell_type": "code",
      "metadata": {
        "colab": {
          "base_uri": "https://localhost:8080/"
        },
        "id": "SoHLAKfnB61l",
        "outputId": "b3ef3cf9-a9e2-4d63-9b4c-e6937e171cde"
      },
      "source": [
        "train_y.shape"
      ],
      "execution_count": 10,
      "outputs": [
        {
          "output_type": "execute_result",
          "data": {
            "text/plain": [
              "(2599, 200)"
            ]
          },
          "metadata": {
            "tags": []
          },
          "execution_count": 10
        }
      ]
    },
    {
      "cell_type": "markdown",
      "metadata": {
        "id": "5zizpAEHB61l"
      },
      "source": [
        "## Defining Model Architecture"
      ]
    },
    {
      "cell_type": "code",
      "metadata": {
        "colab": {
          "base_uri": "https://localhost:8080/"
        },
        "id": "ZfJGY0qQB61l",
        "outputId": "776a1215-6f6e-4e1c-b48b-b4c17f4da9ad"
      },
      "source": [
        "print(\"Starting network design\")\n",
        "\n",
        "# design network\n",
        "model = Sequential()\n",
        "model.add(LSTM(64, input_shape=(train_X.shape[1], train_X.shape[2]), return_sequences=True))\n",
        "model.add(LSTM(32, input_shape=(train_X.shape[1], train_X.shape[2]), return_sequences=True))\n",
        "model.add(LSTM(32, input_shape=(train_X.shape[1], train_X.shape[2]), return_sequences=False))\n",
        "model.add(Dense(1024, activation='relu'))\n",
        "model.add(Dropout(0.25))\n",
        "model.add(Dense(512, activation='relu'))\n",
        "model.add(Dropout(0.25))\n",
        "model.add(Dense(test_y.shape[1]))\n",
        "adm = Adam(decay=0.2, learning_rate=0.001)\n",
        "ndm = Nadam(schedule_decay=0.1, learning_rate=0.001)\n",
        "model.compile(loss='mean_squared_error', optimizer=adm)\n",
        "\n",
        "print(\"Network designed and compiled\")\n",
        "print(model.summary())"
      ],
      "execution_count": 11,
      "outputs": [
        {
          "output_type": "stream",
          "text": [
            "Starting network design\n",
            "Network designed and compiled\n",
            "Model: \"sequential\"\n",
            "_________________________________________________________________\n",
            "Layer (type)                 Output Shape              Param #   \n",
            "=================================================================\n",
            "lstm (LSTM)                  (None, 120, 64)           19200     \n",
            "_________________________________________________________________\n",
            "lstm_1 (LSTM)                (None, 120, 32)           12416     \n",
            "_________________________________________________________________\n",
            "lstm_2 (LSTM)                (None, 32)                8320      \n",
            "_________________________________________________________________\n",
            "dense (Dense)                (None, 1024)              33792     \n",
            "_________________________________________________________________\n",
            "dropout (Dropout)            (None, 1024)              0         \n",
            "_________________________________________________________________\n",
            "dense_1 (Dense)              (None, 512)               524800    \n",
            "_________________________________________________________________\n",
            "dropout_1 (Dropout)          (None, 512)               0         \n",
            "_________________________________________________________________\n",
            "dense_2 (Dense)              (None, 200)               102600    \n",
            "=================================================================\n",
            "Total params: 701,128\n",
            "Trainable params: 701,128\n",
            "Non-trainable params: 0\n",
            "_________________________________________________________________\n",
            "None\n"
          ],
          "name": "stdout"
        }
      ]
    },
    {
      "cell_type": "markdown",
      "metadata": {
        "id": "aNsV3DIbB61m"
      },
      "source": [
        "## Training the Model"
      ]
    },
    {
      "cell_type": "code",
      "metadata": {
        "colab": {
          "base_uri": "https://localhost:8080/"
        },
        "id": "HmMgSb6hB61m",
        "outputId": "ff427230-c8d8-444b-b073-829c54dc46bc"
      },
      "source": [
        "# fit network\n",
        "print(\"Starting training\")\n",
        "history = model.fit(train_X, train_y, epochs=100, batch_size=64, validation_data=(valid_X, valid_y), verbose=1, shuffle=False)\n",
        "print(\"Training finished\")"
      ],
      "execution_count": 12,
      "outputs": [
        {
          "output_type": "stream",
          "text": [
            "Starting training\n",
            "Epoch 1/100\n",
            "41/41 [==============================] - 16s 264ms/step - loss: 0.2405 - val_loss: 0.2098\n",
            "Epoch 2/100\n",
            "41/41 [==============================] - 9s 230ms/step - loss: 0.1627 - val_loss: 0.2115\n",
            "Epoch 3/100\n",
            "41/41 [==============================] - 10s 234ms/step - loss: 0.1434 - val_loss: 0.2051\n",
            "Epoch 4/100\n",
            "41/41 [==============================] - 10s 238ms/step - loss: 0.1370 - val_loss: 0.2002\n",
            "Epoch 5/100\n",
            "41/41 [==============================] - 10s 233ms/step - loss: 0.1313 - val_loss: 0.1976\n",
            "Epoch 6/100\n",
            "41/41 [==============================] - 10s 235ms/step - loss: 0.1261 - val_loss: 0.1954\n",
            "Epoch 7/100\n",
            "41/41 [==============================] - 9s 229ms/step - loss: 0.1204 - val_loss: 0.1935\n",
            "Epoch 8/100\n",
            "41/41 [==============================] - 9s 228ms/step - loss: 0.1154 - val_loss: 0.1918\n",
            "Epoch 9/100\n",
            "41/41 [==============================] - 10s 235ms/step - loss: 0.1101 - val_loss: 0.1904\n",
            "Epoch 10/100\n",
            "41/41 [==============================] - 10s 233ms/step - loss: 0.1055 - val_loss: 0.1892\n",
            "Epoch 11/100\n",
            "41/41 [==============================] - 9s 232ms/step - loss: 0.1012 - val_loss: 0.1882\n",
            "Epoch 12/100\n",
            "41/41 [==============================] - 9s 231ms/step - loss: 0.0972 - val_loss: 0.1873\n",
            "Epoch 13/100\n",
            "41/41 [==============================] - 10s 236ms/step - loss: 0.0939 - val_loss: 0.1865\n",
            "Epoch 14/100\n",
            "41/41 [==============================] - 9s 229ms/step - loss: 0.0909 - val_loss: 0.1858\n",
            "Epoch 15/100\n",
            "41/41 [==============================] - 9s 228ms/step - loss: 0.0883 - val_loss: 0.1852\n",
            "Epoch 16/100\n",
            "41/41 [==============================] - 9s 228ms/step - loss: 0.0859 - val_loss: 0.1847\n",
            "Epoch 17/100\n",
            "41/41 [==============================] - 10s 236ms/step - loss: 0.0837 - val_loss: 0.1842\n",
            "Epoch 18/100\n",
            "41/41 [==============================] - 9s 231ms/step - loss: 0.0817 - val_loss: 0.1837\n",
            "Epoch 19/100\n",
            "41/41 [==============================] - 10s 240ms/step - loss: 0.0799 - val_loss: 0.1833\n",
            "Epoch 20/100\n",
            "41/41 [==============================] - 10s 238ms/step - loss: 0.0784 - val_loss: 0.1829\n",
            "Epoch 21/100\n",
            "41/41 [==============================] - 9s 230ms/step - loss: 0.0771 - val_loss: 0.1826\n",
            "Epoch 22/100\n",
            "41/41 [==============================] - 9s 226ms/step - loss: 0.0758 - val_loss: 0.1824\n",
            "Epoch 23/100\n",
            "41/41 [==============================] - 9s 229ms/step - loss: 0.0747 - val_loss: 0.1821\n",
            "Epoch 24/100\n",
            "41/41 [==============================] - 9s 230ms/step - loss: 0.0737 - val_loss: 0.1819\n",
            "Epoch 25/100\n",
            "41/41 [==============================] - 9s 232ms/step - loss: 0.0728 - val_loss: 0.1816\n",
            "Epoch 26/100\n",
            "41/41 [==============================] - 9s 232ms/step - loss: 0.0720 - val_loss: 0.1814\n",
            "Epoch 27/100\n",
            "41/41 [==============================] - 9s 226ms/step - loss: 0.0712 - val_loss: 0.1813\n",
            "Epoch 28/100\n",
            "41/41 [==============================] - 10s 234ms/step - loss: 0.0704 - val_loss: 0.1811\n",
            "Epoch 29/100\n",
            "41/41 [==============================] - 9s 230ms/step - loss: 0.0699 - val_loss: 0.1809\n",
            "Epoch 30/100\n",
            "41/41 [==============================] - 9s 228ms/step - loss: 0.0693 - val_loss: 0.1808\n",
            "Epoch 31/100\n",
            "41/41 [==============================] - 10s 233ms/step - loss: 0.0688 - val_loss: 0.1806\n",
            "Epoch 32/100\n",
            "41/41 [==============================] - 9s 232ms/step - loss: 0.0682 - val_loss: 0.1805\n",
            "Epoch 33/100\n",
            "41/41 [==============================] - 9s 228ms/step - loss: 0.0677 - val_loss: 0.1803\n",
            "Epoch 34/100\n",
            "41/41 [==============================] - 10s 235ms/step - loss: 0.0672 - val_loss: 0.1802\n",
            "Epoch 35/100\n",
            "41/41 [==============================] - 10s 234ms/step - loss: 0.0667 - val_loss: 0.1801\n",
            "Epoch 36/100\n",
            "41/41 [==============================] - 10s 233ms/step - loss: 0.0661 - val_loss: 0.1799\n",
            "Epoch 37/100\n",
            "41/41 [==============================] - 9s 231ms/step - loss: 0.0659 - val_loss: 0.1798\n",
            "Epoch 38/100\n",
            "41/41 [==============================] - 9s 229ms/step - loss: 0.0656 - val_loss: 0.1797\n",
            "Epoch 39/100\n",
            "41/41 [==============================] - 10s 232ms/step - loss: 0.0653 - val_loss: 0.1797\n",
            "Epoch 40/100\n",
            "41/41 [==============================] - 10s 235ms/step - loss: 0.0651 - val_loss: 0.1796\n",
            "Epoch 41/100\n",
            "41/41 [==============================] - 10s 234ms/step - loss: 0.0647 - val_loss: 0.1795\n",
            "Epoch 42/100\n",
            "41/41 [==============================] - 10s 233ms/step - loss: 0.0642 - val_loss: 0.1794\n",
            "Epoch 43/100\n",
            "41/41 [==============================] - 10s 235ms/step - loss: 0.0642 - val_loss: 0.1793\n",
            "Epoch 44/100\n",
            "41/41 [==============================] - 9s 230ms/step - loss: 0.0637 - val_loss: 0.1792\n",
            "Epoch 45/100\n",
            "41/41 [==============================] - 10s 238ms/step - loss: 0.0635 - val_loss: 0.1791\n",
            "Epoch 46/100\n",
            "41/41 [==============================] - 9s 231ms/step - loss: 0.0633 - val_loss: 0.1790\n",
            "Epoch 47/100\n",
            "41/41 [==============================] - 9s 227ms/step - loss: 0.0629 - val_loss: 0.1790\n",
            "Epoch 48/100\n",
            "41/41 [==============================] - 10s 239ms/step - loss: 0.0629 - val_loss: 0.1789\n",
            "Epoch 49/100\n",
            "41/41 [==============================] - 10s 237ms/step - loss: 0.0625 - val_loss: 0.1788\n",
            "Epoch 50/100\n",
            "41/41 [==============================] - 9s 226ms/step - loss: 0.0623 - val_loss: 0.1787\n",
            "Epoch 51/100\n",
            "41/41 [==============================] - 9s 229ms/step - loss: 0.0623 - val_loss: 0.1787\n",
            "Epoch 52/100\n",
            "41/41 [==============================] - 9s 225ms/step - loss: 0.0622 - val_loss: 0.1786\n",
            "Epoch 53/100\n",
            "41/41 [==============================] - 9s 228ms/step - loss: 0.0617 - val_loss: 0.1785\n",
            "Epoch 54/100\n",
            "41/41 [==============================] - 9s 225ms/step - loss: 0.0616 - val_loss: 0.1785\n",
            "Epoch 55/100\n",
            "41/41 [==============================] - 9s 226ms/step - loss: 0.0613 - val_loss: 0.1784\n",
            "Epoch 56/100\n",
            "41/41 [==============================] - 9s 222ms/step - loss: 0.0612 - val_loss: 0.1784\n",
            "Epoch 57/100\n",
            "41/41 [==============================] - 9s 224ms/step - loss: 0.0611 - val_loss: 0.1783\n",
            "Epoch 58/100\n",
            "41/41 [==============================] - 9s 224ms/step - loss: 0.0609 - val_loss: 0.1783\n",
            "Epoch 59/100\n",
            "41/41 [==============================] - 9s 225ms/step - loss: 0.0606 - val_loss: 0.1782\n",
            "Epoch 60/100\n",
            "41/41 [==============================] - 9s 229ms/step - loss: 0.0606 - val_loss: 0.1781\n",
            "Epoch 61/100\n",
            "41/41 [==============================] - 9s 231ms/step - loss: 0.0605 - val_loss: 0.1781\n",
            "Epoch 62/100\n",
            "41/41 [==============================] - 9s 224ms/step - loss: 0.0604 - val_loss: 0.1781\n",
            "Epoch 63/100\n",
            "41/41 [==============================] - 9s 228ms/step - loss: 0.0604 - val_loss: 0.1780\n",
            "Epoch 64/100\n",
            "41/41 [==============================] - 9s 226ms/step - loss: 0.0600 - val_loss: 0.1780\n",
            "Epoch 65/100\n",
            "41/41 [==============================] - 9s 221ms/step - loss: 0.0601 - val_loss: 0.1779\n",
            "Epoch 66/100\n",
            "41/41 [==============================] - 9s 223ms/step - loss: 0.0597 - val_loss: 0.1779\n",
            "Epoch 67/100\n",
            "41/41 [==============================] - 9s 223ms/step - loss: 0.0597 - val_loss: 0.1778\n",
            "Epoch 68/100\n",
            "41/41 [==============================] - 9s 232ms/step - loss: 0.0595 - val_loss: 0.1778\n",
            "Epoch 69/100\n",
            "41/41 [==============================] - 9s 227ms/step - loss: 0.0593 - val_loss: 0.1778\n",
            "Epoch 70/100\n",
            "41/41 [==============================] - 9s 226ms/step - loss: 0.0593 - val_loss: 0.1777\n",
            "Epoch 71/100\n",
            "41/41 [==============================] - 9s 227ms/step - loss: 0.0592 - val_loss: 0.1777\n",
            "Epoch 72/100\n",
            "41/41 [==============================] - 9s 227ms/step - loss: 0.0591 - val_loss: 0.1776\n",
            "Epoch 73/100\n",
            "41/41 [==============================] - 9s 231ms/step - loss: 0.0590 - val_loss: 0.1776\n",
            "Epoch 74/100\n",
            "41/41 [==============================] - 9s 223ms/step - loss: 0.0589 - val_loss: 0.1776\n",
            "Epoch 75/100\n",
            "41/41 [==============================] - 9s 222ms/step - loss: 0.0586 - val_loss: 0.1775\n",
            "Epoch 76/100\n",
            "41/41 [==============================] - 9s 225ms/step - loss: 0.0585 - val_loss: 0.1775\n",
            "Epoch 77/100\n",
            "41/41 [==============================] - 9s 227ms/step - loss: 0.0586 - val_loss: 0.1775\n",
            "Epoch 78/100\n",
            "41/41 [==============================] - 10s 232ms/step - loss: 0.0584 - val_loss: 0.1774\n",
            "Epoch 79/100\n",
            "41/41 [==============================] - 9s 227ms/step - loss: 0.0585 - val_loss: 0.1774\n",
            "Epoch 80/100\n",
            "41/41 [==============================] - 10s 233ms/step - loss: 0.0582 - val_loss: 0.1774\n",
            "Epoch 81/100\n",
            "41/41 [==============================] - 9s 229ms/step - loss: 0.0579 - val_loss: 0.1773\n",
            "Epoch 82/100\n",
            "41/41 [==============================] - 10s 234ms/step - loss: 0.0580 - val_loss: 0.1773\n",
            "Epoch 83/100\n",
            "41/41 [==============================] - 9s 228ms/step - loss: 0.0578 - val_loss: 0.1772\n",
            "Epoch 84/100\n",
            "41/41 [==============================] - 9s 230ms/step - loss: 0.0580 - val_loss: 0.1772\n",
            "Epoch 85/100\n",
            "41/41 [==============================] - 10s 233ms/step - loss: 0.0578 - val_loss: 0.1772\n",
            "Epoch 86/100\n",
            "41/41 [==============================] - 9s 227ms/step - loss: 0.0575 - val_loss: 0.1772\n",
            "Epoch 87/100\n",
            "41/41 [==============================] - 9s 231ms/step - loss: 0.0575 - val_loss: 0.1771\n",
            "Epoch 88/100\n",
            "41/41 [==============================] - 9s 232ms/step - loss: 0.0574 - val_loss: 0.1771\n",
            "Epoch 89/100\n",
            "41/41 [==============================] - 9s 229ms/step - loss: 0.0573 - val_loss: 0.1771\n",
            "Epoch 90/100\n",
            "41/41 [==============================] - 9s 229ms/step - loss: 0.0574 - val_loss: 0.1770\n",
            "Epoch 91/100\n",
            "41/41 [==============================] - 9s 227ms/step - loss: 0.0572 - val_loss: 0.1770\n",
            "Epoch 92/100\n",
            "41/41 [==============================] - 9s 230ms/step - loss: 0.0571 - val_loss: 0.1770\n",
            "Epoch 93/100\n",
            "41/41 [==============================] - 9s 227ms/step - loss: 0.0570 - val_loss: 0.1769\n",
            "Epoch 94/100\n",
            "41/41 [==============================] - 9s 229ms/step - loss: 0.0572 - val_loss: 0.1769\n",
            "Epoch 95/100\n",
            "41/41 [==============================] - 10s 238ms/step - loss: 0.0569 - val_loss: 0.1769\n",
            "Epoch 96/100\n",
            "41/41 [==============================] - 9s 228ms/step - loss: 0.0566 - val_loss: 0.1768\n",
            "Epoch 97/100\n",
            "41/41 [==============================] - 9s 232ms/step - loss: 0.0568 - val_loss: 0.1768\n",
            "Epoch 98/100\n",
            "41/41 [==============================] - 9s 230ms/step - loss: 0.0567 - val_loss: 0.1768\n",
            "Epoch 99/100\n",
            "41/41 [==============================] - 9s 229ms/step - loss: 0.0566 - val_loss: 0.1768\n",
            "Epoch 100/100\n",
            "41/41 [==============================] - 9s 225ms/step - loss: 0.0564 - val_loss: 0.1767\n",
            "Training finished\n"
          ],
          "name": "stdout"
        }
      ]
    },
    {
      "cell_type": "code",
      "metadata": {
        "colab": {
          "base_uri": "https://localhost:8080/",
          "height": 301
        },
        "id": "rgVOXB5-B61n",
        "outputId": "711fa183-8b2d-44f7-9b9b-1695777a6ef4"
      },
      "source": [
        "plt.plot(history.history['loss'])\n",
        "plt.plot(history.history['val_loss'])\n",
        "plt.title('Model loss')\n",
        "plt.ylabel('loss')\n",
        "plt.xlabel('epoch')\n",
        "plt.legend(['train loss', 'validation loss'], loc='upper left')\n",
        "plt.rcParams[\"figure.figsize\"] = [20,6]\n",
        "plt.show()"
      ],
      "execution_count": 13,
      "outputs": [
        {
          "output_type": "display_data",
          "data": {
            "image/png": "[encoded data removed]",
            "text/plain": [
              "<Figure size 432x288 with 1 Axes>"
            ]
          },
          "metadata": {
            "tags": [],
            "needs_background": "light"
          }
        }
      ]
    },
    {
      "cell_type": "markdown",
      "metadata": {
        "id": "LY7pzPIbB61n"
      },
      "source": [
        "## Predicting Test Data"
      ]
    },
    {
      "cell_type": "code",
      "metadata": {
        "colab": {
          "base_uri": "https://localhost:8080/"
        },
        "id": "o5O_E4weB61n",
        "outputId": "7ab2e9f5-c2b2-483c-8f63-741e9c52ecd2"
      },
      "source": [
        "predictions = model.predict(test_X)\n",
        "predictions.shape"
      ],
      "execution_count": 14,
      "outputs": [
        {
          "output_type": "execute_result",
          "data": {
            "text/plain": [
              "(650, 200)"
            ]
          },
          "metadata": {
            "tags": []
          },
          "execution_count": 14
        }
      ]
    },
    {
      "cell_type": "code",
      "metadata": {
        "id": "y02cEuUsB61o"
      },
      "source": [
        "def transform_predictions(pred_df, cols, scaler, n_days_future=30):\n",
        "    pred_df = pred_df.reshape(-1, len(cols) * n_days_future)\n",
        "\n",
        "    # np array to df\n",
        "    denormalized = scaler.inverse_transform(pred_df)\n",
        "    pred_df = denormalized.reshape((n_days_future, len(cols)))\n",
        "    pred_df = pd.DataFrame(pred_df, columns=cols)\n",
        "\n",
        "    return pred_df"
      ],
      "execution_count": 15,
      "outputs": []
    },
    {
      "cell_type": "markdown",
      "metadata": {
        "id": "7IT3fqwyB61o"
      },
      "source": [
        "## Transforming Predictions"
      ]
    },
    {
      "cell_type": "code",
      "metadata": {
        "colab": {
          "base_uri": "https://localhost:8080/"
        },
        "id": "rjqWAT1Gt7RJ",
        "outputId": "63fa6163-b1a7-4d68-8094-e02700d691dc"
      },
      "source": [
        "df.columns"
      ],
      "execution_count": 24,
      "outputs": [
        {
          "output_type": "execute_result",
          "data": {
            "text/plain": [
              "Index(['spxopen', 'spxhigh', 'spxlow', 'spxclose', 'spxvolume',\n",
              "       'US_treasury_yield', 'OPEC/ORB - Value', 'us_gdp_qoq',\n",
              "       'us_unemployment_ra_%', 'us_longterm_ir_%'],\n",
              "      dtype='object')"
            ]
          },
          "metadata": {
            "tags": []
          },
          "execution_count": 24
        }
      ]
    },
    {
      "cell_type": "code",
      "metadata": {
        "id": "sPeGE5KQB61o"
      },
      "source": [
        "preds = transform_predictions(predictions[0], df.columns, scaler_target, n_days_future=20)['spxclose']\n",
        "tests = transform_predictions(test_y[1], df.columns, scaler_target, n_days_future=20)['spxclose']\n",
        "\n",
        "testing = df[['spxopen', 'spxhigh', 'spxlow', 'spxclose', 'spxvolume',\n",
        "       'US_treasury_yield', 'OPEC/ORB - Value', 'us_gdp_qoq',\n",
        "       'us_unemployment_ra_%', 'us_longterm_ir_%']][-20:]\n",
        "testing['pred'] = preds.values\n",
        "#'spxclose','spxlow', 'spxhigh'"
      ],
      "execution_count": 27,
      "outputs": []
    },
    {
      "cell_type": "markdown",
      "metadata": {
        "id": "O214c8tcB61p"
      },
      "source": [
        "## Plotting Results"
      ]
    },
    {
      "cell_type": "code",
      "metadata": {
        "colab": {
          "base_uri": "https://localhost:8080/",
          "height": 394
        },
        "id": "loMeybxMB61p",
        "outputId": "93a463e3-5b85-484e-a35b-17ab4d4bfadb"
      },
      "source": [
        "f, ax = plt.subplots(figsize=(15,6))\n",
        "\n",
        "past = df[(df.index >= \"2020-11-01\") & (df.index < \"2020-12-01\")][['spxclose', 'spxhigh', 'spxlow']]\n",
        "ax.plot(testing[['pred']], color = 'orangered', label='Prediction')\n",
        "ax.plot(testing[['spxclose']], color = 'limegreen', label='FTSE_CLOSE')\n",
        "ax.plot(past[['spxclose']], color = 'cornflowerblue', label='Past FTSE_CLOSE')\n",
        "\n",
        "\n",
        "# ax.fill_between(test.ds, test.pred_lower, test.pred_upper, color='lightcoral', alpha=0.5)\n",
        "ax.fill_between(testing.index, testing.spxlow, testing.spxhigh, color='lightgreen', alpha=0.5)\n",
        "ax.fill_between(past.index, past.spxlow, past.spxhigh, color='lightskyblue', alpha=0.5)\n",
        "\n",
        "ax.set_title(\"Multivariate LSTM Forecasting\", size = 15)\n",
        "ax.legend()\n",
        "\n",
        "plt.show()"
      ],
      "execution_count": 28,
      "outputs": [
        {
          "output_type": "display_data",
          "data": {
            "image/png": "[encoded data removed]",
            "text/plain": [
              "<Figure size 1080x432 with 1 Axes>"
            ]
          },
          "metadata": {
            "tags": [],
            "needs_background": "light"
          }
        }
      ]
    },
    {
      "cell_type": "code",
      "metadata": {
        "id": "AgBudCqfB61q"
      },
      "source": [
        "from sklearn import metrics\n",
        "def timeseries_evaluation_metrics_func(y_true, y_pred):\n",
        "    \n",
        "    def mean_absolute_percentage_error(y_true, y_pred): \n",
        "        y_true, y_pred = np.array(y_true), np.array(y_pred)\n",
        "        return np.mean(np.abs((y_true - y_pred) / y_true)) * 100\n",
        "    print('Evaluation metric results:-')\n",
        "    print(f'MSE is : {metrics.mean_squared_error(y_true, y_pred)}')\n",
        "    print(f'MAE is : {metrics.mean_absolute_error(y_true, y_pred)}')\n",
        "    print(f'RMSE is : {np.sqrt(metrics.mean_squared_error(y_true, y_pred))}')\n",
        "    print(f'MAPE is : {mean_absolute_percentage_error(y_true, y_pred)}')\n",
        "    print(f'R2 is : {metrics.r2_score(y_true, y_pred)}',end='\\n\\n')"
      ],
      "execution_count": 29,
      "outputs": []
    },
    {
      "cell_type": "code",
      "metadata": {
        "colab": {
          "base_uri": "https://localhost:8080/"
        },
        "id": "LgL2H7rcB61q",
        "outputId": "32009db2-0921-4091-d764-1d4d5a7e3ada"
      },
      "source": [
        "timeseries_evaluation_metrics_func(testing.spxclose, testing.pred)"
      ],
      "execution_count": 31,
      "outputs": [
        {
          "output_type": "stream",
          "text": [
            "Evaluation metric results:-\n",
            "MSE is : 2883497.4548395975\n",
            "MAE is : 1697.7415283203125\n",
            "RMSE is : 1698.086409709352\n",
            "MAPE is : 45.90469742516877\n",
            "R2 is : -4106.465529541137\n",
            "\n"
          ],
          "name": "stdout"
        }
      ]
    },
    {
      "cell_type": "code",
      "metadata": {
        "id": "TJTu8GHFB61q"
      },
      "source": [
        ""
      ],
      "execution_count": null,
      "outputs": []
    }
  ]
}