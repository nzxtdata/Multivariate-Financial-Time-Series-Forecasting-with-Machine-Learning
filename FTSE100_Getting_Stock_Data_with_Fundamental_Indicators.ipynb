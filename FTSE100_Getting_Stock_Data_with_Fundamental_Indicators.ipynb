{
  "nbformat": 4,
  "nbformat_minor": 0,
  "metadata": {
    "kernelspec": {
      "display_name": "Python 3",
      "language": "python",
      "name": "python3"
    },
    "language_info": {
      "codemirror_mode": {
        "name": "ipython",
        "version": 3
      },
      "file_extension": ".py",
      "mimetype": "text/x-python",
      "name": "python",
      "nbconvert_exporter": "python",
      "pygments_lexer": "ipython3",
      "version": "3.7.4"
    },
    "colab": {
      "name": "FTSE100 Getting Stock Data with Fundamental Indicators.ipynb",
      "provenance": [],
      "collapsed_sections": []
    }
  },
  "cells": [
    {
      "cell_type": "code",
      "metadata": {
        "colab": {
          "base_uri": "https://localhost:8080/"
        },
        "id": "AwhMtZHMTCMR",
        "outputId": "3ac01254-19a9-49cf-dd77-4ed12820c891"
      },
      "source": [
        "pip install quandl"
      ],
      "execution_count": null,
      "outputs": [
        {
          "output_type": "stream",
          "text": [
            "Collecting quandl\n",
            "  Downloading https://files.pythonhosted.org/packages/8b/2b/feefb36015beaecc5c0f9f2533e815b409621d9fa7b50b2aac621796f828/Quandl-3.6.1-py2.py3-none-any.whl\n",
            "Requirement already satisfied: pandas>=0.14 in /usr/local/lib/python3.7/dist-packages (from quandl) (1.1.5)\n",
            "Requirement already satisfied: six in /usr/local/lib/python3.7/dist-packages (from quandl) (1.15.0)\n",
            "Requirement already satisfied: numpy>=1.8 in /usr/local/lib/python3.7/dist-packages (from quandl) (1.19.5)\n",
            "Requirement already satisfied: more-itertools in /usr/local/lib/python3.7/dist-packages (from quandl) (8.8.0)\n",
            "Collecting inflection>=0.3.1\n",
            "  Downloading https://files.pythonhosted.org/packages/59/91/aa6bde563e0085a02a435aa99b49ef75b0a4b062635e606dab23ce18d720/inflection-0.5.1-py2.py3-none-any.whl\n",
            "Requirement already satisfied: requests>=2.7.0 in /usr/local/lib/python3.7/dist-packages (from quandl) (2.23.0)\n",
            "Requirement already satisfied: python-dateutil in /usr/local/lib/python3.7/dist-packages (from quandl) (2.8.1)\n",
            "Requirement already satisfied: pytz>=2017.2 in /usr/local/lib/python3.7/dist-packages (from pandas>=0.14->quandl) (2018.9)\n",
            "Requirement already satisfied: certifi>=2017.4.17 in /usr/local/lib/python3.7/dist-packages (from requests>=2.7.0->quandl) (2021.5.30)\n",
            "Requirement already satisfied: urllib3!=1.25.0,!=1.25.1,<1.26,>=1.21.1 in /usr/local/lib/python3.7/dist-packages (from requests>=2.7.0->quandl) (1.24.3)\n",
            "Requirement already satisfied: chardet<4,>=3.0.2 in /usr/local/lib/python3.7/dist-packages (from requests>=2.7.0->quandl) (3.0.4)\n",
            "Requirement already satisfied: idna<3,>=2.5 in /usr/local/lib/python3.7/dist-packages (from requests>=2.7.0->quandl) (2.10)\n",
            "Installing collected packages: inflection, quandl\n",
            "Successfully installed inflection-0.5.1 quandl-3.6.1\n"
          ],
          "name": "stdout"
        }
      ]
    },
    {
      "cell_type": "code",
      "metadata": {
        "id": "-ZKBNkd_S9w9"
      },
      "source": [
        "# Import libraries\n",
        "import pandas as pd\n",
        "import numpy as np\n",
        "import quandl\n",
        "import matplotlib.pyplot as plt\n",
        "import seaborn as sns"
      ],
      "execution_count": null,
      "outputs": []
    },
    {
      "cell_type": "code",
      "metadata": {
        "id": "9gpD0Pm2S9w_"
      },
      "source": [
        "# Authenticate quandl api key\n",
        "quandl_api_key = \"eViwZShkZkyo5eGDhQQG\"\n",
        "quandl.ApiConfig.api_key = quandl_api_key\n",
        "#Zmns8n4ypL4kRmFxnsxC"
      ],
      "execution_count": null,
      "outputs": []
    },
    {
      "cell_type": "code",
      "metadata": {
        "id": "GBaUy8RAS9xB"
      },
      "source": [
        "# Data sources: Bank of England, St. Louis FED, United Kingdom Office of National Statistics"
      ],
      "execution_count": null,
      "outputs": []
    },
    {
      "cell_type": "code",
      "metadata": {
        "id": "p5LEJ4uzS9xC"
      },
      "source": [
        ""
      ],
      "execution_count": null,
      "outputs": []
    },
    {
      "cell_type": "code",
      "metadata": {
        "colab": {
          "base_uri": "https://localhost:8080/",
          "height": 163
        },
        "id": "ouynXmBRlO7i",
        "outputId": "ae120ac1-179b-476c-d5a6-02cae3bf580e"
      },
      "source": [
        "df.isnull().sum()"
      ],
      "execution_count": null,
      "outputs": [
        {
          "output_type": "error",
          "ename": "NameError",
          "evalue": "ignored",
          "traceback": [
            "\u001b[0;31m---------------------------------------------------------------------------\u001b[0m",
            "\u001b[0;31mNameError\u001b[0m                                 Traceback (most recent call last)",
            "\u001b[0;32m<ipython-input-4-629914d6d1c7>\u001b[0m in \u001b[0;36m<module>\u001b[0;34m()\u001b[0m\n\u001b[0;32m----> 1\u001b[0;31m \u001b[0mdf\u001b[0m\u001b[0;34m.\u001b[0m\u001b[0misnull\u001b[0m\u001b[0;34m(\u001b[0m\u001b[0;34m)\u001b[0m\u001b[0;34m.\u001b[0m\u001b[0msum\u001b[0m\u001b[0;34m(\u001b[0m\u001b[0;34m)\u001b[0m\u001b[0;34m\u001b[0m\u001b[0;34m\u001b[0m\u001b[0m\n\u001b[0m",
            "\u001b[0;31mNameError\u001b[0m: name 'df' is not defined"
          ]
        }
      ]
    },
    {
      "cell_type": "code",
      "metadata": {
        "colab": {
          "base_uri": "https://localhost:8080/",
          "height": 237
        },
        "id": "BCWJlxVCn1d4",
        "outputId": "067ccbc3-7ff5-4559-91a7-d62de0b904fa"
      },
      "source": [
        "df.tail()"
      ],
      "execution_count": null,
      "outputs": [
        {
          "output_type": "execute_result",
          "data": {
            "text/html": [
              "<div>\n",
              "<style scoped>\n",
              "    .dataframe tbody tr th:only-of-type {\n",
              "        vertical-align: middle;\n",
              "    }\n",
              "\n",
              "    .dataframe tbody tr th {\n",
              "        vertical-align: top;\n",
              "    }\n",
              "\n",
              "    .dataframe thead th {\n",
              "        text-align: right;\n",
              "    }\n",
              "</style>\n",
              "<table border=\"1\" class=\"dataframe\">\n",
              "  <thead>\n",
              "    <tr style=\"text-align: right;\">\n",
              "      <th></th>\n",
              "      <th>fwd_6mo_usd_to_gbp</th>\n",
              "      <th>10yr_treasury_yield</th>\n",
              "      <th>uk_gdp_qoq_cvm_sa_growth_%</th>\n",
              "      <th>uk_unemployment_sa_%</th>\n",
              "      <th>uk_longterm_ir_%</th>\n",
              "    </tr>\n",
              "    <tr>\n",
              "      <th>Date</th>\n",
              "      <th></th>\n",
              "      <th></th>\n",
              "      <th></th>\n",
              "      <th></th>\n",
              "      <th></th>\n",
              "    </tr>\n",
              "  </thead>\n",
              "  <tbody>\n",
              "    <tr>\n",
              "      <th>2018-12-31</th>\n",
              "      <td>1.2881</td>\n",
              "      <td>2.1241</td>\n",
              "      <td>0.2</td>\n",
              "      <td>3.9</td>\n",
              "      <td>1.437600</td>\n",
              "    </tr>\n",
              "    <tr>\n",
              "      <th>2019-09-30</th>\n",
              "      <td>1.2402</td>\n",
              "      <td>1.1077</td>\n",
              "      <td>0.5</td>\n",
              "      <td>3.8</td>\n",
              "      <td>0.668700</td>\n",
              "    </tr>\n",
              "    <tr>\n",
              "      <th>2019-12-31</th>\n",
              "      <td>1.3275</td>\n",
              "      <td>1.4776</td>\n",
              "      <td>0.0</td>\n",
              "      <td>3.7</td>\n",
              "      <td>0.744367</td>\n",
              "    </tr>\n",
              "    <tr>\n",
              "      <th>2020-03-31</th>\n",
              "      <td>1.2426</td>\n",
              "      <td>0.9969</td>\n",
              "      <td>-2.8</td>\n",
              "      <td>3.9</td>\n",
              "      <td>0.605800</td>\n",
              "    </tr>\n",
              "    <tr>\n",
              "      <th>2020-06-30</th>\n",
              "      <td>1.2374</td>\n",
              "      <td>0.8347</td>\n",
              "      <td>-19.5</td>\n",
              "      <td>3.8</td>\n",
              "      <td>0.303333</td>\n",
              "    </tr>\n",
              "  </tbody>\n",
              "</table>\n",
              "</div>"
            ],
            "text/plain": [
              "            fwd_6mo_usd_to_gbp  ...  uk_longterm_ir_%\n",
              "Date                            ...                  \n",
              "2018-12-31              1.2881  ...          1.437600\n",
              "2019-09-30              1.2402  ...          0.668700\n",
              "2019-12-31              1.3275  ...          0.744367\n",
              "2020-03-31              1.2426  ...          0.605800\n",
              "2020-06-30              1.2374  ...          0.303333\n",
              "\n",
              "[5 rows x 5 columns]"
            ]
          },
          "metadata": {
            "tags": []
          },
          "execution_count": 7
        }
      ]
    },
    {
      "cell_type": "code",
      "metadata": {
        "id": "ayrX3SCKS9xE"
      },
      "source": [
        "df_ftse = pd.read_csv('/content/FTSE.csv')"
      ],
      "execution_count": null,
      "outputs": []
    },
    {
      "cell_type": "code",
      "metadata": {
        "id": "G9MWzn-XfUDh",
        "colab": {
          "base_uri": "https://localhost:8080/",
          "height": 419
        },
        "outputId": "29eaa91d-4688-43d1-bc4f-13acf9e0e32a"
      },
      "source": [
        "df_ftse"
      ],
      "execution_count": null,
      "outputs": [
        {
          "output_type": "execute_result",
          "data": {
            "text/html": [
              "<div>\n",
              "<style scoped>\n",
              "    .dataframe tbody tr th:only-of-type {\n",
              "        vertical-align: middle;\n",
              "    }\n",
              "\n",
              "    .dataframe tbody tr th {\n",
              "        vertical-align: top;\n",
              "    }\n",
              "\n",
              "    .dataframe thead th {\n",
              "        text-align: right;\n",
              "    }\n",
              "</style>\n",
              "<table border=\"1\" class=\"dataframe\">\n",
              "  <thead>\n",
              "    <tr style=\"text-align: right;\">\n",
              "      <th></th>\n",
              "      <th>Date</th>\n",
              "      <th>ftseopen</th>\n",
              "      <th>ftsehigh</th>\n",
              "      <th>ftselow</th>\n",
              "      <th>ftseclose</th>\n",
              "      <th>ftsevolume</th>\n",
              "    </tr>\n",
              "  </thead>\n",
              "  <tbody>\n",
              "    <tr>\n",
              "      <th>0</th>\n",
              "      <td>1994-01-10</td>\n",
              "      <td>3465.699951</td>\n",
              "      <td>3468.100098</td>\n",
              "      <td>3430.000000</td>\n",
              "      <td>3440.600098</td>\n",
              "      <td>0</td>\n",
              "    </tr>\n",
              "    <tr>\n",
              "      <th>1</th>\n",
              "      <td>1994-01-11</td>\n",
              "      <td>3442.500000</td>\n",
              "      <td>3442.500000</td>\n",
              "      <td>3413.500000</td>\n",
              "      <td>3413.800049</td>\n",
              "      <td>0</td>\n",
              "    </tr>\n",
              "    <tr>\n",
              "      <th>2</th>\n",
              "      <td>1994-01-12</td>\n",
              "      <td>3394.800049</td>\n",
              "      <td>3402.399902</td>\n",
              "      <td>3372.000000</td>\n",
              "      <td>3372.000000</td>\n",
              "      <td>0</td>\n",
              "    </tr>\n",
              "    <tr>\n",
              "      <th>3</th>\n",
              "      <td>1994-01-13</td>\n",
              "      <td>3380.699951</td>\n",
              "      <td>3383.300049</td>\n",
              "      <td>3356.899902</td>\n",
              "      <td>3360.000000</td>\n",
              "      <td>0</td>\n",
              "    </tr>\n",
              "    <tr>\n",
              "      <th>4</th>\n",
              "      <td>1994-01-14</td>\n",
              "      <td>3370.899902</td>\n",
              "      <td>3405.600098</td>\n",
              "      <td>3369.399902</td>\n",
              "      <td>3400.600098</td>\n",
              "      <td>0</td>\n",
              "    </tr>\n",
              "    <tr>\n",
              "      <th>...</th>\n",
              "      <td>...</td>\n",
              "      <td>...</td>\n",
              "      <td>...</td>\n",
              "      <td>...</td>\n",
              "      <td>...</td>\n",
              "      <td>...</td>\n",
              "    </tr>\n",
              "    <tr>\n",
              "      <th>6925</th>\n",
              "      <td>2021-06-09</td>\n",
              "      <td>7095.100098</td>\n",
              "      <td>7095.700195</td>\n",
              "      <td>7046.000000</td>\n",
              "      <td>7081.000000</td>\n",
              "      <td>575133700</td>\n",
              "    </tr>\n",
              "    <tr>\n",
              "      <th>6926</th>\n",
              "      <td>2021-06-10</td>\n",
              "      <td>7081.000000</td>\n",
              "      <td>7117.700195</td>\n",
              "      <td>7080.000000</td>\n",
              "      <td>7088.200195</td>\n",
              "      <td>574917100</td>\n",
              "    </tr>\n",
              "    <tr>\n",
              "      <th>6927</th>\n",
              "      <td>2021-06-11</td>\n",
              "      <td>7088.200195</td>\n",
              "      <td>7140.700195</td>\n",
              "      <td>7088.200195</td>\n",
              "      <td>7134.100098</td>\n",
              "      <td>509040600</td>\n",
              "    </tr>\n",
              "    <tr>\n",
              "      <th>6928</th>\n",
              "      <td>2021-06-14</td>\n",
              "      <td>7134.100098</td>\n",
              "      <td>7188.299805</td>\n",
              "      <td>7131.799805</td>\n",
              "      <td>7146.700195</td>\n",
              "      <td>551244200</td>\n",
              "    </tr>\n",
              "    <tr>\n",
              "      <th>6929</th>\n",
              "      <td>2021-06-15</td>\n",
              "      <td>7146.700195</td>\n",
              "      <td>7189.600098</td>\n",
              "      <td>7142.700195</td>\n",
              "      <td>7172.500000</td>\n",
              "      <td>779379400</td>\n",
              "    </tr>\n",
              "  </tbody>\n",
              "</table>\n",
              "<p>6930 rows × 6 columns</p>\n",
              "</div>"
            ],
            "text/plain": [
              "            Date     ftseopen  ...    ftseclose  ftsevolume\n",
              "0     1994-01-10  3465.699951  ...  3440.600098           0\n",
              "1     1994-01-11  3442.500000  ...  3413.800049           0\n",
              "2     1994-01-12  3394.800049  ...  3372.000000           0\n",
              "3     1994-01-13  3380.699951  ...  3360.000000           0\n",
              "4     1994-01-14  3370.899902  ...  3400.600098           0\n",
              "...          ...          ...  ...          ...         ...\n",
              "6925  2021-06-09  7095.100098  ...  7081.000000   575133700\n",
              "6926  2021-06-10  7081.000000  ...  7088.200195   574917100\n",
              "6927  2021-06-11  7088.200195  ...  7134.100098   509040600\n",
              "6928  2021-06-14  7134.100098  ...  7146.700195   551244200\n",
              "6929  2021-06-15  7146.700195  ...  7172.500000   779379400\n",
              "\n",
              "[6930 rows x 6 columns]"
            ]
          },
          "metadata": {
            "tags": []
          },
          "execution_count": 6
        }
      ]
    },
    {
      "cell_type": "code",
      "metadata": {
        "id": "qIV-U0xpS9xE"
      },
      "source": [
        "df_ftse.set_index('Date', drop = True, inplace = True)"
      ],
      "execution_count": null,
      "outputs": []
    },
    {
      "cell_type": "code",
      "metadata": {
        "id": "H3dLkA7wS9xF"
      },
      "source": [
        "df_ftse.index = pd.to_datetime(df_ftse.index)"
      ],
      "execution_count": null,
      "outputs": []
    },
    {
      "cell_type": "code",
      "metadata": {
        "id": "mSHQdm2cULEn",
        "colab": {
          "base_uri": "https://localhost:8080/",
          "height": 450
        },
        "outputId": "74f86559-548b-4fb8-c28b-affeeaf6e18b"
      },
      "source": [
        "df_ftse"
      ],
      "execution_count": null,
      "outputs": [
        {
          "output_type": "execute_result",
          "data": {
            "text/html": [
              "<div>\n",
              "<style scoped>\n",
              "    .dataframe tbody tr th:only-of-type {\n",
              "        vertical-align: middle;\n",
              "    }\n",
              "\n",
              "    .dataframe tbody tr th {\n",
              "        vertical-align: top;\n",
              "    }\n",
              "\n",
              "    .dataframe thead th {\n",
              "        text-align: right;\n",
              "    }\n",
              "</style>\n",
              "<table border=\"1\" class=\"dataframe\">\n",
              "  <thead>\n",
              "    <tr style=\"text-align: right;\">\n",
              "      <th></th>\n",
              "      <th>ftseopen</th>\n",
              "      <th>ftsehigh</th>\n",
              "      <th>ftselow</th>\n",
              "      <th>ftseclose</th>\n",
              "      <th>ftsevolume</th>\n",
              "    </tr>\n",
              "    <tr>\n",
              "      <th>Date</th>\n",
              "      <th></th>\n",
              "      <th></th>\n",
              "      <th></th>\n",
              "      <th></th>\n",
              "      <th></th>\n",
              "    </tr>\n",
              "  </thead>\n",
              "  <tbody>\n",
              "    <tr>\n",
              "      <th>1994-01-10</th>\n",
              "      <td>3465.699951</td>\n",
              "      <td>3468.100098</td>\n",
              "      <td>3430.000000</td>\n",
              "      <td>3440.600098</td>\n",
              "      <td>0</td>\n",
              "    </tr>\n",
              "    <tr>\n",
              "      <th>1994-01-11</th>\n",
              "      <td>3442.500000</td>\n",
              "      <td>3442.500000</td>\n",
              "      <td>3413.500000</td>\n",
              "      <td>3413.800049</td>\n",
              "      <td>0</td>\n",
              "    </tr>\n",
              "    <tr>\n",
              "      <th>1994-01-12</th>\n",
              "      <td>3394.800049</td>\n",
              "      <td>3402.399902</td>\n",
              "      <td>3372.000000</td>\n",
              "      <td>3372.000000</td>\n",
              "      <td>0</td>\n",
              "    </tr>\n",
              "    <tr>\n",
              "      <th>1994-01-13</th>\n",
              "      <td>3380.699951</td>\n",
              "      <td>3383.300049</td>\n",
              "      <td>3356.899902</td>\n",
              "      <td>3360.000000</td>\n",
              "      <td>0</td>\n",
              "    </tr>\n",
              "    <tr>\n",
              "      <th>1994-01-14</th>\n",
              "      <td>3370.899902</td>\n",
              "      <td>3405.600098</td>\n",
              "      <td>3369.399902</td>\n",
              "      <td>3400.600098</td>\n",
              "      <td>0</td>\n",
              "    </tr>\n",
              "    <tr>\n",
              "      <th>...</th>\n",
              "      <td>...</td>\n",
              "      <td>...</td>\n",
              "      <td>...</td>\n",
              "      <td>...</td>\n",
              "      <td>...</td>\n",
              "    </tr>\n",
              "    <tr>\n",
              "      <th>2021-06-09</th>\n",
              "      <td>7095.100098</td>\n",
              "      <td>7095.700195</td>\n",
              "      <td>7046.000000</td>\n",
              "      <td>7081.000000</td>\n",
              "      <td>575133700</td>\n",
              "    </tr>\n",
              "    <tr>\n",
              "      <th>2021-06-10</th>\n",
              "      <td>7081.000000</td>\n",
              "      <td>7117.700195</td>\n",
              "      <td>7080.000000</td>\n",
              "      <td>7088.200195</td>\n",
              "      <td>574917100</td>\n",
              "    </tr>\n",
              "    <tr>\n",
              "      <th>2021-06-11</th>\n",
              "      <td>7088.200195</td>\n",
              "      <td>7140.700195</td>\n",
              "      <td>7088.200195</td>\n",
              "      <td>7134.100098</td>\n",
              "      <td>509040600</td>\n",
              "    </tr>\n",
              "    <tr>\n",
              "      <th>2021-06-14</th>\n",
              "      <td>7134.100098</td>\n",
              "      <td>7188.299805</td>\n",
              "      <td>7131.799805</td>\n",
              "      <td>7146.700195</td>\n",
              "      <td>551244200</td>\n",
              "    </tr>\n",
              "    <tr>\n",
              "      <th>2021-06-15</th>\n",
              "      <td>7146.700195</td>\n",
              "      <td>7189.600098</td>\n",
              "      <td>7142.700195</td>\n",
              "      <td>7172.500000</td>\n",
              "      <td>779379400</td>\n",
              "    </tr>\n",
              "  </tbody>\n",
              "</table>\n",
              "<p>6930 rows × 5 columns</p>\n",
              "</div>"
            ],
            "text/plain": [
              "               ftseopen     ftsehigh      ftselow    ftseclose  ftsevolume\n",
              "Date                                                                      \n",
              "1994-01-10  3465.699951  3468.100098  3430.000000  3440.600098           0\n",
              "1994-01-11  3442.500000  3442.500000  3413.500000  3413.800049           0\n",
              "1994-01-12  3394.800049  3402.399902  3372.000000  3372.000000           0\n",
              "1994-01-13  3380.699951  3383.300049  3356.899902  3360.000000           0\n",
              "1994-01-14  3370.899902  3405.600098  3369.399902  3400.600098           0\n",
              "...                 ...          ...          ...          ...         ...\n",
              "2021-06-09  7095.100098  7095.700195  7046.000000  7081.000000   575133700\n",
              "2021-06-10  7081.000000  7117.700195  7080.000000  7088.200195   574917100\n",
              "2021-06-11  7088.200195  7140.700195  7088.200195  7134.100098   509040600\n",
              "2021-06-14  7134.100098  7188.299805  7131.799805  7146.700195   551244200\n",
              "2021-06-15  7146.700195  7189.600098  7142.700195  7172.500000   779379400\n",
              "\n",
              "[6930 rows x 5 columns]"
            ]
          },
          "metadata": {
            "tags": []
          },
          "execution_count": 9
        }
      ]
    },
    {
      "cell_type": "code",
      "metadata": {
        "colab": {
          "base_uri": "https://localhost:8080/"
        },
        "id": "3qH563Wjgo1-",
        "outputId": "68376ce2-bd0a-4fab-e889-5bf60eb791e0"
      },
      "source": [
        "df_ftse.columns"
      ],
      "execution_count": null,
      "outputs": [
        {
          "output_type": "execute_result",
          "data": {
            "text/plain": [
              "Index(['ftseopen', 'ftsehigh', 'ftselow', 'ftseclose', 'ftsevolume'], dtype='object')"
            ]
          },
          "metadata": {
            "tags": []
          },
          "execution_count": 10
        }
      ]
    },
    {
      "cell_type": "code",
      "metadata": {
        "id": "66zQqJ5JS9xG"
      },
      "source": [
        ""
      ],
      "execution_count": null,
      "outputs": []
    },
    {
      "cell_type": "code",
      "metadata": {
        "id": "F5RkUlg2S9xH",
        "colab": {
          "base_uri": "https://localhost:8080/",
          "height": 235
        },
        "outputId": "eaef6389-2a39-4bbb-9222-e40a8b5ed293"
      },
      "source": [
        "df_ftse.tail()"
      ],
      "execution_count": null,
      "outputs": [
        {
          "output_type": "execute_result",
          "data": {
            "text/html": [
              "<div>\n",
              "<style scoped>\n",
              "    .dataframe tbody tr th:only-of-type {\n",
              "        vertical-align: middle;\n",
              "    }\n",
              "\n",
              "    .dataframe tbody tr th {\n",
              "        vertical-align: top;\n",
              "    }\n",
              "\n",
              "    .dataframe thead th {\n",
              "        text-align: right;\n",
              "    }\n",
              "</style>\n",
              "<table border=\"1\" class=\"dataframe\">\n",
              "  <thead>\n",
              "    <tr style=\"text-align: right;\">\n",
              "      <th></th>\n",
              "      <th>ftseopen</th>\n",
              "      <th>ftsehigh</th>\n",
              "      <th>ftselow</th>\n",
              "      <th>ftseclose</th>\n",
              "      <th>ftsevolume</th>\n",
              "    </tr>\n",
              "    <tr>\n",
              "      <th>Date</th>\n",
              "      <th></th>\n",
              "      <th></th>\n",
              "      <th></th>\n",
              "      <th></th>\n",
              "      <th></th>\n",
              "    </tr>\n",
              "  </thead>\n",
              "  <tbody>\n",
              "    <tr>\n",
              "      <th>2021-06-09</th>\n",
              "      <td>7095.100098</td>\n",
              "      <td>7095.700195</td>\n",
              "      <td>7046.000000</td>\n",
              "      <td>7081.000000</td>\n",
              "      <td>575133700</td>\n",
              "    </tr>\n",
              "    <tr>\n",
              "      <th>2021-06-10</th>\n",
              "      <td>7081.000000</td>\n",
              "      <td>7117.700195</td>\n",
              "      <td>7080.000000</td>\n",
              "      <td>7088.200195</td>\n",
              "      <td>574917100</td>\n",
              "    </tr>\n",
              "    <tr>\n",
              "      <th>2021-06-11</th>\n",
              "      <td>7088.200195</td>\n",
              "      <td>7140.700195</td>\n",
              "      <td>7088.200195</td>\n",
              "      <td>7134.100098</td>\n",
              "      <td>509040600</td>\n",
              "    </tr>\n",
              "    <tr>\n",
              "      <th>2021-06-14</th>\n",
              "      <td>7134.100098</td>\n",
              "      <td>7188.299805</td>\n",
              "      <td>7131.799805</td>\n",
              "      <td>7146.700195</td>\n",
              "      <td>551244200</td>\n",
              "    </tr>\n",
              "    <tr>\n",
              "      <th>2021-06-15</th>\n",
              "      <td>7146.700195</td>\n",
              "      <td>7189.600098</td>\n",
              "      <td>7142.700195</td>\n",
              "      <td>7172.500000</td>\n",
              "      <td>779379400</td>\n",
              "    </tr>\n",
              "  </tbody>\n",
              "</table>\n",
              "</div>"
            ],
            "text/plain": [
              "               ftseopen     ftsehigh      ftselow    ftseclose  ftsevolume\n",
              "Date                                                                      \n",
              "2021-06-09  7095.100098  7095.700195  7046.000000  7081.000000   575133700\n",
              "2021-06-10  7081.000000  7117.700195  7080.000000  7088.200195   574917100\n",
              "2021-06-11  7088.200195  7140.700195  7088.200195  7134.100098   509040600\n",
              "2021-06-14  7134.100098  7188.299805  7131.799805  7146.700195   551244200\n",
              "2021-06-15  7146.700195  7189.600098  7142.700195  7172.500000   779379400"
            ]
          },
          "metadata": {
            "tags": []
          },
          "execution_count": 11
        }
      ]
    },
    {
      "cell_type": "code",
      "metadata": {
        "id": "_3KmcufQS9xI",
        "colab": {
          "base_uri": "https://localhost:8080/",
          "height": 344
        },
        "outputId": "592bc5dd-1f2f-4d8e-e33f-86ed380c5646"
      },
      "source": [
        "df2=pd.merge(df_ftse, df, on='Date', how='left').fillna(method='ffill')\n",
        "df2.dropna(inplace=True)\n",
        "df2.tail()"
      ],
      "execution_count": null,
      "outputs": [
        {
          "output_type": "execute_result",
          "data": {
            "text/html": [
              "<div>\n",
              "<style scoped>\n",
              "    .dataframe tbody tr th:only-of-type {\n",
              "        vertical-align: middle;\n",
              "    }\n",
              "\n",
              "    .dataframe tbody tr th {\n",
              "        vertical-align: top;\n",
              "    }\n",
              "\n",
              "    .dataframe thead th {\n",
              "        text-align: right;\n",
              "    }\n",
              "</style>\n",
              "<table border=\"1\" class=\"dataframe\">\n",
              "  <thead>\n",
              "    <tr style=\"text-align: right;\">\n",
              "      <th></th>\n",
              "      <th>ftseopen</th>\n",
              "      <th>ftsehigh</th>\n",
              "      <th>ftselow</th>\n",
              "      <th>ftseclose</th>\n",
              "      <th>ftsevolume</th>\n",
              "      <th>fwd_6mo_usd_to_gbp</th>\n",
              "      <th>10yr_treasury_yield</th>\n",
              "      <th>uk_gdp_qoq_cvm_sa_growth_%</th>\n",
              "      <th>uk_unemployment_sa_%</th>\n",
              "      <th>uk_longterm_ir_%</th>\n",
              "    </tr>\n",
              "    <tr>\n",
              "      <th>Date</th>\n",
              "      <th></th>\n",
              "      <th></th>\n",
              "      <th></th>\n",
              "      <th></th>\n",
              "      <th></th>\n",
              "      <th></th>\n",
              "      <th></th>\n",
              "      <th></th>\n",
              "      <th></th>\n",
              "      <th></th>\n",
              "    </tr>\n",
              "  </thead>\n",
              "  <tbody>\n",
              "    <tr>\n",
              "      <th>2021-06-09</th>\n",
              "      <td>7095.100098</td>\n",
              "      <td>7095.700195</td>\n",
              "      <td>7046.000000</td>\n",
              "      <td>7081.000000</td>\n",
              "      <td>575133700</td>\n",
              "      <td>1.2374</td>\n",
              "      <td>0.8347</td>\n",
              "      <td>-19.5</td>\n",
              "      <td>3.8</td>\n",
              "      <td>0.303333</td>\n",
              "    </tr>\n",
              "    <tr>\n",
              "      <th>2021-06-10</th>\n",
              "      <td>7081.000000</td>\n",
              "      <td>7117.700195</td>\n",
              "      <td>7080.000000</td>\n",
              "      <td>7088.200195</td>\n",
              "      <td>574917100</td>\n",
              "      <td>1.2374</td>\n",
              "      <td>0.8347</td>\n",
              "      <td>-19.5</td>\n",
              "      <td>3.8</td>\n",
              "      <td>0.303333</td>\n",
              "    </tr>\n",
              "    <tr>\n",
              "      <th>2021-06-11</th>\n",
              "      <td>7088.200195</td>\n",
              "      <td>7140.700195</td>\n",
              "      <td>7088.200195</td>\n",
              "      <td>7134.100098</td>\n",
              "      <td>509040600</td>\n",
              "      <td>1.2374</td>\n",
              "      <td>0.8347</td>\n",
              "      <td>-19.5</td>\n",
              "      <td>3.8</td>\n",
              "      <td>0.303333</td>\n",
              "    </tr>\n",
              "    <tr>\n",
              "      <th>2021-06-14</th>\n",
              "      <td>7134.100098</td>\n",
              "      <td>7188.299805</td>\n",
              "      <td>7131.799805</td>\n",
              "      <td>7146.700195</td>\n",
              "      <td>551244200</td>\n",
              "      <td>1.2374</td>\n",
              "      <td>0.8347</td>\n",
              "      <td>-19.5</td>\n",
              "      <td>3.8</td>\n",
              "      <td>0.303333</td>\n",
              "    </tr>\n",
              "    <tr>\n",
              "      <th>2021-06-15</th>\n",
              "      <td>7146.700195</td>\n",
              "      <td>7189.600098</td>\n",
              "      <td>7142.700195</td>\n",
              "      <td>7172.500000</td>\n",
              "      <td>779379400</td>\n",
              "      <td>1.2374</td>\n",
              "      <td>0.8347</td>\n",
              "      <td>-19.5</td>\n",
              "      <td>3.8</td>\n",
              "      <td>0.303333</td>\n",
              "    </tr>\n",
              "  </tbody>\n",
              "</table>\n",
              "</div>"
            ],
            "text/plain": [
              "               ftseopen     ftsehigh  ...  uk_unemployment_sa_%  uk_longterm_ir_%\n",
              "Date                                  ...                                        \n",
              "2021-06-09  7095.100098  7095.700195  ...                   3.8          0.303333\n",
              "2021-06-10  7081.000000  7117.700195  ...                   3.8          0.303333\n",
              "2021-06-11  7088.200195  7140.700195  ...                   3.8          0.303333\n",
              "2021-06-14  7134.100098  7188.299805  ...                   3.8          0.303333\n",
              "2021-06-15  7146.700195  7189.600098  ...                   3.8          0.303333\n",
              "\n",
              "[5 rows x 10 columns]"
            ]
          },
          "metadata": {
            "tags": []
          },
          "execution_count": 17
        }
      ]
    },
    {
      "cell_type": "code",
      "metadata": {
        "colab": {
          "base_uri": "https://localhost:8080/"
        },
        "id": "2PEblJvwg-gg",
        "outputId": "e10811aa-deb5-48e1-c701-22ea5175ae36"
      },
      "source": [
        "df2.shape"
      ],
      "execution_count": null,
      "outputs": [
        {
          "output_type": "execute_result",
          "data": {
            "text/plain": [
              "(6872, 10)"
            ]
          },
          "metadata": {
            "tags": []
          },
          "execution_count": 18
        }
      ]
    },
    {
      "cell_type": "code",
      "metadata": {
        "id": "hWH29wBeoE4z"
      },
      "source": [
        "df3=df2.loc['1994-03-31':'2020-02-01']\n"
      ],
      "execution_count": null,
      "outputs": []
    },
    {
      "cell_type": "code",
      "metadata": {
        "id": "ne39ZOc0S9xJ"
      },
      "source": [
        "df_dependent = df3.drop(columns = ['ftseopen', 'ftsehigh', 'ftselow', 'ftseclose', 'ftsevolume'])"
      ],
      "execution_count": null,
      "outputs": []
    },
    {
      "cell_type": "code",
      "metadata": {
        "colab": {
          "base_uri": "https://localhost:8080/",
          "height": 648
        },
        "id": "PUAH3qACpuLU",
        "outputId": "07ecc444-3226-42c0-f1b2-460edd166d38"
      },
      "source": [
        "df3"
      ],
      "execution_count": null,
      "outputs": [
        {
          "output_type": "execute_result",
          "data": {
            "text/html": [
              "<div>\n",
              "<style scoped>\n",
              "    .dataframe tbody tr th:only-of-type {\n",
              "        vertical-align: middle;\n",
              "    }\n",
              "\n",
              "    .dataframe tbody tr th {\n",
              "        vertical-align: top;\n",
              "    }\n",
              "\n",
              "    .dataframe thead th {\n",
              "        text-align: right;\n",
              "    }\n",
              "</style>\n",
              "<table border=\"1\" class=\"dataframe\">\n",
              "  <thead>\n",
              "    <tr style=\"text-align: right;\">\n",
              "      <th></th>\n",
              "      <th>ftseopen</th>\n",
              "      <th>ftsehigh</th>\n",
              "      <th>ftselow</th>\n",
              "      <th>ftseclose</th>\n",
              "      <th>ftsevolume</th>\n",
              "      <th>fwd_6mo_usd_to_gbp</th>\n",
              "      <th>10yr_treasury_yield</th>\n",
              "      <th>uk_gdp_qoq_cvm_sa_growth_%</th>\n",
              "      <th>uk_unemployment_sa_%</th>\n",
              "      <th>uk_longterm_ir_%</th>\n",
              "    </tr>\n",
              "    <tr>\n",
              "      <th>Date</th>\n",
              "      <th></th>\n",
              "      <th></th>\n",
              "      <th></th>\n",
              "      <th></th>\n",
              "      <th></th>\n",
              "      <th></th>\n",
              "      <th></th>\n",
              "      <th></th>\n",
              "      <th></th>\n",
              "      <th></th>\n",
              "    </tr>\n",
              "  </thead>\n",
              "  <tbody>\n",
              "    <tr>\n",
              "      <th>1994-03-31</th>\n",
              "      <td>3071.500000</td>\n",
              "      <td>3093.399902</td>\n",
              "      <td>3061.899902</td>\n",
              "      <td>3086.399902</td>\n",
              "      <td>0</td>\n",
              "      <td>1.4757</td>\n",
              "      <td>7.5876</td>\n",
              "      <td>1.2</td>\n",
              "      <td>9.8</td>\n",
              "      <td>6.851200</td>\n",
              "    </tr>\n",
              "    <tr>\n",
              "      <th>1994-04-01</th>\n",
              "      <td>3086.399902</td>\n",
              "      <td>3086.399902</td>\n",
              "      <td>3086.399902</td>\n",
              "      <td>3086.399902</td>\n",
              "      <td>0</td>\n",
              "      <td>1.4757</td>\n",
              "      <td>7.5876</td>\n",
              "      <td>1.2</td>\n",
              "      <td>9.8</td>\n",
              "      <td>6.851200</td>\n",
              "    </tr>\n",
              "    <tr>\n",
              "      <th>1994-04-04</th>\n",
              "      <td>3086.399902</td>\n",
              "      <td>3086.399902</td>\n",
              "      <td>3086.399902</td>\n",
              "      <td>3086.399902</td>\n",
              "      <td>0</td>\n",
              "      <td>1.4757</td>\n",
              "      <td>7.5876</td>\n",
              "      <td>1.2</td>\n",
              "      <td>9.8</td>\n",
              "      <td>6.851200</td>\n",
              "    </tr>\n",
              "    <tr>\n",
              "      <th>1994-04-05</th>\n",
              "      <td>3060.899902</td>\n",
              "      <td>3116.199951</td>\n",
              "      <td>3047.000000</td>\n",
              "      <td>3116.199951</td>\n",
              "      <td>0</td>\n",
              "      <td>1.4757</td>\n",
              "      <td>7.5876</td>\n",
              "      <td>1.2</td>\n",
              "      <td>9.8</td>\n",
              "      <td>6.851200</td>\n",
              "    </tr>\n",
              "    <tr>\n",
              "      <th>1994-04-06</th>\n",
              "      <td>3142.800049</td>\n",
              "      <td>3145.399902</td>\n",
              "      <td>3129.600098</td>\n",
              "      <td>3131.500000</td>\n",
              "      <td>0</td>\n",
              "      <td>1.4757</td>\n",
              "      <td>7.5876</td>\n",
              "      <td>1.2</td>\n",
              "      <td>9.8</td>\n",
              "      <td>6.851200</td>\n",
              "    </tr>\n",
              "    <tr>\n",
              "      <th>...</th>\n",
              "      <td>...</td>\n",
              "      <td>...</td>\n",
              "      <td>...</td>\n",
              "      <td>...</td>\n",
              "      <td>...</td>\n",
              "      <td>...</td>\n",
              "      <td>...</td>\n",
              "      <td>...</td>\n",
              "      <td>...</td>\n",
              "      <td>...</td>\n",
              "    </tr>\n",
              "    <tr>\n",
              "      <th>2020-01-27</th>\n",
              "      <td>7586.000000</td>\n",
              "      <td>7586.000000</td>\n",
              "      <td>7392.799805</td>\n",
              "      <td>7412.100098</td>\n",
              "      <td>679457100</td>\n",
              "      <td>1.3275</td>\n",
              "      <td>1.4776</td>\n",
              "      <td>0.0</td>\n",
              "      <td>3.7</td>\n",
              "      <td>0.744367</td>\n",
              "    </tr>\n",
              "    <tr>\n",
              "      <th>2020-01-28</th>\n",
              "      <td>7412.100098</td>\n",
              "      <td>7491.399902</td>\n",
              "      <td>7410.399902</td>\n",
              "      <td>7480.700195</td>\n",
              "      <td>535852000</td>\n",
              "      <td>1.3275</td>\n",
              "      <td>1.4776</td>\n",
              "      <td>0.0</td>\n",
              "      <td>3.7</td>\n",
              "      <td>0.744367</td>\n",
              "    </tr>\n",
              "    <tr>\n",
              "      <th>2020-01-29</th>\n",
              "      <td>7480.700195</td>\n",
              "      <td>7514.700195</td>\n",
              "      <td>7462.200195</td>\n",
              "      <td>7483.600098</td>\n",
              "      <td>525036700</td>\n",
              "      <td>1.3275</td>\n",
              "      <td>1.4776</td>\n",
              "      <td>0.0</td>\n",
              "      <td>3.7</td>\n",
              "      <td>0.744367</td>\n",
              "    </tr>\n",
              "    <tr>\n",
              "      <th>2020-01-30</th>\n",
              "      <td>7483.600098</td>\n",
              "      <td>7483.600098</td>\n",
              "      <td>7357.600098</td>\n",
              "      <td>7382.000000</td>\n",
              "      <td>685501900</td>\n",
              "      <td>1.3275</td>\n",
              "      <td>1.4776</td>\n",
              "      <td>0.0</td>\n",
              "      <td>3.7</td>\n",
              "      <td>0.744367</td>\n",
              "    </tr>\n",
              "    <tr>\n",
              "      <th>2020-01-31</th>\n",
              "      <td>7382.000000</td>\n",
              "      <td>7398.299805</td>\n",
              "      <td>7275.000000</td>\n",
              "      <td>7286.000000</td>\n",
              "      <td>714049600</td>\n",
              "      <td>1.3275</td>\n",
              "      <td>1.4776</td>\n",
              "      <td>0.0</td>\n",
              "      <td>3.7</td>\n",
              "      <td>0.744367</td>\n",
              "    </tr>\n",
              "  </tbody>\n",
              "</table>\n",
              "<p>6528 rows × 10 columns</p>\n",
              "</div>"
            ],
            "text/plain": [
              "               ftseopen     ftsehigh  ...  uk_unemployment_sa_%  uk_longterm_ir_%\n",
              "Date                                  ...                                        \n",
              "1994-03-31  3071.500000  3093.399902  ...                   9.8          6.851200\n",
              "1994-04-01  3086.399902  3086.399902  ...                   9.8          6.851200\n",
              "1994-04-04  3086.399902  3086.399902  ...                   9.8          6.851200\n",
              "1994-04-05  3060.899902  3116.199951  ...                   9.8          6.851200\n",
              "1994-04-06  3142.800049  3145.399902  ...                   9.8          6.851200\n",
              "...                 ...          ...  ...                   ...               ...\n",
              "2020-01-27  7586.000000  7586.000000  ...                   3.7          0.744367\n",
              "2020-01-28  7412.100098  7491.399902  ...                   3.7          0.744367\n",
              "2020-01-29  7480.700195  7514.700195  ...                   3.7          0.744367\n",
              "2020-01-30  7483.600098  7483.600098  ...                   3.7          0.744367\n",
              "2020-01-31  7382.000000  7398.299805  ...                   3.7          0.744367\n",
              "\n",
              "[6528 rows x 10 columns]"
            ]
          },
          "metadata": {
            "tags": []
          },
          "execution_count": 21
        }
      ]
    },
    {
      "cell_type": "code",
      "metadata": {
        "id": "7J8OaKXdS9xJ",
        "colab": {
          "base_uri": "https://localhost:8080/",
          "height": 526
        },
        "outputId": "98cb994e-0954-442f-f3dd-d2147ec5c631"
      },
      "source": [
        "series = list(df_dependent.columns)\n",
        "fig, ax = plt.subplots(figsize = (16,8))\n",
        "for series in series:\n",
        "    x = df3.index\n",
        "    y = df3[series]\n",
        "    ax.plot(x, y, label=series)\n",
        "ax.legend(fontsize=12)\n",
        "plt.xlabel('Date', fontsize=18)\n",
        "plt.ylabel('Level', fontsize=18)\n",
        "plt.title('Time Series of Major Metrics', fontsize=20)\n",
        "plt.show()"
      ],
      "execution_count": null,
      "outputs": [
        {
          "output_type": "display_data",
          "data": {
            "image/png": "[encoded data removed]",
            "text/plain": [
              "<Figure size 1152x576 with 1 Axes>"
            ]
          },
          "metadata": {
            "tags": [],
            "needs_background": "light"
          }
        }
      ]
    },
    {
      "cell_type": "code",
      "metadata": {
        "id": "E3jIB88zS9xK"
      },
      "source": [
        "df2.to_csv('FTSEfundamental.csv')\n"
      ],
      "execution_count": null,
      "outputs": []
    },
    {
      "cell_type": "code",
      "metadata": {
        "id": "_gbGfMTxkD1F"
      },
      "source": [
        ""
      ],
      "execution_count": null,
      "outputs": []
    }
  ]
}