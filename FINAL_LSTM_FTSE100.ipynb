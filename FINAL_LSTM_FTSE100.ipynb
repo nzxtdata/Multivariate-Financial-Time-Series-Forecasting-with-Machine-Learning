{
  "nbformat": 4,
  "nbformat_minor": 0,
  "metadata": {
    "kernelspec": {
      "display_name": "Python 3",
      "language": "python",
      "name": "python3"
    },
    "language_info": {
      "codemirror_mode": {
        "name": "ipython",
        "version": 3
      },
      "file_extension": ".py",
      "mimetype": "text/x-python",
      "name": "python",
      "nbconvert_exporter": "python",
      "pygments_lexer": "ipython3",
      "version": "3.9.5"
    },
    "colab": {
      "name": "FINAL LSTM FTSE100.ipynb",
      "provenance": [],
      "collapsed_sections": []
    }
  },
  "cells": [
    {
      "cell_type": "code",
      "metadata": {
        "id": "iV_y9yKrB61g"
      },
      "source": [
        "import sys\n",
        "import numpy as np\n",
        "import pandas as pd\n",
        "import pickle as pkl\n",
        "\n",
        "from tensorflow.keras.models import Sequential\n",
        "from tensorflow.keras.layers import LSTM, Dense, Dropout, RepeatVector\n",
        "from tensorflow.keras.optimizers import Adam, Nadam\n",
        "from sklearn.preprocessing import MinMaxScaler\n",
        "import matplotlib.pyplot as plt\n",
        "import seaborn as sns\n",
        "\n",
        "sns.set()"
      ],
      "execution_count": null,
      "outputs": []
    },
    {
      "cell_type": "code",
      "metadata": {
        "colab": {
          "base_uri": "https://localhost:8080/",
          "height": 35
        },
        "id": "V_eiLR8hB61g",
        "outputId": "e31a43e0-046f-46ab-9496-a4ee2716c8b9"
      },
      "source": [
        "np.__version__"
      ],
      "execution_count": null,
      "outputs": [
        {
          "output_type": "execute_result",
          "data": {
            "application/vnd.google.colaboratory.intrinsic+json": {
              "type": "string"
            },
            "text/plain": [
              "'1.19.5'"
            ]
          },
          "metadata": {
            "tags": []
          },
          "execution_count": 2
        }
      ]
    },
    {
      "cell_type": "code",
      "metadata": {
        "id": "DvwQ6hIdB61h"
      },
      "source": [
        "# convert series to supervised learning\n",
        "def series_to_supervised(data, column_names, n_in=1, n_out=1, dropnan=True):\n",
        "    n_vars = 1 if type(data) is list else data.shape[1]\n",
        "    df = pd.DataFrame(data)\n",
        "    cols, names = list(), list()\n",
        "    # input sequence (t-n, ... t-1)\n",
        "    for i in range(n_in, 0, -1):\n",
        "        cols.append(df.shift(i))\n",
        "        names += [('{}(t-{})'.format(j, i)) for j in column_names]\n",
        "    # forecast sequence (t, t+1, ... t+n)\n",
        "    for i in range(0, n_out):\n",
        "#         print(\"This should not be happening\")\n",
        "        cols.append(df.shift(-i))\n",
        "#         print(cols)\n",
        "        if i == 0:\n",
        "            names += [('{}(t)'.format(j)) for j in column_names]\n",
        "        else:\n",
        "            names += [('{}(t+{})'.format(j, i)) for j in column_names]\n",
        "    # put it all together\n",
        "    agg = pd.concat(cols, axis=1)\n",
        "    agg.columns = names\n",
        "    # drop rows with NaN values\n",
        "    if dropnan:\n",
        "        agg.dropna(inplace=True)\n",
        "    return agg\n"
      ],
      "execution_count": null,
      "outputs": []
    },
    {
      "cell_type": "markdown",
      "metadata": {
        "id": "nm4NYtItB61i"
      },
      "source": [
        "## Reading and Preprocessing Data"
      ]
    },
    {
      "cell_type": "code",
      "metadata": {
        "id": "ltaYeVWOB61i"
      },
      "source": [
        "df = pd.read_csv('https://raw.githubusercontent.com/nzxtdata/Multivariate-Financial-Time-Series-Forecasting-with-Machine-Learning/main/FTSEfundamental.csv')\n",
        "df['Date'] = pd.to_datetime(df['Date'])\n",
        "df = df.set_index('Date')\n",
        "df = df[df.index.year <= 2020]\n",
        "predict_date = df[df.index >= \"2020-12-01\"][['ftseclose']]\n",
        "# df = df[df.index.year <= 2020]\n"
      ],
      "execution_count": null,
      "outputs": []
    },
    {
      "cell_type": "markdown",
      "metadata": {
        "id": "85q9X8YbB61j"
      },
      "source": [
        "## Converting Data to Supervised"
      ]
    },
    {
      "cell_type": "code",
      "metadata": {
        "id": "zC_0uJIPB61j"
      },
      "source": [
        "supervised_df = series_to_supervised(df, column_names=df.columns, n_in=120, n_out=20, dropnan=True)"
      ],
      "execution_count": null,
      "outputs": []
    },
    {
      "cell_type": "markdown",
      "metadata": {
        "id": "Z2K__1MoB61j"
      },
      "source": [
        "## Creating Train Test Split"
      ]
    },
    {
      "cell_type": "code",
      "metadata": {
        "colab": {
          "base_uri": "https://localhost:8080/"
        },
        "id": "x4rQkIE9B61k",
        "outputId": "75f60c24-d681-411b-93b8-3ca5b0844f6b"
      },
      "source": [
        "values = supervised_df[supervised_df.filter(regex=('t-')).columns]\n",
        "target_values = supervised_df.drop(columns=supervised_df.filter(regex=('t-')).columns)\n",
        "target_values = target_values.values\n",
        "values = values.values\n",
        "\n",
        "scaler_target = MinMaxScaler(feature_range=(-1 ,1))\n",
        "scaled_target = scaler_target.fit_transform(target_values)\n",
        "scaler = MinMaxScaler(feature_range=(-1, 1))\n",
        "scaled = scaler.fit_transform(values)\n",
        "\n",
        "print(\"Splitting data into train, validation, test\")\n",
        "train_X, train_y = scaled[:int(len(values)*0.75)], scaled_target[:int(len(values)*0.75)]\n",
        "valid_X, valid_y = scaled[int(len(values)*0.75):int(len(values)*0.85), :], scaled_target[int(len(values)*0.75):int(len(values)*0.85), :]\n",
        "test_X, test_y = scaled[int(len(values)*0.85):, :], scaled_target[int(len(values)*0.85):, :]\n",
        "\n",
        "ncols = len(df.columns)\n",
        "print(\"{} input columns identified\".format(ncols))"
      ],
      "execution_count": null,
      "outputs": [
        {
          "output_type": "stream",
          "text": [
            "Splitting data into train, validation, test\n",
            "10 input columns identified\n"
          ],
          "name": "stdout"
        }
      ]
    },
    {
      "cell_type": "code",
      "metadata": {
        "id": "dhtzEzVJB61k"
      },
      "source": [
        "train_X = train_X.reshape((train_X.shape[0], int(train_X.shape[1]/ncols), ncols))\n",
        "valid_X = valid_X.reshape((valid_X.shape[0], int(valid_X.shape[1]/ncols), ncols))\n",
        "test_X = test_X.reshape((test_X.shape[0], int(test_X.shape[1]/ncols), ncols))"
      ],
      "execution_count": null,
      "outputs": []
    },
    {
      "cell_type": "code",
      "metadata": {
        "colab": {
          "base_uri": "https://localhost:8080/"
        },
        "id": "SoHLAKfnB61l",
        "outputId": "838040d5-00b0-4df1-d03f-284cf4e5d615"
      },
      "source": [
        "train_y.shape"
      ],
      "execution_count": null,
      "outputs": [
        {
          "output_type": "execute_result",
          "data": {
            "text/plain": [
              "(4965, 200)"
            ]
          },
          "metadata": {
            "tags": []
          },
          "execution_count": 11
        }
      ]
    },
    {
      "cell_type": "markdown",
      "metadata": {
        "id": "5zizpAEHB61l"
      },
      "source": [
        "## Defining Model Architecture"
      ]
    },
    {
      "cell_type": "code",
      "metadata": {
        "colab": {
          "base_uri": "https://localhost:8080/"
        },
        "id": "ZfJGY0qQB61l",
        "outputId": "abeac7af-97eb-46a2-b50a-19b703ff73b4"
      },
      "source": [
        "print(\"Starting network design\")\n",
        "\n",
        "# design network\n",
        "model = Sequential()\n",
        "model.add(LSTM(64, input_shape=(train_X.shape[1], train_X.shape[2]), return_sequences=True))\n",
        "model.add(LSTM(32, input_shape=(train_X.shape[1], train_X.shape[2]), return_sequences=True))\n",
        "model.add(LSTM(32, input_shape=(train_X.shape[1], train_X.shape[2]), return_sequences=False))\n",
        "model.add(Dense(1024, activation='relu'))\n",
        "model.add(Dropout(0.25))\n",
        "model.add(Dense(512, activation='relu'))\n",
        "model.add(Dropout(0.25))\n",
        "model.add(Dense(test_y.shape[1]))\n",
        "adm = Adam(decay=0.2, learning_rate=0.001)\n",
        "ndm = Nadam(schedule_decay=0.1, learning_rate=0.001)\n",
        "model.compile(loss='mean_squared_error', optimizer=adm)\n",
        "\n",
        "print(\"Network designed and compiled\")\n",
        "print(model.summary())"
      ],
      "execution_count": null,
      "outputs": [
        {
          "output_type": "stream",
          "text": [
            "Starting network design\n",
            "Network designed and compiled\n",
            "Model: \"sequential\"\n",
            "_________________________________________________________________\n",
            "Layer (type)                 Output Shape              Param #   \n",
            "=================================================================\n",
            "lstm (LSTM)                  (None, 120, 64)           19200     \n",
            "_________________________________________________________________\n",
            "lstm_1 (LSTM)                (None, 120, 32)           12416     \n",
            "_________________________________________________________________\n",
            "lstm_2 (LSTM)                (None, 32)                8320      \n",
            "_________________________________________________________________\n",
            "dense (Dense)                (None, 1024)              33792     \n",
            "_________________________________________________________________\n",
            "dropout (Dropout)            (None, 1024)              0         \n",
            "_________________________________________________________________\n",
            "dense_1 (Dense)              (None, 512)               524800    \n",
            "_________________________________________________________________\n",
            "dropout_1 (Dropout)          (None, 512)               0         \n",
            "_________________________________________________________________\n",
            "dense_2 (Dense)              (None, 200)               102600    \n",
            "=================================================================\n",
            "Total params: 701,128\n",
            "Trainable params: 701,128\n",
            "Non-trainable params: 0\n",
            "_________________________________________________________________\n",
            "None\n"
          ],
          "name": "stdout"
        }
      ]
    },
    {
      "cell_type": "markdown",
      "metadata": {
        "id": "aNsV3DIbB61m"
      },
      "source": [
        "## Training the Model"
      ]
    },
    {
      "cell_type": "code",
      "metadata": {
        "colab": {
          "base_uri": "https://localhost:8080/"
        },
        "id": "HmMgSb6hB61m",
        "outputId": "82ce149a-0deb-459e-9611-2f0a8253dff7"
      },
      "source": [
        "# fit network\n",
        "print(\"Starting training\")\n",
        "history = model.fit(train_X, train_y, epochs=100, batch_size=64, validation_data=(valid_X, valid_y), verbose=1, shuffle=False)\n",
        "print(\"Training finished\")"
      ],
      "execution_count": null,
      "outputs": [
        {
          "output_type": "stream",
          "text": [
            "Starting training\n",
            "Epoch 1/100\n",
            "78/78 [==============================] - 21s 213ms/step - loss: 0.1972 - val_loss: 0.2675\n",
            "Epoch 2/100\n",
            "78/78 [==============================] - 16s 199ms/step - loss: 0.1093 - val_loss: 0.2004\n",
            "Epoch 3/100\n",
            "78/78 [==============================] - 16s 200ms/step - loss: 0.0873 - val_loss: 0.1623\n",
            "Epoch 4/100\n",
            "78/78 [==============================] - 16s 202ms/step - loss: 0.0788 - val_loss: 0.1448\n",
            "Epoch 5/100\n",
            "78/78 [==============================] - 16s 201ms/step - loss: 0.0746 - val_loss: 0.1352\n",
            "Epoch 6/100\n",
            "78/78 [==============================] - 16s 203ms/step - loss: 0.0717 - val_loss: 0.1290\n",
            "Epoch 7/100\n",
            "78/78 [==============================] - 16s 202ms/step - loss: 0.0695 - val_loss: 0.1247\n",
            "Epoch 8/100\n",
            "78/78 [==============================] - 16s 202ms/step - loss: 0.0677 - val_loss: 0.1215\n",
            "Epoch 9/100\n",
            "78/78 [==============================] - 16s 201ms/step - loss: 0.0662 - val_loss: 0.1190\n",
            "Epoch 10/100\n",
            "78/78 [==============================] - 16s 200ms/step - loss: 0.0649 - val_loss: 0.1169\n",
            "Epoch 11/100\n",
            "78/78 [==============================] - 16s 202ms/step - loss: 0.0637 - val_loss: 0.1152\n",
            "Epoch 12/100\n",
            "78/78 [==============================] - 16s 200ms/step - loss: 0.0626 - val_loss: 0.1137\n",
            "Epoch 13/100\n",
            "78/78 [==============================] - 16s 202ms/step - loss: 0.0617 - val_loss: 0.1123\n",
            "Epoch 14/100\n",
            "78/78 [==============================] - 16s 203ms/step - loss: 0.0608 - val_loss: 0.1111\n",
            "Epoch 15/100\n",
            "78/78 [==============================] - 16s 203ms/step - loss: 0.0599 - val_loss: 0.1101\n",
            "Epoch 16/100\n",
            "78/78 [==============================] - 16s 202ms/step - loss: 0.0592 - val_loss: 0.1091\n",
            "Epoch 17/100\n",
            "78/78 [==============================] - 16s 201ms/step - loss: 0.0583 - val_loss: 0.1083\n",
            "Epoch 18/100\n",
            "78/78 [==============================] - 16s 202ms/step - loss: 0.0576 - val_loss: 0.1075\n",
            "Epoch 19/100\n",
            "78/78 [==============================] - 16s 202ms/step - loss: 0.0569 - val_loss: 0.1068\n",
            "Epoch 20/100\n",
            "78/78 [==============================] - 16s 202ms/step - loss: 0.0562 - val_loss: 0.1061\n",
            "Epoch 21/100\n",
            "78/78 [==============================] - 16s 202ms/step - loss: 0.0557 - val_loss: 0.1055\n",
            "Epoch 22/100\n",
            "78/78 [==============================] - 16s 200ms/step - loss: 0.0551 - val_loss: 0.1049\n",
            "Epoch 23/100\n",
            "78/78 [==============================] - 16s 202ms/step - loss: 0.0545 - val_loss: 0.1044\n",
            "Epoch 24/100\n",
            "78/78 [==============================] - 16s 201ms/step - loss: 0.0540 - val_loss: 0.1038\n",
            "Epoch 25/100\n",
            "78/78 [==============================] - 16s 201ms/step - loss: 0.0536 - val_loss: 0.1034\n",
            "Epoch 26/100\n",
            "78/78 [==============================] - 16s 202ms/step - loss: 0.0532 - val_loss: 0.1029\n",
            "Epoch 27/100\n",
            "78/78 [==============================] - 16s 201ms/step - loss: 0.0526 - val_loss: 0.1024\n",
            "Epoch 28/100\n",
            "78/78 [==============================] - 16s 200ms/step - loss: 0.0523 - val_loss: 0.1020\n",
            "Epoch 29/100\n",
            "78/78 [==============================] - 16s 201ms/step - loss: 0.0519 - val_loss: 0.1016\n",
            "Epoch 30/100\n",
            "78/78 [==============================] - 16s 201ms/step - loss: 0.0515 - val_loss: 0.1012\n",
            "Epoch 31/100\n",
            "78/78 [==============================] - 16s 201ms/step - loss: 0.0511 - val_loss: 0.1009\n",
            "Epoch 32/100\n",
            "78/78 [==============================] - 16s 201ms/step - loss: 0.0508 - val_loss: 0.1006\n",
            "Epoch 33/100\n",
            "78/78 [==============================] - 16s 201ms/step - loss: 0.0503 - val_loss: 0.1002\n",
            "Epoch 34/100\n",
            "78/78 [==============================] - 16s 202ms/step - loss: 0.0501 - val_loss: 0.0999\n",
            "Epoch 35/100\n",
            "78/78 [==============================] - 16s 201ms/step - loss: 0.0497 - val_loss: 0.0996\n",
            "Epoch 36/100\n",
            "78/78 [==============================] - 16s 202ms/step - loss: 0.0495 - val_loss: 0.0993\n",
            "Epoch 37/100\n",
            "78/78 [==============================] - 16s 201ms/step - loss: 0.0492 - val_loss: 0.0990\n",
            "Epoch 38/100\n",
            "78/78 [==============================] - 16s 200ms/step - loss: 0.0488 - val_loss: 0.0988\n",
            "Epoch 39/100\n",
            "78/78 [==============================] - 16s 200ms/step - loss: 0.0486 - val_loss: 0.0985\n",
            "Epoch 40/100\n",
            "78/78 [==============================] - 16s 200ms/step - loss: 0.0484 - val_loss: 0.0983\n",
            "Epoch 41/100\n",
            "78/78 [==============================] - 16s 200ms/step - loss: 0.0481 - val_loss: 0.0980\n",
            "Epoch 42/100\n",
            "78/78 [==============================] - 16s 201ms/step - loss: 0.0478 - val_loss: 0.0978\n",
            "Epoch 43/100\n",
            "78/78 [==============================] - 16s 201ms/step - loss: 0.0475 - val_loss: 0.0976\n",
            "Epoch 44/100\n",
            "78/78 [==============================] - 16s 201ms/step - loss: 0.0474 - val_loss: 0.0974\n",
            "Epoch 45/100\n",
            "78/78 [==============================] - 16s 201ms/step - loss: 0.0472 - val_loss: 0.0972\n",
            "Epoch 46/100\n",
            "78/78 [==============================] - 16s 202ms/step - loss: 0.0470 - val_loss: 0.0970\n",
            "Epoch 47/100\n",
            "78/78 [==============================] - 16s 200ms/step - loss: 0.0469 - val_loss: 0.0968\n",
            "Epoch 48/100\n",
            "78/78 [==============================] - 16s 200ms/step - loss: 0.0465 - val_loss: 0.0966\n",
            "Epoch 49/100\n",
            "78/78 [==============================] - 16s 201ms/step - loss: 0.0464 - val_loss: 0.0965\n",
            "Epoch 50/100\n",
            "78/78 [==============================] - 16s 200ms/step - loss: 0.0461 - val_loss: 0.0963\n",
            "Epoch 51/100\n",
            "78/78 [==============================] - 16s 201ms/step - loss: 0.0461 - val_loss: 0.0961\n",
            "Epoch 52/100\n",
            "78/78 [==============================] - 16s 201ms/step - loss: 0.0458 - val_loss: 0.0960\n",
            "Epoch 53/100\n",
            "78/78 [==============================] - 16s 201ms/step - loss: 0.0457 - val_loss: 0.0958\n",
            "Epoch 54/100\n",
            "78/78 [==============================] - 16s 200ms/step - loss: 0.0455 - val_loss: 0.0957\n",
            "Epoch 55/100\n",
            "78/78 [==============================] - 16s 200ms/step - loss: 0.0453 - val_loss: 0.0955\n",
            "Epoch 56/100\n",
            "78/78 [==============================] - 16s 201ms/step - loss: 0.0452 - val_loss: 0.0954\n",
            "Epoch 57/100\n",
            "78/78 [==============================] - 16s 201ms/step - loss: 0.0451 - val_loss: 0.0953\n",
            "Epoch 58/100\n",
            "78/78 [==============================] - 16s 201ms/step - loss: 0.0449 - val_loss: 0.0951\n",
            "Epoch 59/100\n",
            "78/78 [==============================] - 16s 201ms/step - loss: 0.0448 - val_loss: 0.0950\n",
            "Epoch 60/100\n",
            "78/78 [==============================] - 16s 201ms/step - loss: 0.0446 - val_loss: 0.0949\n",
            "Epoch 61/100\n",
            "78/78 [==============================] - 16s 201ms/step - loss: 0.0446 - val_loss: 0.0948\n",
            "Epoch 62/100\n",
            "78/78 [==============================] - 16s 202ms/step - loss: 0.0443 - val_loss: 0.0946\n",
            "Epoch 63/100\n",
            "78/78 [==============================] - 16s 200ms/step - loss: 0.0443 - val_loss: 0.0945\n",
            "Epoch 64/100\n",
            "78/78 [==============================] - 16s 201ms/step - loss: 0.0441 - val_loss: 0.0944\n",
            "Epoch 65/100\n",
            "78/78 [==============================] - 16s 200ms/step - loss: 0.0440 - val_loss: 0.0943\n",
            "Epoch 66/100\n",
            "78/78 [==============================] - 16s 202ms/step - loss: 0.0438 - val_loss: 0.0942\n",
            "Epoch 67/100\n",
            "78/78 [==============================] - 16s 200ms/step - loss: 0.0437 - val_loss: 0.0941\n",
            "Epoch 68/100\n",
            "78/78 [==============================] - 16s 199ms/step - loss: 0.0437 - val_loss: 0.0940\n",
            "Epoch 69/100\n",
            "78/78 [==============================] - 16s 199ms/step - loss: 0.0435 - val_loss: 0.0940\n",
            "Epoch 70/100\n",
            "78/78 [==============================] - 16s 199ms/step - loss: 0.0435 - val_loss: 0.0939\n",
            "Epoch 71/100\n",
            "78/78 [==============================] - 16s 199ms/step - loss: 0.0434 - val_loss: 0.0938\n",
            "Epoch 72/100\n",
            "78/78 [==============================] - 16s 199ms/step - loss: 0.0432 - val_loss: 0.0937\n",
            "Epoch 73/100\n",
            "78/78 [==============================] - 16s 200ms/step - loss: 0.0431 - val_loss: 0.0936\n",
            "Epoch 74/100\n",
            "78/78 [==============================] - 16s 199ms/step - loss: 0.0430 - val_loss: 0.0935\n",
            "Epoch 75/100\n",
            "78/78 [==============================] - 16s 200ms/step - loss: 0.0429 - val_loss: 0.0934\n",
            "Epoch 76/100\n",
            "78/78 [==============================] - 16s 199ms/step - loss: 0.0428 - val_loss: 0.0934\n",
            "Epoch 77/100\n",
            "78/78 [==============================] - 16s 199ms/step - loss: 0.0427 - val_loss: 0.0933\n",
            "Epoch 78/100\n",
            "78/78 [==============================] - 15s 199ms/step - loss: 0.0427 - val_loss: 0.0932\n",
            "Epoch 79/100\n",
            "78/78 [==============================] - 16s 199ms/step - loss: 0.0426 - val_loss: 0.0931\n",
            "Epoch 80/100\n",
            "78/78 [==============================] - 16s 200ms/step - loss: 0.0425 - val_loss: 0.0930\n",
            "Epoch 81/100\n",
            "78/78 [==============================] - 15s 199ms/step - loss: 0.0424 - val_loss: 0.0930\n",
            "Epoch 82/100\n",
            "78/78 [==============================] - 15s 199ms/step - loss: 0.0422 - val_loss: 0.0929\n",
            "Epoch 83/100\n",
            "78/78 [==============================] - 16s 199ms/step - loss: 0.0421 - val_loss: 0.0928\n",
            "Epoch 84/100\n",
            "78/78 [==============================] - 16s 200ms/step - loss: 0.0421 - val_loss: 0.0928\n",
            "Epoch 85/100\n",
            "78/78 [==============================] - 16s 199ms/step - loss: 0.0421 - val_loss: 0.0927\n",
            "Epoch 86/100\n",
            "78/78 [==============================] - 16s 202ms/step - loss: 0.0420 - val_loss: 0.0926\n",
            "Epoch 87/100\n",
            "78/78 [==============================] - 16s 200ms/step - loss: 0.0419 - val_loss: 0.0926\n",
            "Epoch 88/100\n",
            "78/78 [==============================] - 16s 199ms/step - loss: 0.0419 - val_loss: 0.0925\n",
            "Epoch 89/100\n",
            "78/78 [==============================] - 16s 200ms/step - loss: 0.0418 - val_loss: 0.0925\n",
            "Epoch 90/100\n",
            "78/78 [==============================] - 16s 200ms/step - loss: 0.0417 - val_loss: 0.0924\n",
            "Epoch 91/100\n",
            "78/78 [==============================] - 16s 200ms/step - loss: 0.0416 - val_loss: 0.0924\n",
            "Epoch 92/100\n",
            "78/78 [==============================] - 16s 200ms/step - loss: 0.0413 - val_loss: 0.0923\n",
            "Epoch 93/100\n",
            "78/78 [==============================] - 16s 199ms/step - loss: 0.0415 - val_loss: 0.0923\n",
            "Epoch 94/100\n",
            "78/78 [==============================] - 16s 200ms/step - loss: 0.0415 - val_loss: 0.0922\n",
            "Epoch 95/100\n",
            "78/78 [==============================] - 16s 200ms/step - loss: 0.0414 - val_loss: 0.0922\n",
            "Epoch 96/100\n",
            "78/78 [==============================] - 16s 201ms/step - loss: 0.0412 - val_loss: 0.0921\n",
            "Epoch 97/100\n",
            "78/78 [==============================] - 16s 200ms/step - loss: 0.0413 - val_loss: 0.0921\n",
            "Epoch 98/100\n",
            "78/78 [==============================] - 16s 201ms/step - loss: 0.0412 - val_loss: 0.0920\n",
            "Epoch 99/100\n",
            "78/78 [==============================] - 16s 201ms/step - loss: 0.0410 - val_loss: 0.0920\n",
            "Epoch 100/100\n",
            "78/78 [==============================] - 16s 201ms/step - loss: 0.0410 - val_loss: 0.0919\n",
            "Training finished\n"
          ],
          "name": "stdout"
        }
      ]
    },
    {
      "cell_type": "code",
      "metadata": {
        "colab": {
          "base_uri": "https://localhost:8080/",
          "height": 301
        },
        "id": "rgVOXB5-B61n",
        "outputId": "f0ba3b6d-518f-4685-b8a7-2dbac7220599"
      },
      "source": [
        "plt.plot(history.history['loss'])\n",
        "plt.plot(history.history['val_loss'])\n",
        "plt.title('Model loss')\n",
        "plt.ylabel('loss')\n",
        "plt.xlabel('epoch')\n",
        "plt.legend(['train loss', 'validation loss'], loc='upper left')\n",
        "plt.rcParams[\"figure.figsize\"] = [20,6]\n",
        "plt.show()"
      ],
      "execution_count": null,
      "outputs": [
        {
          "output_type": "display_data",
          "data": {
            "image/png": "[encoded data removed]",
            "text/plain": [
              "<Figure size 432x288 with 1 Axes>"
            ]
          },
          "metadata": {
            "tags": [],
            "needs_background": "light"
          }
        }
      ]
    },
    {
      "cell_type": "markdown",
      "metadata": {
        "id": "LY7pzPIbB61n"
      },
      "source": [
        "## Predicting Test Data"
      ]
    },
    {
      "cell_type": "code",
      "metadata": {
        "colab": {
          "base_uri": "https://localhost:8080/"
        },
        "id": "o5O_E4weB61n",
        "outputId": "835140cb-7b16-4a0b-f7c9-9509a4df010d"
      },
      "source": [
        "predictions = model.predict(test_X)\n",
        "predictions.shape"
      ],
      "execution_count": null,
      "outputs": [
        {
          "output_type": "execute_result",
          "data": {
            "text/plain": [
              "(993, 200)"
            ]
          },
          "metadata": {
            "tags": []
          },
          "execution_count": 15
        }
      ]
    },
    {
      "cell_type": "code",
      "metadata": {
        "id": "y02cEuUsB61o"
      },
      "source": [
        "def transform_predictions(pred_df, cols, scaler, n_days_future=30):\n",
        "    pred_df = pred_df.reshape(-1, len(cols) * n_days_future)\n",
        "\n",
        "    # np array to df\n",
        "    denormalized = scaler.inverse_transform(pred_df)\n",
        "    pred_df = denormalized.reshape((n_days_future, len(cols)))\n",
        "    pred_df = pd.DataFrame(pred_df, columns=cols)\n",
        "\n",
        "    return pred_df"
      ],
      "execution_count": null,
      "outputs": []
    },
    {
      "cell_type": "markdown",
      "metadata": {
        "id": "7IT3fqwyB61o"
      },
      "source": [
        "## Transforming Predictions"
      ]
    },
    {
      "cell_type": "code",
      "metadata": {
        "id": "sPeGE5KQB61o"
      },
      "source": [
        "preds = transform_predictions(predictions[0], df.columns, scaler_target, n_days_future=20)['ftseclose']\n",
        "tests = transform_predictions(test_y[1], df.columns, scaler_target, n_days_future=20)['ftseclose']\n",
        "\n",
        "testing = df[['ftseclose','ftselow', 'ftsehigh']][-20:]\n",
        "testing['pred'] = preds.values"
      ],
      "execution_count": null,
      "outputs": []
    },
    {
      "cell_type": "markdown",
      "metadata": {
        "id": "O214c8tcB61p"
      },
      "source": [
        "## Plotting Results"
      ]
    },
    {
      "cell_type": "code",
      "metadata": {
        "colab": {
          "base_uri": "https://localhost:8080/",
          "height": 395
        },
        "id": "loMeybxMB61p",
        "outputId": "0da5b87d-f187-4353-b1b0-ae7edca591ce"
      },
      "source": [
        "f, ax = plt.subplots(figsize=(15,6))\n",
        "\n",
        "past = df[(df.index >= \"2020-11-01\") & (df.index < \"2020-12-01\")][['ftseclose', 'ftsehigh', 'ftselow']]\n",
        "ax.plot(testing[['pred']], color = 'orangered', label='Prediction')\n",
        "ax.plot(testing[['ftseclose']], color = 'limegreen', label='FTSE_CLOSE')\n",
        "ax.plot(past[['ftseclose']], color = 'cornflowerblue', label='Past FTSE_CLOSE')\n",
        "\n",
        "\n",
        "# ax.fill_between(test.ds, test.pred_lower, test.pred_upper, color='lightcoral', alpha=0.5)\n",
        "ax.fill_between(testing.index, testing.ftselow, testing.ftsehigh, color='lightgreen', alpha=0.5)\n",
        "ax.fill_between(past.index, past.ftselow, past.ftsehigh, color='lightskyblue', alpha=0.5)\n",
        "\n",
        "ax.set_title(\"Multivariate LSTM Forecasting\", size = 15)\n",
        "ax.legend()\n",
        "\n",
        "plt.show()"
      ],
      "execution_count": null,
      "outputs": [
        {
          "output_type": "display_data",
          "data": {
            "image/png": "[encoded data removed]",
            "text/plain": [
              "<Figure size 1080x432 with 1 Axes>"
            ]
          },
          "metadata": {
            "tags": [],
            "needs_background": "light"
          }
        }
      ]
    },
    {
      "cell_type": "code",
      "metadata": {
        "id": "AgBudCqfB61q"
      },
      "source": [
        "from sklearn import metrics\n",
        "def timeseries_evaluation_metrics_func(y_true, y_pred):\n",
        "    \n",
        "    def mean_absolute_percentage_error(y_true, y_pred): \n",
        "        y_true, y_pred = np.array(y_true), np.array(y_pred)\n",
        "        return np.mean(np.abs((y_true - y_pred) / y_true)) * 100\n",
        "    print('Evaluation metric results:-')\n",
        "    print(f'MSE is : {metrics.mean_squared_error(y_true, y_pred)}')\n",
        "    print(f'MAE is : {metrics.mean_absolute_error(y_true, y_pred)}')\n",
        "    print(f'RMSE is : {np.sqrt(metrics.mean_squared_error(y_true, y_pred))}')\n",
        "    print(f'MAPE is : {mean_absolute_percentage_error(y_true, y_pred)}')\n",
        "    print(f'R2 is : {metrics.r2_score(y_true, y_pred)}',end='\\n\\n')"
      ],
      "execution_count": null,
      "outputs": []
    },
    {
      "cell_type": "code",
      "metadata": {
        "colab": {
          "base_uri": "https://localhost:8080/"
        },
        "id": "LgL2H7rcB61q",
        "outputId": "1688a63c-b3b2-44a8-cb14-415b17f93301"
      },
      "source": [
        "timeseries_evaluation_metrics_func(testing.ftseclose, testing.pred)"
      ],
      "execution_count": null,
      "outputs": [
        {
          "output_type": "stream",
          "text": [
            "Evaluation metric results:-\n",
            "MSE is : 48901.63819992542\n",
            "MAE is : 211.12333984375\n",
            "RMSE is : 221.13714794200774\n",
            "MAPE is : 3.2336531261273076\n",
            "R2 is : -14.732721573657916\n",
            "\n"
          ],
          "name": "stdout"
        }
      ]
    },
    {
      "cell_type": "code",
      "metadata": {
        "id": "TJTu8GHFB61q"
      },
      "source": [
        ""
      ],
      "execution_count": null,
      "outputs": []
    }
  ]
}