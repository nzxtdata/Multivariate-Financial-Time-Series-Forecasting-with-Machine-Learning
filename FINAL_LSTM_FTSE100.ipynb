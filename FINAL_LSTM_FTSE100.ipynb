{
  "nbformat": 4,
  "nbformat_minor": 0,
  "metadata": {
    "kernelspec": {
      "display_name": "Python 3",
      "language": "python",
      "name": "python3"
    },
    "language_info": {
      "codemirror_mode": {
        "name": "ipython",
        "version": 3
      },
      "file_extension": ".py",
      "mimetype": "text/x-python",
      "name": "python",
      "nbconvert_exporter": "python",
      "pygments_lexer": "ipython3",
      "version": "3.9.5"
    },
    "colab": {
      "name": "FINAL LSTM FTSE100.ipynb",
      "provenance": [],
      "collapsed_sections": []
    }
  },
  "cells": [
    {
      "cell_type": "code",
      "metadata": {
        "id": "iV_y9yKrB61g"
      },
      "source": [
        "import sys\n",
        "import numpy as np\n",
        "import pandas as pd\n",
        "import pickle as pkl\n",
        "\n",
        "from tensorflow.keras.models import Sequential\n",
        "from tensorflow.keras.layers import LSTM, Dense, Dropout, RepeatVector\n",
        "from tensorflow.keras.optimizers import Adam, Nadam\n",
        "from sklearn.preprocessing import MinMaxScaler\n",
        "import matplotlib.pyplot as plt\n",
        "import seaborn as sns\n",
        "\n",
        "sns.set()"
      ],
      "execution_count": 5,
      "outputs": []
    },
    {
      "cell_type": "code",
      "metadata": {
        "colab": {
          "base_uri": "https://localhost:8080/",
          "height": 35
        },
        "id": "V_eiLR8hB61g",
        "outputId": "fb6e5e33-c342-4c26-8d41-252782c1febc"
      },
      "source": [
        "np.__version__"
      ],
      "execution_count": 6,
      "outputs": [
        {
          "output_type": "execute_result",
          "data": {
            "application/vnd.google.colaboratory.intrinsic+json": {
              "type": "string"
            },
            "text/plain": [
              "'1.19.5'"
            ]
          },
          "metadata": {
            "tags": []
          },
          "execution_count": 6
        }
      ]
    },
    {
      "cell_type": "code",
      "metadata": {
        "id": "DvwQ6hIdB61h"
      },
      "source": [
        "# convert series to supervised learning\n",
        "def series_to_supervised(data, column_names, n_in=1, n_out=1, dropnan=True):\n",
        "    n_vars = 1 if type(data) is list else data.shape[1]\n",
        "    df = pd.DataFrame(data)\n",
        "    cols, names = list(), list()\n",
        "    # input sequence (t-n, ... t-1)\n",
        "    for i in range(n_in, 0, -1):\n",
        "        cols.append(df.shift(i))\n",
        "        names += [('{}(t-{})'.format(j, i)) for j in column_names]\n",
        "    # forecast sequence (t, t+1, ... t+n)\n",
        "    for i in range(0, n_out):\n",
        "#         print(\"This should not be happening\")\n",
        "        cols.append(df.shift(-i))\n",
        "#         print(cols)\n",
        "        if i == 0:\n",
        "            names += [('{}(t)'.format(j)) for j in column_names]\n",
        "        else:\n",
        "            names += [('{}(t+{})'.format(j, i)) for j in column_names]\n",
        "    # put it all together\n",
        "    agg = pd.concat(cols, axis=1)\n",
        "    agg.columns = names\n",
        "    # drop rows with NaN values\n",
        "    if dropnan:\n",
        "        agg.dropna(inplace=True)\n",
        "    return agg\n"
      ],
      "execution_count": 7,
      "outputs": []
    },
    {
      "cell_type": "markdown",
      "metadata": {
        "id": "nm4NYtItB61i"
      },
      "source": [
        "## Reading and Preprocessing Data"
      ]
    },
    {
      "cell_type": "code",
      "metadata": {
        "id": "ltaYeVWOB61i"
      },
      "source": [
        "df = pd.read_csv('https://raw.githubusercontent.com/nzxtdata/Multivariate-Financial-Time-Series-Forecasting-with-Machine-Learning/main/FTSEfundamental.csv')\n",
        "df['Date'] = pd.to_datetime(df['Date'])\n",
        "df = df.set_index('Date')\n",
        "df = df[df.index.year <= 2020]\n",
        "predict_date = df[df.index >= \"2020-12-01\"][['ftseclose']]\n",
        "# df = df[df.index.year <= 2020]"
      ],
      "execution_count": 8,
      "outputs": []
    },
    {
      "cell_type": "markdown",
      "metadata": {
        "id": "85q9X8YbB61j"
      },
      "source": [
        "## Converting Data to Supervised"
      ]
    },
    {
      "cell_type": "code",
      "metadata": {
        "id": "zC_0uJIPB61j"
      },
      "source": [
        "supervised_df = series_to_supervised(df, column_names=df.columns, n_in=120, n_out=20, dropnan=True)"
      ],
      "execution_count": 9,
      "outputs": []
    },
    {
      "cell_type": "markdown",
      "metadata": {
        "id": "Z2K__1MoB61j"
      },
      "source": [
        "## Creating Train Test Split"
      ]
    },
    {
      "cell_type": "code",
      "metadata": {
        "colab": {
          "base_uri": "https://localhost:8080/"
        },
        "id": "x4rQkIE9B61k",
        "outputId": "7f1a64d7-da1a-4101-c8a5-bf096c1b28b9"
      },
      "source": [
        "values = supervised_df[supervised_df.filter(regex=('t-')).columns]\n",
        "target_values = supervised_df.drop(columns=supervised_df.filter(regex=('t-')).columns)\n",
        "target_values = target_values.values\n",
        "values = values.values\n",
        "\n",
        "scaler_target = MinMaxScaler(feature_range=(-1 ,1))\n",
        "scaled_target = scaler_target.fit_transform(target_values)\n",
        "scaler = MinMaxScaler(feature_range=(-1, 1))\n",
        "scaled = scaler.fit_transform(values)\n",
        "\n",
        "print(\"Splitting data into train, validation, test\")\n",
        "train_X, train_y = scaled[:int(len(values)*0.60)], scaled_target[:int(len(values)*0.60)]\n",
        "valid_X, valid_y = scaled[int(len(values)*0.60):int(len(values)*0.85), :], scaled_target[int(len(values)*0.60):int(len(values)*0.85), :]\n",
        "test_X, test_y = scaled[int(len(values)*0.85):, :], scaled_target[int(len(values)*0.85):, :]\n",
        "\n",
        "ncols = len(df.columns)\n",
        "print(\"{} input columns identified\".format(ncols))"
      ],
      "execution_count": 10,
      "outputs": [
        {
          "output_type": "stream",
          "text": [
            "Splitting data into train, validation, test\n",
            "10 input columns identified\n"
          ],
          "name": "stdout"
        }
      ]
    },
    {
      "cell_type": "code",
      "metadata": {
        "id": "dhtzEzVJB61k"
      },
      "source": [
        "train_X = train_X.reshape((train_X.shape[0], int(train_X.shape[1]/ncols), ncols))\n",
        "valid_X = valid_X.reshape((valid_X.shape[0], int(valid_X.shape[1]/ncols), ncols))\n",
        "test_X = test_X.reshape((test_X.shape[0], int(test_X.shape[1]/ncols), ncols))"
      ],
      "execution_count": 11,
      "outputs": []
    },
    {
      "cell_type": "code",
      "metadata": {
        "colab": {
          "base_uri": "https://localhost:8080/"
        },
        "id": "SoHLAKfnB61l",
        "outputId": "43d3d60e-cf92-4287-9c29-1de370332fef"
      },
      "source": [
        "train_y.shape"
      ],
      "execution_count": 12,
      "outputs": [
        {
          "output_type": "execute_result",
          "data": {
            "text/plain": [
              "(3972, 200)"
            ]
          },
          "metadata": {
            "tags": []
          },
          "execution_count": 12
        }
      ]
    },
    {
      "cell_type": "markdown",
      "metadata": {
        "id": "5zizpAEHB61l"
      },
      "source": [
        "## Defining Model Architecture"
      ]
    },
    {
      "cell_type": "code",
      "metadata": {
        "colab": {
          "base_uri": "https://localhost:8080/"
        },
        "id": "ZfJGY0qQB61l",
        "outputId": "9f0d78e4-0d77-4e67-850a-29571a7af0b9"
      },
      "source": [
        "print(\"Starting network design\")\n",
        "\n",
        "# design network\n",
        "model = Sequential()\n",
        "model.add(LSTM(64, input_shape=(train_X.shape[1], train_X.shape[2]), return_sequences=True))\n",
        "model.add(LSTM(32, input_shape=(train_X.shape[1], train_X.shape[2]), return_sequences=True))\n",
        "model.add(LSTM(32, input_shape=(train_X.shape[1], train_X.shape[2]), return_sequences=False))\n",
        "model.add(Dense(1024, activation='relu'))\n",
        "model.add(Dropout(0.25))\n",
        "model.add(Dense(512, activation='relu'))\n",
        "model.add(Dropout(0.25))\n",
        "model.add(Dense(test_y.shape[1]))\n",
        "adm = Adam(decay=0.2, learning_rate=0.001)\n",
        "ndm = Nadam(schedule_decay=0.1, learning_rate=0.001)\n",
        "model.compile(loss='mean_squared_error', optimizer=adm)\n",
        "\n",
        "print(\"Network designed and compiled\")\n",
        "print(model.summary())"
      ],
      "execution_count": 13,
      "outputs": [
        {
          "output_type": "stream",
          "text": [
            "Starting network design\n",
            "Network designed and compiled\n",
            "Model: \"sequential\"\n",
            "_________________________________________________________________\n",
            "Layer (type)                 Output Shape              Param #   \n",
            "=================================================================\n",
            "lstm (LSTM)                  (None, 120, 64)           19200     \n",
            "_________________________________________________________________\n",
            "lstm_1 (LSTM)                (None, 120, 32)           12416     \n",
            "_________________________________________________________________\n",
            "lstm_2 (LSTM)                (None, 32)                8320      \n",
            "_________________________________________________________________\n",
            "dense (Dense)                (None, 1024)              33792     \n",
            "_________________________________________________________________\n",
            "dropout (Dropout)            (None, 1024)              0         \n",
            "_________________________________________________________________\n",
            "dense_1 (Dense)              (None, 512)               524800    \n",
            "_________________________________________________________________\n",
            "dropout_1 (Dropout)          (None, 512)               0         \n",
            "_________________________________________________________________\n",
            "dense_2 (Dense)              (None, 200)               102600    \n",
            "=================================================================\n",
            "Total params: 701,128\n",
            "Trainable params: 701,128\n",
            "Non-trainable params: 0\n",
            "_________________________________________________________________\n",
            "None\n"
          ],
          "name": "stdout"
        }
      ]
    },
    {
      "cell_type": "markdown",
      "metadata": {
        "id": "aNsV3DIbB61m"
      },
      "source": [
        "## Training the Model"
      ]
    },
    {
      "cell_type": "code",
      "metadata": {
        "colab": {
          "base_uri": "https://localhost:8080/"
        },
        "id": "HmMgSb6hB61m",
        "outputId": "6996d63a-c4ff-4f70-86a7-746e14323ed7"
      },
      "source": [
        "# fit network\n",
        "print(\"Starting training\")\n",
        "history = model.fit(train_X, train_y, epochs=100, batch_size=64, validation_data=(valid_X, valid_y), verbose=1, shuffle=False)\n",
        "print(\"Training finished\")"
      ],
      "execution_count": 14,
      "outputs": [
        {
          "output_type": "stream",
          "text": [
            "Starting training\n",
            "Epoch 1/100\n",
            "63/63 [==============================] - 20s 236ms/step - loss: 0.1993 - val_loss: 0.2007\n",
            "Epoch 2/100\n",
            "63/63 [==============================] - 14s 218ms/step - loss: 0.1116 - val_loss: 0.1697\n",
            "Epoch 3/100\n",
            "63/63 [==============================] - 14s 224ms/step - loss: 0.0897 - val_loss: 0.1466\n",
            "Epoch 4/100\n",
            "63/63 [==============================] - 14s 223ms/step - loss: 0.0793 - val_loss: 0.1353\n",
            "Epoch 5/100\n",
            "63/63 [==============================] - 14s 221ms/step - loss: 0.0744 - val_loss: 0.1297\n",
            "Epoch 6/100\n",
            "63/63 [==============================] - 14s 226ms/step - loss: 0.0713 - val_loss: 0.1265\n",
            "Epoch 7/100\n",
            "63/63 [==============================] - 14s 225ms/step - loss: 0.0692 - val_loss: 0.1245\n",
            "Epoch 8/100\n",
            "63/63 [==============================] - 14s 222ms/step - loss: 0.0675 - val_loss: 0.1231\n",
            "Epoch 9/100\n",
            "63/63 [==============================] - 14s 219ms/step - loss: 0.0665 - val_loss: 0.1221\n",
            "Epoch 10/100\n",
            "63/63 [==============================] - 14s 221ms/step - loss: 0.0656 - val_loss: 0.1214\n",
            "Epoch 11/100\n",
            "63/63 [==============================] - 14s 223ms/step - loss: 0.0647 - val_loss: 0.1208\n",
            "Epoch 12/100\n",
            "63/63 [==============================] - 14s 223ms/step - loss: 0.0638 - val_loss: 0.1204\n",
            "Epoch 13/100\n",
            "63/63 [==============================] - 14s 222ms/step - loss: 0.0634 - val_loss: 0.1200\n",
            "Epoch 14/100\n",
            "63/63 [==============================] - 14s 220ms/step - loss: 0.0628 - val_loss: 0.1197\n",
            "Epoch 15/100\n",
            "63/63 [==============================] - 14s 222ms/step - loss: 0.0622 - val_loss: 0.1195\n",
            "Epoch 16/100\n",
            "63/63 [==============================] - 14s 225ms/step - loss: 0.0618 - val_loss: 0.1193\n",
            "Epoch 17/100\n",
            "63/63 [==============================] - 14s 220ms/step - loss: 0.0612 - val_loss: 0.1191\n",
            "Epoch 18/100\n",
            "63/63 [==============================] - 14s 222ms/step - loss: 0.0609 - val_loss: 0.1190\n",
            "Epoch 19/100\n",
            "63/63 [==============================] - 14s 227ms/step - loss: 0.0605 - val_loss: 0.1188\n",
            "Epoch 20/100\n",
            "63/63 [==============================] - 14s 225ms/step - loss: 0.0602 - val_loss: 0.1187\n",
            "Epoch 21/100\n",
            "63/63 [==============================] - 14s 222ms/step - loss: 0.0600 - val_loss: 0.1186\n",
            "Epoch 22/100\n",
            "63/63 [==============================] - 14s 221ms/step - loss: 0.0594 - val_loss: 0.1185\n",
            "Epoch 23/100\n",
            "63/63 [==============================] - 14s 221ms/step - loss: 0.0593 - val_loss: 0.1184\n",
            "Epoch 24/100\n",
            "63/63 [==============================] - 14s 225ms/step - loss: 0.0589 - val_loss: 0.1184\n",
            "Epoch 25/100\n",
            "63/63 [==============================] - 14s 222ms/step - loss: 0.0586 - val_loss: 0.1183\n",
            "Epoch 26/100\n",
            "63/63 [==============================] - 14s 220ms/step - loss: 0.0584 - val_loss: 0.1182\n",
            "Epoch 27/100\n",
            "63/63 [==============================] - 14s 222ms/step - loss: 0.0582 - val_loss: 0.1181\n",
            "Epoch 28/100\n",
            "63/63 [==============================] - 14s 224ms/step - loss: 0.0579 - val_loss: 0.1181\n",
            "Epoch 29/100\n",
            "63/63 [==============================] - 14s 225ms/step - loss: 0.0579 - val_loss: 0.1181\n",
            "Epoch 30/100\n",
            "63/63 [==============================] - 14s 223ms/step - loss: 0.0574 - val_loss: 0.1180\n",
            "Epoch 31/100\n",
            "63/63 [==============================] - 14s 224ms/step - loss: 0.0573 - val_loss: 0.1180\n",
            "Epoch 32/100\n",
            "63/63 [==============================] - 14s 221ms/step - loss: 0.0572 - val_loss: 0.1179\n",
            "Epoch 33/100\n",
            "63/63 [==============================] - 14s 219ms/step - loss: 0.0568 - val_loss: 0.1179\n",
            "Epoch 34/100\n",
            "63/63 [==============================] - 14s 216ms/step - loss: 0.0567 - val_loss: 0.1179\n",
            "Epoch 35/100\n",
            "63/63 [==============================] - 14s 220ms/step - loss: 0.0566 - val_loss: 0.1178\n",
            "Epoch 36/100\n",
            "63/63 [==============================] - 14s 220ms/step - loss: 0.0564 - val_loss: 0.1178\n",
            "Epoch 37/100\n",
            "63/63 [==============================] - 14s 222ms/step - loss: 0.0560 - val_loss: 0.1177\n",
            "Epoch 38/100\n",
            "63/63 [==============================] - 14s 220ms/step - loss: 0.0559 - val_loss: 0.1177\n",
            "Epoch 39/100\n",
            "63/63 [==============================] - 14s 218ms/step - loss: 0.0557 - val_loss: 0.1177\n",
            "Epoch 40/100\n",
            "63/63 [==============================] - 14s 220ms/step - loss: 0.0556 - val_loss: 0.1177\n",
            "Epoch 41/100\n",
            "63/63 [==============================] - 14s 223ms/step - loss: 0.0555 - val_loss: 0.1176\n",
            "Epoch 42/100\n",
            "63/63 [==============================] - 14s 224ms/step - loss: 0.0553 - val_loss: 0.1176\n",
            "Epoch 43/100\n",
            "63/63 [==============================] - 14s 228ms/step - loss: 0.0550 - val_loss: 0.1176\n",
            "Epoch 44/100\n",
            "63/63 [==============================] - 14s 229ms/step - loss: 0.0549 - val_loss: 0.1176\n",
            "Epoch 45/100\n",
            "63/63 [==============================] - 14s 225ms/step - loss: 0.0548 - val_loss: 0.1175\n",
            "Epoch 46/100\n",
            "63/63 [==============================] - 14s 227ms/step - loss: 0.0546 - val_loss: 0.1175\n",
            "Epoch 47/100\n",
            "63/63 [==============================] - 14s 222ms/step - loss: 0.0545 - val_loss: 0.1175\n",
            "Epoch 48/100\n",
            "63/63 [==============================] - 14s 221ms/step - loss: 0.0543 - val_loss: 0.1175\n",
            "Epoch 49/100\n",
            "63/63 [==============================] - 14s 219ms/step - loss: 0.0542 - val_loss: 0.1175\n",
            "Epoch 50/100\n",
            "63/63 [==============================] - 14s 223ms/step - loss: 0.0540 - val_loss: 0.1174\n",
            "Epoch 51/100\n",
            "63/63 [==============================] - 14s 225ms/step - loss: 0.0539 - val_loss: 0.1174\n",
            "Epoch 52/100\n",
            "63/63 [==============================] - 14s 221ms/step - loss: 0.0538 - val_loss: 0.1174\n",
            "Epoch 53/100\n",
            "63/63 [==============================] - 14s 221ms/step - loss: 0.0536 - val_loss: 0.1174\n",
            "Epoch 54/100\n",
            "63/63 [==============================] - 14s 223ms/step - loss: 0.0534 - val_loss: 0.1173\n",
            "Epoch 55/100\n",
            "63/63 [==============================] - 14s 221ms/step - loss: 0.0534 - val_loss: 0.1173\n",
            "Epoch 56/100\n",
            "63/63 [==============================] - 14s 221ms/step - loss: 0.0533 - val_loss: 0.1173\n",
            "Epoch 57/100\n",
            "63/63 [==============================] - 14s 222ms/step - loss: 0.0531 - val_loss: 0.1173\n",
            "Epoch 58/100\n",
            "63/63 [==============================] - 14s 226ms/step - loss: 0.0531 - val_loss: 0.1173\n",
            "Epoch 59/100\n",
            "63/63 [==============================] - 14s 228ms/step - loss: 0.0529 - val_loss: 0.1173\n",
            "Epoch 60/100\n",
            "63/63 [==============================] - 14s 224ms/step - loss: 0.0527 - val_loss: 0.1172\n",
            "Epoch 61/100\n",
            "63/63 [==============================] - 14s 228ms/step - loss: 0.0526 - val_loss: 0.1172\n",
            "Epoch 62/100\n",
            "63/63 [==============================] - 14s 226ms/step - loss: 0.0525 - val_loss: 0.1172\n",
            "Epoch 63/100\n",
            "63/63 [==============================] - 14s 225ms/step - loss: 0.0525 - val_loss: 0.1172\n",
            "Epoch 64/100\n",
            "63/63 [==============================] - 14s 220ms/step - loss: 0.0523 - val_loss: 0.1172\n",
            "Epoch 65/100\n",
            "63/63 [==============================] - 14s 221ms/step - loss: 0.0521 - val_loss: 0.1171\n",
            "Epoch 66/100\n",
            "63/63 [==============================] - 14s 222ms/step - loss: 0.0520 - val_loss: 0.1171\n",
            "Epoch 67/100\n",
            "63/63 [==============================] - 16s 256ms/step - loss: 0.0518 - val_loss: 0.1171\n",
            "Epoch 68/100\n",
            "63/63 [==============================] - 15s 245ms/step - loss: 0.0518 - val_loss: 0.1171\n",
            "Epoch 69/100\n",
            "63/63 [==============================] - 16s 250ms/step - loss: 0.0517 - val_loss: 0.1171\n",
            "Epoch 70/100\n",
            "63/63 [==============================] - 15s 240ms/step - loss: 0.0517 - val_loss: 0.1171\n",
            "Epoch 71/100\n",
            "63/63 [==============================] - 14s 221ms/step - loss: 0.0516 - val_loss: 0.1171\n",
            "Epoch 72/100\n",
            "63/63 [==============================] - 14s 220ms/step - loss: 0.0514 - val_loss: 0.1170\n",
            "Epoch 73/100\n",
            "63/63 [==============================] - 14s 223ms/step - loss: 0.0514 - val_loss: 0.1170\n",
            "Epoch 74/100\n",
            "63/63 [==============================] - 14s 220ms/step - loss: 0.0511 - val_loss: 0.1170\n",
            "Epoch 75/100\n",
            "63/63 [==============================] - 14s 224ms/step - loss: 0.0511 - val_loss: 0.1170\n",
            "Epoch 76/100\n",
            "63/63 [==============================] - 14s 221ms/step - loss: 0.0509 - val_loss: 0.1170\n",
            "Epoch 77/100\n",
            "63/63 [==============================] - 14s 220ms/step - loss: 0.0509 - val_loss: 0.1170\n",
            "Epoch 78/100\n",
            "63/63 [==============================] - 14s 225ms/step - loss: 0.0507 - val_loss: 0.1169\n",
            "Epoch 79/100\n",
            "63/63 [==============================] - 14s 220ms/step - loss: 0.0506 - val_loss: 0.1169\n",
            "Epoch 80/100\n",
            "63/63 [==============================] - 14s 220ms/step - loss: 0.0506 - val_loss: 0.1169\n",
            "Epoch 81/100\n",
            "63/63 [==============================] - 14s 217ms/step - loss: 0.0505 - val_loss: 0.1169\n",
            "Epoch 82/100\n",
            "63/63 [==============================] - 14s 219ms/step - loss: 0.0503 - val_loss: 0.1169\n",
            "Epoch 83/100\n",
            "63/63 [==============================] - 14s 219ms/step - loss: 0.0502 - val_loss: 0.1169\n",
            "Epoch 84/100\n",
            "63/63 [==============================] - 14s 222ms/step - loss: 0.0503 - val_loss: 0.1168\n",
            "Epoch 85/100\n",
            "63/63 [==============================] - 14s 221ms/step - loss: 0.0502 - val_loss: 0.1168\n",
            "Epoch 86/100\n",
            "63/63 [==============================] - 14s 220ms/step - loss: 0.0501 - val_loss: 0.1168\n",
            "Epoch 87/100\n",
            "63/63 [==============================] - 14s 219ms/step - loss: 0.0500 - val_loss: 0.1168\n",
            "Epoch 88/100\n",
            "63/63 [==============================] - 14s 220ms/step - loss: 0.0498 - val_loss: 0.1168\n",
            "Epoch 89/100\n",
            "63/63 [==============================] - 14s 219ms/step - loss: 0.0497 - val_loss: 0.1167\n",
            "Epoch 90/100\n",
            "63/63 [==============================] - 14s 219ms/step - loss: 0.0497 - val_loss: 0.1167\n",
            "Epoch 91/100\n",
            "63/63 [==============================] - 14s 218ms/step - loss: 0.0495 - val_loss: 0.1167\n",
            "Epoch 92/100\n",
            "63/63 [==============================] - 14s 218ms/step - loss: 0.0495 - val_loss: 0.1167\n",
            "Epoch 93/100\n",
            "63/63 [==============================] - 14s 219ms/step - loss: 0.0494 - val_loss: 0.1167\n",
            "Epoch 94/100\n",
            "63/63 [==============================] - 14s 219ms/step - loss: 0.0492 - val_loss: 0.1167\n",
            "Epoch 95/100\n",
            "63/63 [==============================] - 14s 219ms/step - loss: 0.0492 - val_loss: 0.1166\n",
            "Epoch 96/100\n",
            "63/63 [==============================] - 14s 219ms/step - loss: 0.0493 - val_loss: 0.1166\n",
            "Epoch 97/100\n",
            "63/63 [==============================] - 14s 224ms/step - loss: 0.0491 - val_loss: 0.1166\n",
            "Epoch 98/100\n",
            "63/63 [==============================] - 14s 219ms/step - loss: 0.0489 - val_loss: 0.1166\n",
            "Epoch 99/100\n",
            "63/63 [==============================] - 14s 219ms/step - loss: 0.0490 - val_loss: 0.1166\n",
            "Epoch 100/100\n",
            "63/63 [==============================] - 14s 217ms/step - loss: 0.0490 - val_loss: 0.1166\n",
            "Training finished\n"
          ],
          "name": "stdout"
        }
      ]
    },
    {
      "cell_type": "code",
      "metadata": {
        "colab": {
          "base_uri": "https://localhost:8080/",
          "height": 410
        },
        "id": "rgVOXB5-B61n",
        "outputId": "75e30ab6-f5c5-4d1a-c2cb-5725b2ac0fea"
      },
      "source": [
        "plt.plot(history.history['loss'])\n",
        "plt.plot(history.history['val_loss'])\n",
        "plt.title('Model loss')\n",
        "plt.ylabel('loss')\n",
        "plt.xlabel('epoch')\n",
        "plt.legend(['train loss', 'validation loss'], loc='upper left')\n",
        "plt.rcParams[\"figure.figsize\"] = [20,6]\n",
        "plt.show()"
      ],
      "execution_count": 22,
      "outputs": [
        {
          "output_type": "display_data",
          "data": {
            "image/png": "[encoded data removed]",
            "text/plain": [
              "<Figure size 1440x432 with 1 Axes>"
            ]
          },
          "metadata": {
            "tags": []
          }
        }
      ]
    },
    {
      "cell_type": "markdown",
      "metadata": {
        "id": "LY7pzPIbB61n"
      },
      "source": [
        "## Predicting Test Data"
      ]
    },
    {
      "cell_type": "code",
      "metadata": {
        "colab": {
          "base_uri": "https://localhost:8080/"
        },
        "id": "o5O_E4weB61n",
        "outputId": "5c964465-c4b7-4621-aaae-ef4eee89d465"
      },
      "source": [
        "predictions = model.predict(test_X)\n",
        "predictions.shape"
      ],
      "execution_count": 23,
      "outputs": [
        {
          "output_type": "execute_result",
          "data": {
            "text/plain": [
              "(993, 200)"
            ]
          },
          "metadata": {
            "tags": []
          },
          "execution_count": 23
        }
      ]
    },
    {
      "cell_type": "code",
      "metadata": {
        "id": "y02cEuUsB61o"
      },
      "source": [
        "def transform_predictions(pred_df, cols, scaler, n_days_future=30):\n",
        "    pred_df = pred_df.reshape(-1, len(cols) * n_days_future)\n",
        "\n",
        "    # np array to df\n",
        "    denormalized = scaler.inverse_transform(pred_df)\n",
        "    pred_df = denormalized.reshape((n_days_future, len(cols)))\n",
        "    pred_df = pd.DataFrame(pred_df, columns=cols)\n",
        "\n",
        "    return pred_df"
      ],
      "execution_count": 24,
      "outputs": []
    },
    {
      "cell_type": "markdown",
      "metadata": {
        "id": "7IT3fqwyB61o"
      },
      "source": [
        "## Transforming Predictions"
      ]
    },
    {
      "cell_type": "code",
      "metadata": {
        "id": "sPeGE5KQB61o"
      },
      "source": [
        "preds = transform_predictions(predictions[0], df.columns, scaler_target, n_days_future=20)['ftseclose']\n",
        "tests = transform_predictions(test_y[1], df.columns, scaler_target, n_days_future=20)['ftseclose']\n",
        "\n",
        "testing = df[['ftseclose','ftselow', 'ftsehigh']][-20:]\n",
        "testing['pred'] = preds.values"
      ],
      "execution_count": 25,
      "outputs": []
    },
    {
      "cell_type": "markdown",
      "metadata": {
        "id": "O214c8tcB61p"
      },
      "source": [
        "## Plotting Results"
      ]
    },
    {
      "cell_type": "code",
      "metadata": {
        "colab": {
          "base_uri": "https://localhost:8080/",
          "height": 394
        },
        "id": "loMeybxMB61p",
        "outputId": "a205c220-a860-4d32-b317-b7e894a02145"
      },
      "source": [
        "f, ax = plt.subplots(figsize=(15,6))\n",
        "\n",
        "past = df[(df.index >= \"2020-11-01\") & (df.index < \"2020-12-01\")][['ftseclose', 'ftsehigh', 'ftselow']]\n",
        "ax.plot(testing[['pred']], color = 'orangered', label='Prediction')\n",
        "ax.plot(testing[['ftseclose']], color = 'limegreen', label='FTSE_CLOSE')\n",
        "ax.plot(past[['ftseclose']], color = 'cornflowerblue', label='Past FTSE_CLOSE')\n",
        "\n",
        "\n",
        "# ax.fill_between(test.ds, test.pred_lower, test.pred_upper, color='lightcoral', alpha=0.5)\n",
        "ax.fill_between(testing.index, testing.ftselow, testing.ftsehigh, color='lightgreen', alpha=0.5)\n",
        "ax.fill_between(past.index, past.ftselow, past.ftsehigh, color='lightskyblue', alpha=0.5)\n",
        "\n",
        "ax.set_title(\"Multivariate LSTM Forecasting\", size = 15)\n",
        "ax.legend()\n",
        "\n",
        "plt.show()"
      ],
      "execution_count": 26,
      "outputs": [
        {
          "output_type": "display_data",
          "data": {
            "image/png": "[encoded data removed]",
            "text/plain": [
              "<Figure size 1080x432 with 1 Axes>"
            ]
          },
          "metadata": {
            "tags": []
          }
        }
      ]
    },
    {
      "cell_type": "code",
      "metadata": {
        "id": "AgBudCqfB61q"
      },
      "source": [
        "from sklearn import metrics\n",
        "def timeseries_evaluation_metrics_func(y_true, y_pred):\n",
        "    \n",
        "    def mean_absolute_percentage_error(y_true, y_pred): \n",
        "        y_true, y_pred = np.array(y_true), np.array(y_pred)\n",
        "        return np.mean(np.abs((y_true - y_pred) / y_true)) * 100\n",
        "    print('Evaluation metric results:-')\n",
        "    print(f'MSE is : {metrics.mean_squared_error(y_true, y_pred)}')\n",
        "    print(f'MAE is : {metrics.mean_absolute_error(y_true, y_pred)}')\n",
        "    print(f'RMSE is : {np.sqrt(metrics.mean_squared_error(y_true, y_pred))}')\n",
        "    print(f'MAPE is : {mean_absolute_percentage_error(y_true, y_pred)}')\n",
        "    print(f'R2 is : {metrics.r2_score(y_true, y_pred)}',end='\\n\\n')"
      ],
      "execution_count": 27,
      "outputs": []
    },
    {
      "cell_type": "code",
      "metadata": {
        "colab": {
          "base_uri": "https://localhost:8080/"
        },
        "id": "LgL2H7rcB61q",
        "outputId": "1240bb14-64a1-47f2-94b7-d705a4343638"
      },
      "source": [
        "timeseries_evaluation_metrics_func(testing.ftseclose, testing.pred)"
      ],
      "execution_count": 28,
      "outputs": [
        {
          "output_type": "stream",
          "text": [
            "Evaluation metric results:-\n",
            "MSE is : 222928.13768299817\n",
            "MAE is : 460.2055419921875\n",
            "RMSE is : 472.15266353479166\n",
            "MAPE is : 7.0465375549776414\n",
            "R2 is : -70.72083492912589\n",
            "\n"
          ],
          "name": "stdout"
        }
      ]
    },
    {
      "cell_type": "code",
      "metadata": {
        "id": "TJTu8GHFB61q"
      },
      "source": [
        ""
      ],
      "execution_count": 21,
      "outputs": []
    }
  ]
}